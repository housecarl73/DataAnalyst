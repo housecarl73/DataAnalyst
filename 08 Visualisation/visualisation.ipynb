{
 "cells": [
  {
   "cell_type": "markdown",
   "metadata": {},
   "source": [
    "## Описание проекта\n",
    "\n",
    "Перед открытием своего заведения нужно подготовить исследование рынка. У нас есть открытые данные о заведениях общественного питания в Москве."
   ]
  },
  {
   "cell_type": "markdown",
   "metadata": {},
   "source": [
    "### Описание данных\n",
    "Таблица rest_data:\n",
    "- object_name — название объекта общественного питания;\n",
    "- chain — сетевой ресторан;\n",
    "- object_type — тип объекта общественного питания;\n",
    "- address — адрес;\n",
    "- number — количество посадочных мест."
   ]
  },
  {
   "cell_type": "markdown",
   "metadata": {},
   "source": [
    "1. [Открытие данных](#open)\n",
    "2. [Предобработка данных](#preprocessing)"
   ]
  },
  {
   "cell_type": "markdown",
   "metadata": {},
   "source": [
    "### Открытие данных. <a id=\"open\"></a>"
   ]
  },
  {
   "cell_type": "code",
   "execution_count": 1,
   "metadata": {},
   "outputs": [],
   "source": [
    "import pandas as pd\n",
    "import matplotlib.pyplot as plt\n",
    "import seaborn as sns\n",
    "import numpy as np"
   ]
  },
  {
   "cell_type": "code",
   "execution_count": 2,
   "metadata": {},
   "outputs": [],
   "source": [
    "rest_data = pd.read_csv('/datasets/rest_data.csv')\n",
    "rest_data.to_csv('rest_data', sep=',', index_label =False)"
   ]
  },
  {
   "cell_type": "code",
   "execution_count": 3,
   "metadata": {},
   "outputs": [
    {
     "name": "stdout",
     "output_type": "stream",
     "text": [
      "<class 'pandas.core.frame.DataFrame'>\n",
      "RangeIndex: 15366 entries, 0 to 15365\n",
      "Data columns (total 6 columns):\n",
      "id             15366 non-null int64\n",
      "object_name    15366 non-null object\n",
      "chain          15366 non-null object\n",
      "object_type    15366 non-null object\n",
      "address        15366 non-null object\n",
      "number         15366 non-null int64\n",
      "dtypes: int64(2), object(4)\n",
      "memory usage: 720.4+ KB\n"
     ]
    }
   ],
   "source": [
    "rest_data.info()"
   ]
  },
  {
   "cell_type": "code",
   "execution_count": 4,
   "metadata": {
    "scrolled": true
   },
   "outputs": [
    {
     "data": {
      "text/html": [
       "<div>\n",
       "<style scoped>\n",
       "    .dataframe tbody tr th:only-of-type {\n",
       "        vertical-align: middle;\n",
       "    }\n",
       "\n",
       "    .dataframe tbody tr th {\n",
       "        vertical-align: top;\n",
       "    }\n",
       "\n",
       "    .dataframe thead th {\n",
       "        text-align: right;\n",
       "    }\n",
       "</style>\n",
       "<table border=\"1\" class=\"dataframe\">\n",
       "  <thead>\n",
       "    <tr style=\"text-align: right;\">\n",
       "      <th></th>\n",
       "      <th>id</th>\n",
       "      <th>object_name</th>\n",
       "      <th>chain</th>\n",
       "      <th>object_type</th>\n",
       "      <th>address</th>\n",
       "      <th>number</th>\n",
       "    </tr>\n",
       "  </thead>\n",
       "  <tbody>\n",
       "    <tr>\n",
       "      <td>0</td>\n",
       "      <td>151635</td>\n",
       "      <td>СМЕТАНА</td>\n",
       "      <td>нет</td>\n",
       "      <td>кафе</td>\n",
       "      <td>город Москва, улица Егора Абакумова, дом 9</td>\n",
       "      <td>48</td>\n",
       "    </tr>\n",
       "    <tr>\n",
       "      <td>1</td>\n",
       "      <td>77874</td>\n",
       "      <td>Родник</td>\n",
       "      <td>нет</td>\n",
       "      <td>кафе</td>\n",
       "      <td>город Москва, улица Талалихина, дом 2/1, корпус 1</td>\n",
       "      <td>35</td>\n",
       "    </tr>\n",
       "    <tr>\n",
       "      <td>2</td>\n",
       "      <td>24309</td>\n",
       "      <td>Кафе «Академия»</td>\n",
       "      <td>нет</td>\n",
       "      <td>кафе</td>\n",
       "      <td>город Москва, Абельмановская улица, дом 6</td>\n",
       "      <td>95</td>\n",
       "    </tr>\n",
       "    <tr>\n",
       "      <td>3</td>\n",
       "      <td>21894</td>\n",
       "      <td>ПИЦЦЕТОРИЯ</td>\n",
       "      <td>да</td>\n",
       "      <td>кафе</td>\n",
       "      <td>город Москва, Абрамцевская улица, дом 1</td>\n",
       "      <td>40</td>\n",
       "    </tr>\n",
       "    <tr>\n",
       "      <td>4</td>\n",
       "      <td>119365</td>\n",
       "      <td>Кафе «Вишневая метель»</td>\n",
       "      <td>нет</td>\n",
       "      <td>кафе</td>\n",
       "      <td>город Москва, Абрамцевская улица, дом 9, корпус 1</td>\n",
       "      <td>50</td>\n",
       "    </tr>\n",
       "  </tbody>\n",
       "</table>\n",
       "</div>"
      ],
      "text/plain": [
       "       id             object_name chain object_type  \\\n",
       "0  151635                 СМЕТАНА   нет        кафе   \n",
       "1   77874                  Родник   нет        кафе   \n",
       "2   24309         Кафе «Академия»   нет        кафе   \n",
       "3   21894              ПИЦЦЕТОРИЯ    да        кафе   \n",
       "4  119365  Кафе «Вишневая метель»   нет        кафе   \n",
       "\n",
       "                                             address  number  \n",
       "0         город Москва, улица Егора Абакумова, дом 9      48  \n",
       "1  город Москва, улица Талалихина, дом 2/1, корпус 1      35  \n",
       "2          город Москва, Абельмановская улица, дом 6      95  \n",
       "3            город Москва, Абрамцевская улица, дом 1      40  \n",
       "4  город Москва, Абрамцевская улица, дом 9, корпус 1      50  "
      ]
     },
     "execution_count": 4,
     "metadata": {},
     "output_type": "execute_result"
    }
   ],
   "source": [
    "rest_data.head()"
   ]
  },
  {
   "cell_type": "markdown",
   "metadata": {},
   "source": [
    "<a id=\"preprocessing\"></a>\n",
    "### Предобработка данных"
   ]
  },
  {
   "cell_type": "markdown",
   "metadata": {},
   "source": [
    "Визуальный просмотр файла данных в Excel показал, что очень много ситуаций, когда названия сетевых заведений пишутся по-разному - МАКДОНАЛДС, Макдоналдс, Кафе \"Макдоналдс\" и т.д. То есть при анализе мы получим результат, что это все разные сети, а не одна и та же. С эти надо побороться."
   ]
  },
  {
   "cell_type": "code",
   "execution_count": 5,
   "metadata": {},
   "outputs": [],
   "source": [
    "# для начала переведем все названия в нижний регистр\n",
    "rest_data['object_name'] = rest_data['object_name'].str.lower()"
   ]
  },
  {
   "cell_type": "code",
   "execution_count": 6,
   "metadata": {},
   "outputs": [],
   "source": [
    "def rename(name):\n",
    "        \"\"\"\n",
    "        Ищет в названиях ресторанов слова: 'макдоналдс',  'бургер кинг' и т.д. если в названии содержится это слово, \n",
    "        то оно будет новым названием ресторана, во всех остальных случаях - оставляет старое название\n",
    "        \"\"\"\n",
    "        new_name = name\n",
    "        for x in {'макдоналдс','бургер кинг','шоколадница', 'му-му', 'kfc'}:\n",
    "            if x in name:\n",
    "                new_name = x\n",
    "        return new_name   \n",
    "    \n",
    "rest_data['name_processed'] = rest_data['object_name'].apply(rename)"
   ]
  },
  {
   "cell_type": "code",
   "execution_count": 7,
   "metadata": {
    "scrolled": true
   },
   "outputs": [
    {
     "data": {
      "text/plain": [
       "count    15366.000000\n",
       "mean        59.547182\n",
       "std         74.736833\n",
       "min          0.000000\n",
       "25%         12.000000\n",
       "50%         40.000000\n",
       "75%         80.000000\n",
       "max       1700.000000\n",
       "Name: number, dtype: float64"
      ]
     },
     "execution_count": 7,
     "metadata": {},
     "output_type": "execute_result"
    }
   ],
   "source": [
    "rest_data['number'].describe()"
   ]
  },
  {
   "cell_type": "code",
   "execution_count": 8,
   "metadata": {},
   "outputs": [
    {
     "data": {
      "text/plain": [
       "id                1621\n",
       "object_name       1621\n",
       "chain             1621\n",
       "object_type       1621\n",
       "address           1621\n",
       "number            1621\n",
       "name_processed    1621\n",
       "dtype: int64"
      ]
     },
     "execution_count": 8,
     "metadata": {},
     "output_type": "execute_result"
    }
   ],
   "source": [
    "# есть заведения, где указана нулевая вместимость. скорее всего, это означает, что эти данные просто не внесли \n",
    "# при составлении таблицы. узнаем - сколько таких ресторанов.\n",
    "rest_data[rest_data['number']==0].count()"
   ]
  },
  {
   "cell_type": "markdown",
   "metadata": {},
   "source": [
    "Это около 10% всего массива. Слишком много, чтобы просто их удалить. Это ведь реально существующие кафе и рестораны и нужно их учитывать при подсчете распределения заведений по типам или по районам.\n",
    "\n",
    "С другой стороны, если их оставить, то они повлияют на значения средней вместимости заведений. Думаю, что следует поступить так - на этапе подсчета вместимости использовать версию датафрейма, где \"нулевые\" заведения будут удалены, для ответов на остальные вопросы использовать полный датафрейм."
   ]
  },
  {
   "cell_type": "markdown",
   "metadata": {},
   "source": [
    "Большая часть таких мест - различные ларьки с шавермой, теремки, кофе с собой. Но есть и маки, и kfc, и бургер-кинг. По какой-то определенной категории их не выделить, там полная чехарда  - и предприятие быстрого обслуживания, и буфет, и кафе, и столовая, и ресторан.\n",
    "    "
   ]
  },
  {
   "cell_type": "code",
   "execution_count": 9,
   "metadata": {},
   "outputs": [
    {
     "name": "stdout",
     "output_type": "stream",
     "text": [
      "<class 'pandas.core.frame.DataFrame'>\n",
      "RangeIndex: 13745 entries, 0 to 13744\n",
      "Data columns (total 8 columns):\n",
      "index             13745 non-null int64\n",
      "id                13745 non-null int64\n",
      "object_name       13745 non-null object\n",
      "chain             13745 non-null object\n",
      "object_type       13745 non-null object\n",
      "address           13745 non-null object\n",
      "number            13745 non-null int64\n",
      "name_processed    13745 non-null object\n",
      "dtypes: int64(3), object(5)\n",
      "memory usage: 859.2+ KB\n"
     ]
    }
   ],
   "source": [
    "# формируем датафрейм, откуда удалены данные с нулевой вместимостью\n",
    "rest_data_wht_empty = rest_data.query('number>0').copy().reset_index()\n",
    "rest_data_wht_empty.info()"
   ]
  },
  {
   "cell_type": "code",
   "execution_count": 11,
   "metadata": {},
   "outputs": [
    {
     "data": {
      "text/plain": [
       "183"
      ]
     },
     "execution_count": 11,
     "metadata": {},
     "output_type": "execute_result"
    }
   ],
   "source": [
    "rest_data[['object_name', 'chain', 'object_type', 'address']].duplicated().sum()"
   ]
  },
  {
   "cell_type": "markdown",
   "metadata": {},
   "source": [
    "Имеются дубликаты. Количество незначительное относительно всего датасета. Можно удалять.\n",
    "    Типы столбцов соответствуют содержащимся в них данным."
   ]
  },
  {
   "cell_type": "code",
   "execution_count": 12,
   "metadata": {},
   "outputs": [],
   "source": [
    "rest_data = rest_data.drop_duplicates(['object_name', 'chain', 'object_type', 'address'])"
   ]
  },
  {
   "cell_type": "code",
   "execution_count": 13,
   "metadata": {},
   "outputs": [
    {
     "data": {
      "text/plain": [
       "0"
      ]
     },
     "execution_count": 13,
     "metadata": {},
     "output_type": "execute_result"
    }
   ],
   "source": [
    "rest_data[['object_name', 'chain', 'object_type', 'address']].duplicated().sum()"
   ]
  },
  {
   "cell_type": "markdown",
   "metadata": {},
   "source": [
    "### Анализ данных\n",
    "- [Исследовать соотношение видов объектов общественного питания по количеству. Построить график](#types)\n",
    "- [Исследовать соотношение сетевых и несетевых заведений по количеству. Построить график.](#quantity_chain)\n",
    "- [Для какого вида объекта общественного питания характерно сетевое распространение?](#chain_types)\n",
    "- [Что характерно для сетевых заведений: много заведений с небольшим числом посадочных мест в каждом или мало заведений с большим количеством посадочных мест?](#chain_parameters)\n",
    "- [Для каждого вида объекта общественного питания описать среднее количество посадочных мест. Какой вид предоставляет в среднем самое большое количество посадочных мест? Построить графики.](#type_parameters)\n",
    "- [Выделить в отдельный столбец информацию об улице из столбца address.](#street)\n",
    "- [Построить график топ-10 улиц по количеству объектов общественного питания. В каких районах Москвы находятся эти улицы?](#top_street)\n",
    "- [Найти число улиц с одним объектом общественного питания. В каких районах Москвы находятся эти улицы?](#single_rest)\n",
    "- [Проанализируйте распределение количества посадочных мест для улиц с большим количеством объектов общественного питания. Какие закономерности можно выявить?](#top_street_distribution)\n",
    "#### Сформулировать общий вывод и дать рекомендации о виде заведения, количестве посадочных мест, а также районе расположения. Дать комментарий о возможность развития сети."
   ]
  },
  {
   "cell_type": "markdown",
   "metadata": {},
   "source": [
    "<a id=\"types\"></a>\n",
    "#### Исследовать соотношение видов объектов общественного питания по количеству. Построить график."
   ]
  },
  {
   "cell_type": "code",
   "execution_count": 14,
   "metadata": {},
   "outputs": [
    {
     "data": {
      "text/html": [
       "<div>\n",
       "<style scoped>\n",
       "    .dataframe tbody tr th:only-of-type {\n",
       "        vertical-align: middle;\n",
       "    }\n",
       "\n",
       "    .dataframe tbody tr th {\n",
       "        vertical-align: top;\n",
       "    }\n",
       "\n",
       "    .dataframe thead th {\n",
       "        text-align: right;\n",
       "    }\n",
       "</style>\n",
       "<table border=\"1\" class=\"dataframe\">\n",
       "  <thead>\n",
       "    <tr style=\"text-align: right;\">\n",
       "      <th></th>\n",
       "      <th>object_type</th>\n",
       "      <th>id</th>\n",
       "    </tr>\n",
       "  </thead>\n",
       "  <tbody>\n",
       "    <tr>\n",
       "      <td>5</td>\n",
       "      <td>магазин (отдел кулинарии)</td>\n",
       "      <td>272</td>\n",
       "    </tr>\n",
       "    <tr>\n",
       "      <td>2</td>\n",
       "      <td>закусочная</td>\n",
       "      <td>347</td>\n",
       "    </tr>\n",
       "    <tr>\n",
       "      <td>4</td>\n",
       "      <td>кафетерий</td>\n",
       "      <td>393</td>\n",
       "    </tr>\n",
       "    <tr>\n",
       "      <td>1</td>\n",
       "      <td>буфет</td>\n",
       "      <td>570</td>\n",
       "    </tr>\n",
       "    <tr>\n",
       "      <td>0</td>\n",
       "      <td>бар</td>\n",
       "      <td>853</td>\n",
       "    </tr>\n",
       "    <tr>\n",
       "      <td>6</td>\n",
       "      <td>предприятие быстрого обслуживания</td>\n",
       "      <td>1890</td>\n",
       "    </tr>\n",
       "    <tr>\n",
       "      <td>7</td>\n",
       "      <td>ресторан</td>\n",
       "      <td>2275</td>\n",
       "    </tr>\n",
       "    <tr>\n",
       "      <td>8</td>\n",
       "      <td>столовая</td>\n",
       "      <td>2575</td>\n",
       "    </tr>\n",
       "    <tr>\n",
       "      <td>3</td>\n",
       "      <td>кафе</td>\n",
       "      <td>6008</td>\n",
       "    </tr>\n",
       "  </tbody>\n",
       "</table>\n",
       "</div>"
      ],
      "text/plain": [
       "                         object_type    id\n",
       "5          магазин (отдел кулинарии)   272\n",
       "2                         закусочная   347\n",
       "4                          кафетерий   393\n",
       "1                              буфет   570\n",
       "0                                бар   853\n",
       "6  предприятие быстрого обслуживания  1890\n",
       "7                           ресторан  2275\n",
       "8                           столовая  2575\n",
       "3                               кафе  6008"
      ]
     },
     "execution_count": 14,
     "metadata": {},
     "output_type": "execute_result"
    }
   ],
   "source": [
    "rest_quantity = rest_data.groupby('object_type', as_index=False)[['id']].count().sort_values(by='id')\n",
    "rest_quantity"
   ]
  },
  {
   "cell_type": "code",
   "execution_count": 15,
   "metadata": {
    "scrolled": false
   },
   "outputs": [
    {
     "data": {
      "image/png": "[encoded data removed]",
      "text/plain": [
       "<Figure size 460.8x316.8 with 1 Axes>"
      ]
     },
     "metadata": {
      "needs_background": "light"
     },
     "output_type": "display_data"
    }
   ],
   "source": [
    "with plt.style.context('seaborn-paper'):\n",
    "    plt.bar(rest_quantity['object_type'], rest_quantity['id'])\n",
    "plt.xlabel('Тип объекта')\n",
    "plt.ylabel('Количество')\n",
    "plt.title('Соотношение видов объектов общественного питания по количеству')\n",
    "plt.xticks(rotation=90)     \n",
    "plt.show()"
   ]
  },
  {
   "cell_type": "markdown",
   "metadata": {},
   "source": [
    "Кафе лидируют с огромным отрывом!"
   ]
  },
  {
   "cell_type": "markdown",
   "metadata": {},
   "source": [
    "<a id=\"quantity_chain\"></a>\n",
    "### <font color=\"blue\"> Исследовать соотношение сетевых и несетевых заведений по количеству. Построить график."
   ]
  },
  {
   "cell_type": "code",
   "execution_count": 16,
   "metadata": {},
   "outputs": [
    {
     "data": {
      "image/png": "[encoded data removed]",
      "text/plain": [
       "<Figure size 720x432 with 1 Axes>"
      ]
     },
     "metadata": {
      "needs_background": "light"
     },
     "output_type": "display_data"
    }
   ],
   "source": [
    "quantity_chain = rest_data.groupby(['object_type', 'chain'], as_index=False).agg({'id':'count'}).rename(columns={'id': 'rest_quant'})\n",
    "quantity_chain.rename(columns={'id': 'rest_quant'})                                                                                 \n",
    "plt.figure(figsize=(10, 6))\n",
    "plt.xticks(rotation=90)\n",
    "plt.title('Соотношение сетевых и несетевых заведений')\n",
    "ax = sns.barplot(x=\"object_type\", y=\"rest_quant\", hue='chain', data=quantity_chain)\n",
    "ax.set(xlabel='Тип объекта', ylabel='Количество')\n",
    "plt.show()"
   ]
  },
  {
   "cell_type": "code",
   "execution_count": 17,
   "metadata": {},
   "outputs": [
    {
     "data": {
      "text/html": [
       "<div>\n",
       "<style scoped>\n",
       "    .dataframe tbody tr th:only-of-type {\n",
       "        vertical-align: middle;\n",
       "    }\n",
       "\n",
       "    .dataframe tbody tr th {\n",
       "        vertical-align: top;\n",
       "    }\n",
       "\n",
       "    .dataframe thead th {\n",
       "        text-align: right;\n",
       "    }\n",
       "</style>\n",
       "<table border=\"1\" class=\"dataframe\">\n",
       "  <thead>\n",
       "    <tr style=\"text-align: right;\">\n",
       "      <th></th>\n",
       "      <th>object_type</th>\n",
       "      <th>chain</th>\n",
       "      <th>rest_quant</th>\n",
       "    </tr>\n",
       "  </thead>\n",
       "  <tbody>\n",
       "    <tr>\n",
       "      <td>0</td>\n",
       "      <td>бар</td>\n",
       "      <td>да</td>\n",
       "      <td>37</td>\n",
       "    </tr>\n",
       "    <tr>\n",
       "      <td>1</td>\n",
       "      <td>бар</td>\n",
       "      <td>нет</td>\n",
       "      <td>816</td>\n",
       "    </tr>\n",
       "    <tr>\n",
       "      <td>2</td>\n",
       "      <td>буфет</td>\n",
       "      <td>да</td>\n",
       "      <td>11</td>\n",
       "    </tr>\n",
       "    <tr>\n",
       "      <td>3</td>\n",
       "      <td>буфет</td>\n",
       "      <td>нет</td>\n",
       "      <td>559</td>\n",
       "    </tr>\n",
       "    <tr>\n",
       "      <td>4</td>\n",
       "      <td>закусочная</td>\n",
       "      <td>да</td>\n",
       "      <td>56</td>\n",
       "    </tr>\n",
       "    <tr>\n",
       "      <td>5</td>\n",
       "      <td>закусочная</td>\n",
       "      <td>нет</td>\n",
       "      <td>291</td>\n",
       "    </tr>\n",
       "    <tr>\n",
       "      <td>6</td>\n",
       "      <td>кафе</td>\n",
       "      <td>да</td>\n",
       "      <td>1387</td>\n",
       "    </tr>\n",
       "    <tr>\n",
       "      <td>7</td>\n",
       "      <td>кафе</td>\n",
       "      <td>нет</td>\n",
       "      <td>4621</td>\n",
       "    </tr>\n",
       "    <tr>\n",
       "      <td>8</td>\n",
       "      <td>кафетерий</td>\n",
       "      <td>да</td>\n",
       "      <td>51</td>\n",
       "    </tr>\n",
       "    <tr>\n",
       "      <td>9</td>\n",
       "      <td>кафетерий</td>\n",
       "      <td>нет</td>\n",
       "      <td>342</td>\n",
       "    </tr>\n",
       "    <tr>\n",
       "      <td>10</td>\n",
       "      <td>магазин (отдел кулинарии)</td>\n",
       "      <td>да</td>\n",
       "      <td>78</td>\n",
       "    </tr>\n",
       "    <tr>\n",
       "      <td>11</td>\n",
       "      <td>магазин (отдел кулинарии)</td>\n",
       "      <td>нет</td>\n",
       "      <td>194</td>\n",
       "    </tr>\n",
       "    <tr>\n",
       "      <td>12</td>\n",
       "      <td>предприятие быстрого обслуживания</td>\n",
       "      <td>да</td>\n",
       "      <td>784</td>\n",
       "    </tr>\n",
       "    <tr>\n",
       "      <td>13</td>\n",
       "      <td>предприятие быстрого обслуживания</td>\n",
       "      <td>нет</td>\n",
       "      <td>1106</td>\n",
       "    </tr>\n",
       "    <tr>\n",
       "      <td>14</td>\n",
       "      <td>ресторан</td>\n",
       "      <td>да</td>\n",
       "      <td>542</td>\n",
       "    </tr>\n",
       "    <tr>\n",
       "      <td>15</td>\n",
       "      <td>ресторан</td>\n",
       "      <td>нет</td>\n",
       "      <td>1733</td>\n",
       "    </tr>\n",
       "    <tr>\n",
       "      <td>16</td>\n",
       "      <td>столовая</td>\n",
       "      <td>да</td>\n",
       "      <td>3</td>\n",
       "    </tr>\n",
       "    <tr>\n",
       "      <td>17</td>\n",
       "      <td>столовая</td>\n",
       "      <td>нет</td>\n",
       "      <td>2572</td>\n",
       "    </tr>\n",
       "  </tbody>\n",
       "</table>\n",
       "</div>"
      ],
      "text/plain": [
       "                          object_type chain  rest_quant\n",
       "0                                 бар    да          37\n",
       "1                                 бар   нет         816\n",
       "2                               буфет    да          11\n",
       "3                               буфет   нет         559\n",
       "4                          закусочная    да          56\n",
       "5                          закусочная   нет         291\n",
       "6                                кафе    да        1387\n",
       "7                                кафе   нет        4621\n",
       "8                           кафетерий    да          51\n",
       "9                           кафетерий   нет         342\n",
       "10          магазин (отдел кулинарии)    да          78\n",
       "11          магазин (отдел кулинарии)   нет         194\n",
       "12  предприятие быстрого обслуживания    да         784\n",
       "13  предприятие быстрого обслуживания   нет        1106\n",
       "14                           ресторан    да         542\n",
       "15                           ресторан   нет        1733\n",
       "16                           столовая    да           3\n",
       "17                           столовая   нет        2572"
      ]
     },
     "execution_count": 17,
     "metadata": {},
     "output_type": "execute_result"
    }
   ],
   "source": [
    "quantity_chain"
   ]
  },
  {
   "cell_type": "markdown",
   "metadata": {},
   "source": [
    "<a id=\"chain_types\"></a>\n",
    "### Для какого вида объекта общественного питания характерно сетевое распространение?\n",
    "##### Неудивительно, но самая большая доля сетевых точек у предприятий быстрого питания - более 40%, затем плотно идет группа в полосатых купальниках, где доля сетевых заведений около четверти - кафе, рестораны и кулинарии."
   ]
  },
  {
   "cell_type": "markdown",
   "metadata": {},
   "source": [
    "<a id=\"chain_parameters\"></a>\n",
    "### <font color=\"blue\"> Что характерно для сетевых заведений: много заведений с небольшим числом посадочных мест в каждом или мало заведений с большим количеством посадочных мест?"
   ]
  },
  {
   "cell_type": "code",
   "execution_count": 18,
   "metadata": {
    "scrolled": true
   },
   "outputs": [
    {
     "data": {
      "text/html": [
       "<div>\n",
       "<style scoped>\n",
       "    .dataframe tbody tr th:only-of-type {\n",
       "        vertical-align: middle;\n",
       "    }\n",
       "\n",
       "    .dataframe tbody tr th {\n",
       "        vertical-align: top;\n",
       "    }\n",
       "\n",
       "    .dataframe thead th {\n",
       "        text-align: right;\n",
       "    }\n",
       "</style>\n",
       "<table border=\"1\" class=\"dataframe\">\n",
       "  <thead>\n",
       "    <tr style=\"text-align: right;\">\n",
       "      <th></th>\n",
       "      <th>index</th>\n",
       "      <th>id</th>\n",
       "      <th>object_name</th>\n",
       "      <th>chain</th>\n",
       "      <th>object_type</th>\n",
       "      <th>address</th>\n",
       "      <th>number</th>\n",
       "      <th>name_processed</th>\n",
       "    </tr>\n",
       "  </thead>\n",
       "  <tbody>\n",
       "    <tr>\n",
       "      <td>3</td>\n",
       "      <td>3</td>\n",
       "      <td>21894</td>\n",
       "      <td>пиццетория</td>\n",
       "      <td>да</td>\n",
       "      <td>кафе</td>\n",
       "      <td>город Москва, Абрамцевская улица, дом 1</td>\n",
       "      <td>40</td>\n",
       "      <td>пиццетория</td>\n",
       "    </tr>\n",
       "    <tr>\n",
       "      <td>6</td>\n",
       "      <td>6</td>\n",
       "      <td>148815</td>\n",
       "      <td>брусника</td>\n",
       "      <td>да</td>\n",
       "      <td>кафе</td>\n",
       "      <td>город Москва, переулок Сивцев Вражек, дом 6/2</td>\n",
       "      <td>10</td>\n",
       "      <td>брусника</td>\n",
       "    </tr>\n",
       "    <tr>\n",
       "      <td>13</td>\n",
       "      <td>13</td>\n",
       "      <td>22579</td>\n",
       "      <td>алло пицца</td>\n",
       "      <td>да</td>\n",
       "      <td>кафе</td>\n",
       "      <td>город Москва, улица Авиаторов, дом 14</td>\n",
       "      <td>32</td>\n",
       "      <td>алло пицца</td>\n",
       "    </tr>\n",
       "  </tbody>\n",
       "</table>\n",
       "</div>"
      ],
      "text/plain": [
       "    index      id object_name chain object_type  \\\n",
       "3       3   21894  пиццетория    да        кафе   \n",
       "6       6  148815    брусника    да        кафе   \n",
       "13     13   22579  алло пицца    да        кафе   \n",
       "\n",
       "                                          address  number name_processed  \n",
       "3         город Москва, Абрамцевская улица, дом 1      40     пиццетория  \n",
       "6   город Москва, переулок Сивцев Вражек, дом 6/2      10       брусника  \n",
       "13          город Москва, улица Авиаторов, дом 14      32     алло пицца  "
      ]
     },
     "execution_count": 18,
     "metadata": {},
     "output_type": "execute_result"
    }
   ],
   "source": [
    "# Речь пошла о вместимости, будем пользоваться датафреймом, где удалены заведения с нулевой вместимостью.\n",
    "# делаем срез по сетевым заведениям\n",
    "chains_data = rest_data_wht_empty.query('chain==\"да\"')\n",
    "chains_data.head(3)"
   ]
  },
  {
   "cell_type": "code",
   "execution_count": 19,
   "metadata": {},
   "outputs": [
    {
     "data": {
      "text/html": [
       "<div>\n",
       "<style scoped>\n",
       "    .dataframe tbody tr th:only-of-type {\n",
       "        vertical-align: middle;\n",
       "    }\n",
       "\n",
       "    .dataframe tbody tr th {\n",
       "        vertical-align: top;\n",
       "    }\n",
       "\n",
       "    .dataframe thead th {\n",
       "        text-align: right;\n",
       "    }\n",
       "</style>\n",
       "<table border=\"1\" class=\"dataframe\">\n",
       "  <thead>\n",
       "    <tr style=\"text-align: right;\">\n",
       "      <th></th>\n",
       "      <th>chain_name</th>\n",
       "      <th>quantity</th>\n",
       "      <th>mean_capacity</th>\n",
       "    </tr>\n",
       "  </thead>\n",
       "  <tbody>\n",
       "    <tr>\n",
       "      <td>0</td>\n",
       "      <td>beverly hills diner</td>\n",
       "      <td>1</td>\n",
       "      <td>88.0</td>\n",
       "    </tr>\n",
       "    <tr>\n",
       "      <td>1</td>\n",
       "      <td>bierloga</td>\n",
       "      <td>1</td>\n",
       "      <td>75.0</td>\n",
       "    </tr>\n",
       "    <tr>\n",
       "      <td>2</td>\n",
       "      <td>black &amp; white</td>\n",
       "      <td>1</td>\n",
       "      <td>40.0</td>\n",
       "    </tr>\n",
       "  </tbody>\n",
       "</table>\n",
       "</div>"
      ],
      "text/plain": [
       "            chain_name  quantity  mean_capacity\n",
       "0  beverly hills diner         1           88.0\n",
       "1             bierloga         1           75.0\n",
       "2        black & white         1           40.0"
      ]
     },
     "execution_count": 19,
     "metadata": {},
     "output_type": "execute_result"
    }
   ],
   "source": [
    "# группируем по названиям ресторанов, переименовываем столбец в название сети\n",
    "chains_by_rest = chains_data.groupby(['name_processed'], as_index=False).agg({'object_type':'count', 'number':'mean'})\n",
    "chains_by_rest.columns = ['chain_name', 'quantity', 'mean_capacity']\n",
    "chains_by_rest.head(3)"
   ]
  },
  {
   "cell_type": "code",
   "execution_count": 20,
   "metadata": {},
   "outputs": [
    {
     "data": {
      "image/png": "[encoded data removed]",
      "text/plain": [
       "<Figure size 432x432 with 3 Axes>"
      ]
     },
     "metadata": {
      "needs_background": "light"
     },
     "output_type": "display_data"
    }
   ],
   "source": [
    "g = sns.jointplot(x=\"quantity\", y=\"mean_capacity\", data=chains_by_rest, kind='reg');\n",
    "g.fig.suptitle('Зависимость средней вместимости и количества точек', fontsize=16);"
   ]
  },
  {
   "cell_type": "code",
   "execution_count": 21,
   "metadata": {},
   "outputs": [
    {
     "name": "stdout",
     "output_type": "stream",
     "text": [
      "<class 'pandas.core.frame.DataFrame'>\n",
      "Int64Index: 522 entries, 0 to 521\n",
      "Data columns (total 3 columns):\n",
      "chain_name       522 non-null object\n",
      "quantity         522 non-null int64\n",
      "mean_capacity    522 non-null float64\n",
      "dtypes: float64(1), int64(1), object(1)\n",
      "memory usage: 16.3+ KB\n"
     ]
    }
   ],
   "source": [
    "chains_by_rest.info()"
   ]
  },
  {
   "cell_type": "code",
   "execution_count": 22,
   "metadata": {
    "scrolled": true
   },
   "outputs": [
    {
     "data": {
      "text/plain": [
       "chain_name       306\n",
       "quantity           1\n",
       "mean_capacity     85\n",
       "dtype: int64"
      ]
     },
     "execution_count": 22,
     "metadata": {},
     "output_type": "execute_result"
    }
   ],
   "source": [
    "chains_by_rest[chains_by_rest['quantity']==1].nunique()"
   ]
  },
  {
   "cell_type": "code",
   "execution_count": 23,
   "metadata": {
    "scrolled": true
   },
   "outputs": [
    {
     "data": {
      "text/plain": [
       "count    306.000000\n",
       "mean      59.797386\n",
       "std       56.091536\n",
       "min        1.000000\n",
       "25%       20.000000\n",
       "50%       45.000000\n",
       "75%       80.000000\n",
       "max      306.000000\n",
       "Name: mean_capacity, dtype: float64"
      ]
     },
     "execution_count": 23,
     "metadata": {},
     "output_type": "execute_result"
    }
   ],
   "source": [
    "chains_by_rest[chains_by_rest['quantity']==1]['mean_capacity'].describe()"
   ]
  },
  {
   "cell_type": "code",
   "execution_count": 24,
   "metadata": {},
   "outputs": [
    {
     "data": {
      "text/plain": [
       "array([132.5 , 173.75, 279.3 ])"
      ]
     },
     "execution_count": 24,
     "metadata": {},
     "output_type": "execute_result"
    }
   ],
   "source": [
    "np.percentile(chains_by_rest[chains_by_rest['quantity']==1]['mean_capacity'],[90, 95, 99])"
   ]
  },
  {
   "cell_type": "markdown",
   "metadata": {},
   "source": [
    "Вот так-так! 59% \"сетей\" состоят из всего одного заведения! Средняя вместимость таких заведений 60 человек, медиана равна 45 местам."
   ]
  },
  {
   "cell_type": "code",
   "execution_count": 25,
   "metadata": {},
   "outputs": [
    {
     "data": {
      "text/plain": [
       "count    216.000000\n",
       "mean      11.083333\n",
       "std       25.212446\n",
       "min        2.000000\n",
       "25%        2.000000\n",
       "50%        4.000000\n",
       "75%        7.250000\n",
       "max      185.000000\n",
       "Name: quantity, dtype: float64"
      ]
     },
     "execution_count": 25,
     "metadata": {},
     "output_type": "execute_result"
    }
   ],
   "source": [
    "#количество заведенеий в сети, если сеть состоит как минимум из 2х точек\n",
    "chains_by_rest[chains_by_rest['quantity']>1]['quantity'].describe()"
   ]
  },
  {
   "cell_type": "code",
   "execution_count": 26,
   "metadata": {},
   "outputs": [
    {
     "data": {
      "text/plain": [
       "array([ 22.5 ,  38.75, 160.75])"
      ]
     },
     "execution_count": 26,
     "metadata": {},
     "output_type": "execute_result"
    }
   ],
   "source": [
    "np.percentile(chains_by_rest[chains_by_rest['quantity']>1]['quantity'],[90, 95, 99])"
   ]
  },
  {
   "cell_type": "code",
   "execution_count": 27,
   "metadata": {},
   "outputs": [
    {
     "data": {
      "image/png": "[encoded data removed]",
      "text/plain": [
       "<Figure size 432x288 with 1 Axes>"
      ]
     },
     "metadata": {
      "needs_background": "light"
     },
     "output_type": "display_data"
    }
   ],
   "source": [
    "x = chains_by_rest[chains_by_rest['quantity']>1]['quantity']\n",
    "sns.distplot(x).set_title('Распределение по числу количеству сетевых точек');\n"
   ]
  },
  {
   "cell_type": "code",
   "execution_count": 28,
   "metadata": {},
   "outputs": [
    {
     "data": {
      "image/png": "[encoded data removed]",
      "text/plain": [
       "<Figure size 432x288 with 1 Axes>"
      ]
     },
     "metadata": {
      "needs_background": "light"
     },
     "output_type": "display_data"
    }
   ],
   "source": [
    "x = chains_by_rest[chains_by_rest['quantity']>1]['mean_capacity']\n",
    "sns.distplot(x).set_title('Распределение по числу посадочных мест');"
   ]
  },
  {
   "cell_type": "markdown",
   "metadata": {},
   "source": [
    "Среднее число точек в сети - 11, а медиана - всего 4. Такая разница объясняется тем, что у нас из 216 сетевых заведений, 185 принадлежат одной сети. Что же это за сеть? Впрочем, я догадываюсь..."
   ]
  },
  {
   "cell_type": "code",
   "execution_count": 29,
   "metadata": {},
   "outputs": [
    {
     "data": {
      "text/html": [
       "<div>\n",
       "<style scoped>\n",
       "    .dataframe tbody tr th:only-of-type {\n",
       "        vertical-align: middle;\n",
       "    }\n",
       "\n",
       "    .dataframe tbody tr th {\n",
       "        vertical-align: top;\n",
       "    }\n",
       "\n",
       "    .dataframe thead th {\n",
       "        text-align: right;\n",
       "    }\n",
       "</style>\n",
       "<table border=\"1\" class=\"dataframe\">\n",
       "  <thead>\n",
       "    <tr style=\"text-align: right;\">\n",
       "      <th></th>\n",
       "      <th>chain_name</th>\n",
       "      <th>quantity</th>\n",
       "      <th>mean_capacity</th>\n",
       "    </tr>\n",
       "  </thead>\n",
       "  <tbody>\n",
       "    <tr>\n",
       "      <td>510</td>\n",
       "      <td>шоколадница</td>\n",
       "      <td>185</td>\n",
       "      <td>57.648649</td>\n",
       "    </tr>\n",
       "  </tbody>\n",
       "</table>\n",
       "</div>"
      ],
      "text/plain": [
       "      chain_name  quantity  mean_capacity\n",
       "510  шоколадница       185      57.648649"
      ]
     },
     "execution_count": 29,
     "metadata": {},
     "output_type": "execute_result"
    }
   ],
   "source": [
    "chains_by_rest[chains_by_rest['quantity']==chains_by_rest['quantity'].max()]"
   ]
  },
  {
   "cell_type": "markdown",
   "metadata": {},
   "source": [
    "Шоколадница, а вовсе и не Макдональдс!"
   ]
  },
  {
   "cell_type": "code",
   "execution_count": 30,
   "metadata": {},
   "outputs": [
    {
     "data": {
      "text/plain": [
       "count    216.000000\n",
       "mean      62.250046\n",
       "std       49.799173\n",
       "min        3.272727\n",
       "25%       23.479167\n",
       "50%       45.333333\n",
       "75%       93.083333\n",
       "max      258.666667\n",
       "Name: mean_capacity, dtype: float64"
      ]
     },
     "execution_count": 30,
     "metadata": {},
     "output_type": "execute_result"
    }
   ],
   "source": [
    "chains_by_rest[chains_by_rest['quantity']>1]['mean_capacity'].describe()"
   ]
  },
  {
   "cell_type": "markdown",
   "metadata": {},
   "source": [
    "Для сетей здорового человека (где есть хотя бы 2 ресторана) количество посадочных мест практически не отличается - среднее 62, медиана 45."
   ]
  },
  {
   "cell_type": "code",
   "execution_count": 31,
   "metadata": {},
   "outputs": [
    {
     "data": {
      "text/plain": [
       "count    216.000000\n",
       "mean      62.250046\n",
       "std       49.799173\n",
       "min        3.272727\n",
       "25%       23.479167\n",
       "50%       45.333333\n",
       "75%       93.083333\n",
       "max      258.666667\n",
       "Name: mean_capacity, dtype: float64"
      ]
     },
     "execution_count": 31,
     "metadata": {},
     "output_type": "execute_result"
    }
   ],
   "source": [
    "chains_by_rest[chains_by_rest['quantity']>1]['mean_capacity'].describe()"
   ]
  },
  {
   "cell_type": "markdown",
   "metadata": {},
   "source": [
    "#### Очень много сетей, где 1-2-3-4 объекта, таких половина. Одна сеть очень большая - 185 ресторанов,  еще несколько  сетей из пяти- десяти ресторанов. В 90% сетей входит не больше 22 ресторанов. Средняя вместимость 62 человека, медианная - 45. Это примерно 12 столиков."
   ]
  },
  {
   "cell_type": "markdown",
   "metadata": {},
   "source": [
    "<a id=\"type_parameters\"></a>\n",
    "### <font color=\"blue\">Для каждого вида объекта общественного питания описать среднее количество посадочных мест. Какой вид предоставляет в среднем самое большое количество посадочных мест? Построить графики."
   ]
  },
  {
   "cell_type": "code",
   "execution_count": 32,
   "metadata": {},
   "outputs": [
    {
     "data": {
      "text/html": [
       "<div>\n",
       "<style scoped>\n",
       "    .dataframe tbody tr th:only-of-type {\n",
       "        vertical-align: middle;\n",
       "    }\n",
       "\n",
       "    .dataframe tbody tr th {\n",
       "        vertical-align: top;\n",
       "    }\n",
       "\n",
       "    .dataframe thead th {\n",
       "        text-align: right;\n",
       "    }\n",
       "</style>\n",
       "<table border=\"1\" class=\"dataframe\">\n",
       "  <thead>\n",
       "    <tr style=\"text-align: right;\">\n",
       "      <th></th>\n",
       "      <th>object_type</th>\n",
       "      <th>number</th>\n",
       "    </tr>\n",
       "  </thead>\n",
       "  <tbody>\n",
       "    <tr>\n",
       "      <td>5</td>\n",
       "      <td>магазин (отдел кулинарии)</td>\n",
       "      <td>11.921875</td>\n",
       "    </tr>\n",
       "    <tr>\n",
       "      <td>4</td>\n",
       "      <td>кафетерий</td>\n",
       "      <td>12.740351</td>\n",
       "    </tr>\n",
       "    <tr>\n",
       "      <td>2</td>\n",
       "      <td>закусочная</td>\n",
       "      <td>16.017544</td>\n",
       "    </tr>\n",
       "    <tr>\n",
       "      <td>6</td>\n",
       "      <td>предприятие быстрого обслуживания</td>\n",
       "      <td>32.421657</td>\n",
       "    </tr>\n",
       "    <tr>\n",
       "      <td>3</td>\n",
       "      <td>кафе</td>\n",
       "      <td>41.842805</td>\n",
       "    </tr>\n",
       "    <tr>\n",
       "      <td>0</td>\n",
       "      <td>бар</td>\n",
       "      <td>44.964976</td>\n",
       "    </tr>\n",
       "    <tr>\n",
       "      <td>1</td>\n",
       "      <td>буфет</td>\n",
       "      <td>57.854932</td>\n",
       "    </tr>\n",
       "    <tr>\n",
       "      <td>7</td>\n",
       "      <td>ресторан</td>\n",
       "      <td>98.779464</td>\n",
       "    </tr>\n",
       "    <tr>\n",
       "      <td>8</td>\n",
       "      <td>столовая</td>\n",
       "      <td>131.210280</td>\n",
       "    </tr>\n",
       "  </tbody>\n",
       "</table>\n",
       "</div>"
      ],
      "text/plain": [
       "                         object_type      number\n",
       "5          магазин (отдел кулинарии)   11.921875\n",
       "4                          кафетерий   12.740351\n",
       "2                         закусочная   16.017544\n",
       "6  предприятие быстрого обслуживания   32.421657\n",
       "3                               кафе   41.842805\n",
       "0                                бар   44.964976\n",
       "1                              буфет   57.854932\n",
       "7                           ресторан   98.779464\n",
       "8                           столовая  131.210280"
      ]
     },
     "execution_count": 32,
     "metadata": {},
     "output_type": "execute_result"
    }
   ],
   "source": [
    "numbers_by_type = rest_data_wht_empty.groupby('object_type', as_index=False)[['number']].mean().sort_values(by='number')\n",
    "numbers_by_type"
   ]
  },
  {
   "cell_type": "code",
   "execution_count": 33,
   "metadata": {},
   "outputs": [
    {
     "data": {
      "image/png": "[encoded data removed]",
      "text/plain": [
       "<Figure size 576x396 with 1 Axes>"
      ]
     },
     "metadata": {},
     "output_type": "display_data"
    }
   ],
   "source": [
    "with plt.style.context('seaborn'):\n",
    "    plt.bar(numbers_by_type['object_type'], numbers_by_type['number'])\n",
    "plt.xticks(rotation=90)\n",
    "plt.xlabel('Тип объекта')\n",
    "plt.ylabel('Вместимость')\n",
    "plt.title('Зависимость вместимости от типа заведения')\n",
    "plt.show()"
   ]
  },
  {
   "cell_type": "markdown",
   "metadata": {},
   "source": [
    "#### Больше всего посадочных мест в столовых - на треть  больше даже чем в ресторанах!!"
   ]
  },
  {
   "cell_type": "markdown",
   "metadata": {},
   "source": [
    "<a id=\"street\"></a>\n",
    "### <font color=\"blue\"> Выделить в отдельный столбец информацию об улице из столбца address. "
   ]
  },
  {
   "cell_type": "code",
   "execution_count": 34,
   "metadata": {},
   "outputs": [
    {
     "data": {
      "text/html": [
       "<div>\n",
       "<style scoped>\n",
       "    .dataframe tbody tr th:only-of-type {\n",
       "        vertical-align: middle;\n",
       "    }\n",
       "\n",
       "    .dataframe tbody tr th {\n",
       "        vertical-align: top;\n",
       "    }\n",
       "\n",
       "    .dataframe thead th {\n",
       "        text-align: right;\n",
       "    }\n",
       "</style>\n",
       "<table border=\"1\" class=\"dataframe\">\n",
       "  <thead>\n",
       "    <tr style=\"text-align: right;\">\n",
       "      <th></th>\n",
       "      <th>id</th>\n",
       "      <th>object_name</th>\n",
       "      <th>chain</th>\n",
       "      <th>object_type</th>\n",
       "      <th>address</th>\n",
       "      <th>number</th>\n",
       "      <th>name_processed</th>\n",
       "      <th>street</th>\n",
       "    </tr>\n",
       "  </thead>\n",
       "  <tbody>\n",
       "    <tr>\n",
       "      <td>0</td>\n",
       "      <td>151635</td>\n",
       "      <td>сметана</td>\n",
       "      <td>нет</td>\n",
       "      <td>кафе</td>\n",
       "      <td>город Москва, улица Егора Абакумова, дом 9</td>\n",
       "      <td>48</td>\n",
       "      <td>сметана</td>\n",
       "      <td>улица Егора Абакумова</td>\n",
       "    </tr>\n",
       "    <tr>\n",
       "      <td>1</td>\n",
       "      <td>77874</td>\n",
       "      <td>родник</td>\n",
       "      <td>нет</td>\n",
       "      <td>кафе</td>\n",
       "      <td>город Москва, улица Талалихина, дом 2/1, корпус 1</td>\n",
       "      <td>35</td>\n",
       "      <td>родник</td>\n",
       "      <td>улица Талалихина</td>\n",
       "    </tr>\n",
       "    <tr>\n",
       "      <td>2</td>\n",
       "      <td>24309</td>\n",
       "      <td>кафе «академия»</td>\n",
       "      <td>нет</td>\n",
       "      <td>кафе</td>\n",
       "      <td>город Москва, Абельмановская улица, дом 6</td>\n",
       "      <td>95</td>\n",
       "      <td>кафе «академия»</td>\n",
       "      <td>Абельмановская улица</td>\n",
       "    </tr>\n",
       "  </tbody>\n",
       "</table>\n",
       "</div>"
      ],
      "text/plain": [
       "       id      object_name chain object_type  \\\n",
       "0  151635          сметана   нет        кафе   \n",
       "1   77874           родник   нет        кафе   \n",
       "2   24309  кафе «академия»   нет        кафе   \n",
       "\n",
       "                                             address  number   name_processed  \\\n",
       "0         город Москва, улица Егора Абакумова, дом 9      48          сметана   \n",
       "1  город Москва, улица Талалихина, дом 2/1, корпус 1      35           родник   \n",
       "2          город Москва, Абельмановская улица, дом 6      95  кафе «академия»   \n",
       "\n",
       "                  street  \n",
       "0  улица Егора Абакумова  \n",
       "1       улица Талалихина  \n",
       "2   Абельмановская улица  "
      ]
     },
     "execution_count": 34,
     "metadata": {},
     "output_type": "execute_result"
    }
   ],
   "source": [
    "rest_data['street'] = rest_data['address'].str.extract(',\\s([А-я\\s]+),')[0]  \n",
    "rest_data.head(3)"
   ]
  },
  {
   "cell_type": "markdown",
   "metadata": {},
   "source": [
    "<a id=\"top_street\"></a>\n",
    "### <font color=\"blue\"> Построить график топ-10 улиц по количеству объектов общественного питания. В каких районах Москвы находятся эти улицы?"
   ]
  },
  {
   "cell_type": "code",
   "execution_count": 35,
   "metadata": {},
   "outputs": [
    {
     "data": {
      "text/html": [
       "<div>\n",
       "<style scoped>\n",
       "    .dataframe tbody tr th:only-of-type {\n",
       "        vertical-align: middle;\n",
       "    }\n",
       "\n",
       "    .dataframe tbody tr th {\n",
       "        vertical-align: top;\n",
       "    }\n",
       "\n",
       "    .dataframe thead th {\n",
       "        text-align: right;\n",
       "    }\n",
       "</style>\n",
       "<table border=\"1\" class=\"dataframe\">\n",
       "  <thead>\n",
       "    <tr style=\"text-align: right;\">\n",
       "      <th></th>\n",
       "      <th>street</th>\n",
       "      <th>rest_quant</th>\n",
       "    </tr>\n",
       "  </thead>\n",
       "  <tbody>\n",
       "    <tr>\n",
       "      <td>1026</td>\n",
       "      <td>город Зеленоград</td>\n",
       "      <td>230</td>\n",
       "    </tr>\n",
       "    <tr>\n",
       "      <td>1089</td>\n",
       "      <td>проспект Мира</td>\n",
       "      <td>196</td>\n",
       "    </tr>\n",
       "    <tr>\n",
       "      <td>715</td>\n",
       "      <td>Профсоюзная улица</td>\n",
       "      <td>180</td>\n",
       "    </tr>\n",
       "    <tr>\n",
       "      <td>422</td>\n",
       "      <td>Ленинградский проспект</td>\n",
       "      <td>170</td>\n",
       "    </tr>\n",
       "    <tr>\n",
       "      <td>701</td>\n",
       "      <td>Пресненская набережная</td>\n",
       "      <td>165</td>\n",
       "    </tr>\n",
       "    <tr>\n",
       "      <td>154</td>\n",
       "      <td>Варшавское шоссе</td>\n",
       "      <td>159</td>\n",
       "    </tr>\n",
       "    <tr>\n",
       "      <td>425</td>\n",
       "      <td>Ленинский проспект</td>\n",
       "      <td>147</td>\n",
       "    </tr>\n",
       "    <tr>\n",
       "      <td>1065</td>\n",
       "      <td>поселение Сосенское</td>\n",
       "      <td>137</td>\n",
       "    </tr>\n",
       "    <tr>\n",
       "      <td>1086</td>\n",
       "      <td>проспект Вернадского</td>\n",
       "      <td>126</td>\n",
       "    </tr>\n",
       "    <tr>\n",
       "      <td>413</td>\n",
       "      <td>Кутузовский проспект</td>\n",
       "      <td>114</td>\n",
       "    </tr>\n",
       "    <tr>\n",
       "      <td>340</td>\n",
       "      <td>Каширское шоссе</td>\n",
       "      <td>110</td>\n",
       "    </tr>\n",
       "    <tr>\n",
       "      <td>346</td>\n",
       "      <td>Кировоградская улица</td>\n",
       "      <td>107</td>\n",
       "    </tr>\n",
       "  </tbody>\n",
       "</table>\n",
       "</div>"
      ],
      "text/plain": [
       "                      street  rest_quant\n",
       "1026        город Зеленоград         230\n",
       "1089           проспект Мира         196\n",
       "715        Профсоюзная улица         180\n",
       "422   Ленинградский проспект         170\n",
       "701   Пресненская набережная         165\n",
       "154         Варшавское шоссе         159\n",
       "425       Ленинский проспект         147\n",
       "1065     поселение Сосенское         137\n",
       "1086    проспект Вернадского         126\n",
       "413     Кутузовский проспект         114\n",
       "340          Каширское шоссе         110\n",
       "346     Кировоградская улица         107"
      ]
     },
     "execution_count": 35,
     "metadata": {},
     "output_type": "execute_result"
    }
   ],
   "source": [
    "top_streets = rest_data.groupby('street', as_index=False).agg({'id':'count'}).rename(columns={'id': 'rest_quant'}).sort_values(by='rest_quant', ascending=False)\n",
    "top_streets.head(12)"
   ]
  },
  {
   "cell_type": "markdown",
   "metadata": {},
   "source": [
    "####  <font color=\"green\"> Для определения района города по названию улицы воспользуемся таблицей с данными Мосгаза."
   ]
  },
  {
   "cell_type": "code",
   "execution_count": 36,
   "metadata": {},
   "outputs": [
    {
     "data": {
      "text/html": [
       "<div>\n",
       "<style scoped>\n",
       "    .dataframe tbody tr th:only-of-type {\n",
       "        vertical-align: middle;\n",
       "    }\n",
       "\n",
       "    .dataframe tbody tr th {\n",
       "        vertical-align: top;\n",
       "    }\n",
       "\n",
       "    .dataframe thead th {\n",
       "        text-align: right;\n",
       "    }\n",
       "</style>\n",
       "<table border=\"1\" class=\"dataframe\">\n",
       "  <thead>\n",
       "    <tr style=\"text-align: right;\">\n",
       "      <th></th>\n",
       "      <th>street</th>\n",
       "      <th>areaid</th>\n",
       "      <th>okrug</th>\n",
       "      <th>area</th>\n",
       "    </tr>\n",
       "  </thead>\n",
       "  <tbody>\n",
       "    <tr>\n",
       "      <td>0</td>\n",
       "      <td>Выставочный переулок</td>\n",
       "      <td>17</td>\n",
       "      <td>ЦАО</td>\n",
       "      <td>Пресненский район</td>\n",
       "    </tr>\n",
       "    <tr>\n",
       "      <td>1</td>\n",
       "      <td>улица Гашека</td>\n",
       "      <td>17</td>\n",
       "      <td>ЦАО</td>\n",
       "      <td>Пресненский район</td>\n",
       "    </tr>\n",
       "    <tr>\n",
       "      <td>2</td>\n",
       "      <td>Большая Никитская улица</td>\n",
       "      <td>17</td>\n",
       "      <td>ЦАО</td>\n",
       "      <td>Пресненский район</td>\n",
       "    </tr>\n",
       "  </tbody>\n",
       "</table>\n",
       "</div>"
      ],
      "text/plain": [
       "                    street  areaid okrug               area\n",
       "0     Выставочный переулок      17   ЦАО  Пресненский район\n",
       "1             улица Гашека      17   ЦАО  Пресненский район\n",
       "2  Большая Никитская улица      17   ЦАО  Пресненский район"
      ]
     },
     "execution_count": 36,
     "metadata": {},
     "output_type": "execute_result"
    }
   ],
   "source": [
    "streets_list = pd.read_csv('http://hubofdata.ru/storage/f/2013-10-22T09%3A25%3A27.793Z/mosgaz-streets.csv').rename(columns={'streetname': 'street'})\n",
    "\n",
    "streets_list.head(3)"
   ]
  },
  {
   "cell_type": "code",
   "execution_count": 37,
   "metadata": {},
   "outputs": [
    {
     "data": {
      "text/html": [
       "<div>\n",
       "<style scoped>\n",
       "    .dataframe tbody tr th:only-of-type {\n",
       "        vertical-align: middle;\n",
       "    }\n",
       "\n",
       "    .dataframe tbody tr th {\n",
       "        vertical-align: top;\n",
       "    }\n",
       "\n",
       "    .dataframe thead th {\n",
       "        text-align: right;\n",
       "    }\n",
       "</style>\n",
       "<table border=\"1\" class=\"dataframe\">\n",
       "  <thead>\n",
       "    <tr style=\"text-align: right;\">\n",
       "      <th></th>\n",
       "      <th>street</th>\n",
       "      <th>rest_quant</th>\n",
       "      <th>okrug</th>\n",
       "      <th>area</th>\n",
       "    </tr>\n",
       "  </thead>\n",
       "  <tbody>\n",
       "    <tr>\n",
       "      <td>0</td>\n",
       "      <td>город Зеленоград</td>\n",
       "      <td>230</td>\n",
       "      <td>Зеленоград</td>\n",
       "      <td>Район Крюково</td>\n",
       "    </tr>\n",
       "    <tr>\n",
       "      <td>1</td>\n",
       "      <td>город Зеленоград</td>\n",
       "      <td>230</td>\n",
       "      <td>Зеленоград</td>\n",
       "      <td>Район Матушкино-Савелки</td>\n",
       "    </tr>\n",
       "    <tr>\n",
       "      <td>2</td>\n",
       "      <td>город Зеленоград</td>\n",
       "      <td>230</td>\n",
       "      <td>Зеленоград</td>\n",
       "      <td>Панфиловский район</td>\n",
       "    </tr>\n",
       "    <tr>\n",
       "      <td>3</td>\n",
       "      <td>проспект Мира</td>\n",
       "      <td>196</td>\n",
       "      <td>СВАО</td>\n",
       "      <td>Алексеевский район</td>\n",
       "    </tr>\n",
       "    <tr>\n",
       "      <td>4</td>\n",
       "      <td>проспект Мира</td>\n",
       "      <td>196</td>\n",
       "      <td>СВАО</td>\n",
       "      <td>Ярославский Район</td>\n",
       "    </tr>\n",
       "    <tr>\n",
       "      <td>5</td>\n",
       "      <td>проспект Мира</td>\n",
       "      <td>196</td>\n",
       "      <td>СВАО</td>\n",
       "      <td>Район Марьина роща</td>\n",
       "    </tr>\n",
       "    <tr>\n",
       "      <td>6</td>\n",
       "      <td>проспект Мира</td>\n",
       "      <td>196</td>\n",
       "      <td>СВАО</td>\n",
       "      <td>Останкинский район</td>\n",
       "    </tr>\n",
       "    <tr>\n",
       "      <td>7</td>\n",
       "      <td>проспект Мира</td>\n",
       "      <td>196</td>\n",
       "      <td>СВАО</td>\n",
       "      <td>Район Ростокино</td>\n",
       "    </tr>\n",
       "    <tr>\n",
       "      <td>8</td>\n",
       "      <td>проспект Мира</td>\n",
       "      <td>196</td>\n",
       "      <td>СВАО</td>\n",
       "      <td>Район Свиблово</td>\n",
       "    </tr>\n",
       "    <tr>\n",
       "      <td>9</td>\n",
       "      <td>проспект Мира</td>\n",
       "      <td>196</td>\n",
       "      <td>ЦАО</td>\n",
       "      <td>Мещанский район</td>\n",
       "    </tr>\n",
       "    <tr>\n",
       "      <td>10</td>\n",
       "      <td>Профсоюзная улица</td>\n",
       "      <td>180</td>\n",
       "      <td>ЮЗАО</td>\n",
       "      <td>Академический район</td>\n",
       "    </tr>\n",
       "    <tr>\n",
       "      <td>11</td>\n",
       "      <td>Профсоюзная улица</td>\n",
       "      <td>180</td>\n",
       "      <td>ЮЗАО</td>\n",
       "      <td>Район Черемушки</td>\n",
       "    </tr>\n",
       "    <tr>\n",
       "      <td>12</td>\n",
       "      <td>Профсоюзная улица</td>\n",
       "      <td>180</td>\n",
       "      <td>ЮЗАО</td>\n",
       "      <td>Район Ясенево</td>\n",
       "    </tr>\n",
       "    <tr>\n",
       "      <td>13</td>\n",
       "      <td>Профсоюзная улица</td>\n",
       "      <td>180</td>\n",
       "      <td>ЮЗАО</td>\n",
       "      <td>Район Коньково</td>\n",
       "    </tr>\n",
       "    <tr>\n",
       "      <td>14</td>\n",
       "      <td>Профсоюзная улица</td>\n",
       "      <td>180</td>\n",
       "      <td>ЮЗАО</td>\n",
       "      <td>Обручевский район</td>\n",
       "    </tr>\n",
       "    <tr>\n",
       "      <td>15</td>\n",
       "      <td>Профсоюзная улица</td>\n",
       "      <td>180</td>\n",
       "      <td>ЮЗАО</td>\n",
       "      <td>Район Теплый Стан</td>\n",
       "    </tr>\n",
       "    <tr>\n",
       "      <td>16</td>\n",
       "      <td>Ленинградский проспект</td>\n",
       "      <td>170</td>\n",
       "      <td>САО</td>\n",
       "      <td>Район Аэропорт</td>\n",
       "    </tr>\n",
       "    <tr>\n",
       "      <td>17</td>\n",
       "      <td>Ленинградский проспект</td>\n",
       "      <td>170</td>\n",
       "      <td>САО</td>\n",
       "      <td>Район Беговой</td>\n",
       "    </tr>\n",
       "    <tr>\n",
       "      <td>18</td>\n",
       "      <td>Ленинградский проспект</td>\n",
       "      <td>170</td>\n",
       "      <td>САО</td>\n",
       "      <td>Хорошевский район</td>\n",
       "    </tr>\n",
       "    <tr>\n",
       "      <td>19</td>\n",
       "      <td>Ленинградский проспект</td>\n",
       "      <td>170</td>\n",
       "      <td>САО</td>\n",
       "      <td>Район Сокол</td>\n",
       "    </tr>\n",
       "    <tr>\n",
       "      <td>20</td>\n",
       "      <td>Пресненская набережная</td>\n",
       "      <td>165</td>\n",
       "      <td>ЦАО</td>\n",
       "      <td>Пресненский район</td>\n",
       "    </tr>\n",
       "    <tr>\n",
       "      <td>21</td>\n",
       "      <td>Варшавское шоссе</td>\n",
       "      <td>159</td>\n",
       "      <td>ЮАО</td>\n",
       "      <td>Район Чертаново Центральное</td>\n",
       "    </tr>\n",
       "    <tr>\n",
       "      <td>22</td>\n",
       "      <td>Варшавское шоссе</td>\n",
       "      <td>159</td>\n",
       "      <td>ЮАО</td>\n",
       "      <td>Район Чертаново Северное</td>\n",
       "    </tr>\n",
       "    <tr>\n",
       "      <td>23</td>\n",
       "      <td>Варшавское шоссе</td>\n",
       "      <td>159</td>\n",
       "      <td>ЮАО</td>\n",
       "      <td>Район Чертаново Южное</td>\n",
       "    </tr>\n",
       "    <tr>\n",
       "      <td>24</td>\n",
       "      <td>Варшавское шоссе</td>\n",
       "      <td>159</td>\n",
       "      <td>ЮАО</td>\n",
       "      <td>Донской район</td>\n",
       "    </tr>\n",
       "    <tr>\n",
       "      <td>25</td>\n",
       "      <td>Варшавское шоссе</td>\n",
       "      <td>159</td>\n",
       "      <td>ЮАО</td>\n",
       "      <td>Район Нагатино-Садовники</td>\n",
       "    </tr>\n",
       "    <tr>\n",
       "      <td>26</td>\n",
       "      <td>Варшавское шоссе</td>\n",
       "      <td>159</td>\n",
       "      <td>ЮАО</td>\n",
       "      <td>Нагорный район</td>\n",
       "    </tr>\n",
       "    <tr>\n",
       "      <td>27</td>\n",
       "      <td>Варшавское шоссе</td>\n",
       "      <td>159</td>\n",
       "      <td>ЮЗАО</td>\n",
       "      <td>Район Северное Бутово</td>\n",
       "    </tr>\n",
       "    <tr>\n",
       "      <td>28</td>\n",
       "      <td>Варшавское шоссе</td>\n",
       "      <td>159</td>\n",
       "      <td>ЮЗАО</td>\n",
       "      <td>Район Южное Бутово</td>\n",
       "    </tr>\n",
       "    <tr>\n",
       "      <td>29</td>\n",
       "      <td>Ленинский проспект</td>\n",
       "      <td>147</td>\n",
       "      <td>ЗАО</td>\n",
       "      <td>Район Проспект Вернадского</td>\n",
       "    </tr>\n",
       "    <tr>\n",
       "      <td>30</td>\n",
       "      <td>Ленинский проспект</td>\n",
       "      <td>147</td>\n",
       "      <td>ЗАО</td>\n",
       "      <td>Район Тропарево-Никулино</td>\n",
       "    </tr>\n",
       "    <tr>\n",
       "      <td>31</td>\n",
       "      <td>Ленинский проспект</td>\n",
       "      <td>147</td>\n",
       "      <td>ЮАО</td>\n",
       "      <td>Донской район</td>\n",
       "    </tr>\n",
       "    <tr>\n",
       "      <td>32</td>\n",
       "      <td>Ленинский проспект</td>\n",
       "      <td>147</td>\n",
       "      <td>ЮЗАО</td>\n",
       "      <td>Район Гагаринский</td>\n",
       "    </tr>\n",
       "    <tr>\n",
       "      <td>33</td>\n",
       "      <td>Ленинский проспект</td>\n",
       "      <td>147</td>\n",
       "      <td>ЮЗАО</td>\n",
       "      <td>Ломоносовский район</td>\n",
       "    </tr>\n",
       "    <tr>\n",
       "      <td>34</td>\n",
       "      <td>Ленинский проспект</td>\n",
       "      <td>147</td>\n",
       "      <td>ЮЗАО</td>\n",
       "      <td>Обручевский район</td>\n",
       "    </tr>\n",
       "    <tr>\n",
       "      <td>35</td>\n",
       "      <td>Ленинский проспект</td>\n",
       "      <td>147</td>\n",
       "      <td>ЮЗАО</td>\n",
       "      <td>Район Теплый Стан</td>\n",
       "    </tr>\n",
       "    <tr>\n",
       "      <td>36</td>\n",
       "      <td>Ленинский проспект</td>\n",
       "      <td>147</td>\n",
       "      <td>ЦАО</td>\n",
       "      <td>Район Якиманка</td>\n",
       "    </tr>\n",
       "    <tr>\n",
       "      <td>37</td>\n",
       "      <td>поселение Сосенское</td>\n",
       "      <td>137</td>\n",
       "      <td>NaN</td>\n",
       "      <td>NaN</td>\n",
       "    </tr>\n",
       "    <tr>\n",
       "      <td>38</td>\n",
       "      <td>проспект Вернадского</td>\n",
       "      <td>126</td>\n",
       "      <td>ЗАО</td>\n",
       "      <td>Район Проспект Вернадского</td>\n",
       "    </tr>\n",
       "    <tr>\n",
       "      <td>39</td>\n",
       "      <td>проспект Вернадского</td>\n",
       "      <td>126</td>\n",
       "      <td>ЗАО</td>\n",
       "      <td>Район Раменки</td>\n",
       "    </tr>\n",
       "    <tr>\n",
       "      <td>40</td>\n",
       "      <td>проспект Вернадского</td>\n",
       "      <td>126</td>\n",
       "      <td>ЗАО</td>\n",
       "      <td>Район Тропарево-Никулино</td>\n",
       "    </tr>\n",
       "    <tr>\n",
       "      <td>41</td>\n",
       "      <td>проспект Вернадского</td>\n",
       "      <td>126</td>\n",
       "      <td>ЮЗАО</td>\n",
       "      <td>Район Гагаринский</td>\n",
       "    </tr>\n",
       "    <tr>\n",
       "      <td>42</td>\n",
       "      <td>проспект Вернадского</td>\n",
       "      <td>126</td>\n",
       "      <td>ЮЗАО</td>\n",
       "      <td>Ломоносовский район</td>\n",
       "    </tr>\n",
       "    <tr>\n",
       "      <td>43</td>\n",
       "      <td>Кутузовский проспект</td>\n",
       "      <td>114</td>\n",
       "      <td>ЗАО</td>\n",
       "      <td>Район Дорогомилово</td>\n",
       "    </tr>\n",
       "    <tr>\n",
       "      <td>44</td>\n",
       "      <td>Кутузовский проспект</td>\n",
       "      <td>114</td>\n",
       "      <td>ЗАО</td>\n",
       "      <td>Район Фили-Давыдково</td>\n",
       "    </tr>\n",
       "    <tr>\n",
       "      <td>45</td>\n",
       "      <td>Каширское шоссе</td>\n",
       "      <td>110</td>\n",
       "      <td>ЮАО</td>\n",
       "      <td>Район Москворечье-Сабурово</td>\n",
       "    </tr>\n",
       "    <tr>\n",
       "      <td>46</td>\n",
       "      <td>Каширское шоссе</td>\n",
       "      <td>110</td>\n",
       "      <td>ЮАО</td>\n",
       "      <td>Район Нагатино-Садовники</td>\n",
       "    </tr>\n",
       "    <tr>\n",
       "      <td>47</td>\n",
       "      <td>Каширское шоссе</td>\n",
       "      <td>110</td>\n",
       "      <td>ЮАО</td>\n",
       "      <td>Район Орехово-Борисово Южное</td>\n",
       "    </tr>\n",
       "    <tr>\n",
       "      <td>48</td>\n",
       "      <td>Каширское шоссе</td>\n",
       "      <td>110</td>\n",
       "      <td>ЮАО</td>\n",
       "      <td>Район Орехово-Борисово Северное</td>\n",
       "    </tr>\n",
       "    <tr>\n",
       "      <td>49</td>\n",
       "      <td>Кировоградская улица</td>\n",
       "      <td>107</td>\n",
       "      <td>ЮАО</td>\n",
       "      <td>Район Чертаново Центральное</td>\n",
       "    </tr>\n",
       "    <tr>\n",
       "      <td>50</td>\n",
       "      <td>Кировоградская улица</td>\n",
       "      <td>107</td>\n",
       "      <td>ЮАО</td>\n",
       "      <td>Район Чертаново Северное</td>\n",
       "    </tr>\n",
       "    <tr>\n",
       "      <td>51</td>\n",
       "      <td>Кировоградская улица</td>\n",
       "      <td>107</td>\n",
       "      <td>ЮАО</td>\n",
       "      <td>Район Чертаново Южное</td>\n",
       "    </tr>\n",
       "  </tbody>\n",
       "</table>\n",
       "</div>"
      ],
      "text/plain": [
       "                    street  rest_quant       okrug  \\\n",
       "0         город Зеленоград         230  Зеленоград   \n",
       "1         город Зеленоград         230  Зеленоград   \n",
       "2         город Зеленоград         230  Зеленоград   \n",
       "3            проспект Мира         196        СВАО   \n",
       "4            проспект Мира         196        СВАО   \n",
       "5            проспект Мира         196        СВАО   \n",
       "6            проспект Мира         196        СВАО   \n",
       "7            проспект Мира         196        СВАО   \n",
       "8            проспект Мира         196        СВАО   \n",
       "9            проспект Мира         196         ЦАО   \n",
       "10       Профсоюзная улица         180        ЮЗАО   \n",
       "11       Профсоюзная улица         180        ЮЗАО   \n",
       "12       Профсоюзная улица         180        ЮЗАО   \n",
       "13       Профсоюзная улица         180        ЮЗАО   \n",
       "14       Профсоюзная улица         180        ЮЗАО   \n",
       "15       Профсоюзная улица         180        ЮЗАО   \n",
       "16  Ленинградский проспект         170         САО   \n",
       "17  Ленинградский проспект         170         САО   \n",
       "18  Ленинградский проспект         170         САО   \n",
       "19  Ленинградский проспект         170         САО   \n",
       "20  Пресненская набережная         165         ЦАО   \n",
       "21        Варшавское шоссе         159         ЮАО   \n",
       "22        Варшавское шоссе         159         ЮАО   \n",
       "23        Варшавское шоссе         159         ЮАО   \n",
       "24        Варшавское шоссе         159         ЮАО   \n",
       "25        Варшавское шоссе         159         ЮАО   \n",
       "26        Варшавское шоссе         159         ЮАО   \n",
       "27        Варшавское шоссе         159        ЮЗАО   \n",
       "28        Варшавское шоссе         159        ЮЗАО   \n",
       "29      Ленинский проспект         147         ЗАО   \n",
       "30      Ленинский проспект         147         ЗАО   \n",
       "31      Ленинский проспект         147         ЮАО   \n",
       "32      Ленинский проспект         147        ЮЗАО   \n",
       "33      Ленинский проспект         147        ЮЗАО   \n",
       "34      Ленинский проспект         147        ЮЗАО   \n",
       "35      Ленинский проспект         147        ЮЗАО   \n",
       "36      Ленинский проспект         147         ЦАО   \n",
       "37     поселение Сосенское         137         NaN   \n",
       "38    проспект Вернадского         126         ЗАО   \n",
       "39    проспект Вернадского         126         ЗАО   \n",
       "40    проспект Вернадского         126         ЗАО   \n",
       "41    проспект Вернадского         126        ЮЗАО   \n",
       "42    проспект Вернадского         126        ЮЗАО   \n",
       "43    Кутузовский проспект         114         ЗАО   \n",
       "44    Кутузовский проспект         114         ЗАО   \n",
       "45         Каширское шоссе         110         ЮАО   \n",
       "46         Каширское шоссе         110         ЮАО   \n",
       "47         Каширское шоссе         110         ЮАО   \n",
       "48         Каширское шоссе         110         ЮАО   \n",
       "49    Кировоградская улица         107         ЮАО   \n",
       "50    Кировоградская улица         107         ЮАО   \n",
       "51    Кировоградская улица         107         ЮАО   \n",
       "\n",
       "                               area  \n",
       "0                     Район Крюково  \n",
       "1           Район Матушкино-Савелки  \n",
       "2                Панфиловский район  \n",
       "3                Алексеевский район  \n",
       "4                 Ярославский Район  \n",
       "5                Район Марьина роща  \n",
       "6                Останкинский район  \n",
       "7                   Район Ростокино  \n",
       "8                    Район Свиблово  \n",
       "9                   Мещанский район  \n",
       "10              Академический район  \n",
       "11                  Район Черемушки  \n",
       "12                    Район Ясенево  \n",
       "13                   Район Коньково  \n",
       "14                Обручевский район  \n",
       "15                Район Теплый Стан  \n",
       "16                   Район Аэропорт  \n",
       "17                    Район Беговой  \n",
       "18                Хорошевский район  \n",
       "19                      Район Сокол  \n",
       "20                Пресненский район  \n",
       "21      Район Чертаново Центральное  \n",
       "22         Район Чертаново Северное  \n",
       "23            Район Чертаново Южное  \n",
       "24                    Донской район  \n",
       "25         Район Нагатино-Садовники  \n",
       "26                   Нагорный район  \n",
       "27            Район Северное Бутово  \n",
       "28               Район Южное Бутово  \n",
       "29       Район Проспект Вернадского  \n",
       "30         Район Тропарево-Никулино  \n",
       "31                    Донской район  \n",
       "32                Район Гагаринский  \n",
       "33              Ломоносовский район  \n",
       "34                Обручевский район  \n",
       "35                Район Теплый Стан  \n",
       "36                   Район Якиманка  \n",
       "37                              NaN  \n",
       "38       Район Проспект Вернадского  \n",
       "39                    Район Раменки  \n",
       "40         Район Тропарево-Никулино  \n",
       "41                Район Гагаринский  \n",
       "42              Ломоносовский район  \n",
       "43               Район Дорогомилово  \n",
       "44             Район Фили-Давыдково  \n",
       "45       Район Москворечье-Сабурово  \n",
       "46         Район Нагатино-Садовники  \n",
       "47     Район Орехово-Борисово Южное  \n",
       "48  Район Орехово-Борисово Северное  \n",
       "49      Район Чертаново Центральное  \n",
       "50         Район Чертаново Северное  \n",
       "51            Район Чертаново Южное  "
      ]
     },
     "execution_count": 37,
     "metadata": {},
     "output_type": "execute_result"
    }
   ],
   "source": [
    "rest_district = top_streets.merge(streets_list, how='left', on='street')[['street', 'rest_quant', 'okrug', 'area']]\n",
    "rest_district.head(52)"
   ]
  },
  {
   "cell_type": "markdown",
   "metadata": {},
   "source": [
    "Зеленоград и поселение Сосенское попали в столбец street из-за того, что в адресах городских поселений есть дополнительное поле. Но, так как нас интересуют улицы с наибольшим числом заведений, то уютным Зеленоградом и прелестным Сосенским можно пожертвовать. Удалим их из  таблицы."
   ]
  },
  {
   "cell_type": "code",
   "execution_count": 38,
   "metadata": {
    "scrolled": false
   },
   "outputs": [
    {
     "data": {
      "text/html": [
       "<div>\n",
       "<style scoped>\n",
       "    .dataframe tbody tr th:only-of-type {\n",
       "        vertical-align: middle;\n",
       "    }\n",
       "\n",
       "    .dataframe tbody tr th {\n",
       "        vertical-align: top;\n",
       "    }\n",
       "\n",
       "    .dataframe thead th {\n",
       "        text-align: right;\n",
       "    }\n",
       "</style>\n",
       "<table border=\"1\" class=\"dataframe\">\n",
       "  <thead>\n",
       "    <tr style=\"text-align: right;\">\n",
       "      <th></th>\n",
       "      <th>street</th>\n",
       "      <th>rest_quant</th>\n",
       "      <th>okrug</th>\n",
       "      <th>area</th>\n",
       "    </tr>\n",
       "  </thead>\n",
       "  <tbody>\n",
       "    <tr>\n",
       "      <td>3</td>\n",
       "      <td>проспект Мира</td>\n",
       "      <td>196</td>\n",
       "      <td>СВАО</td>\n",
       "      <td>Алексеевский район</td>\n",
       "    </tr>\n",
       "    <tr>\n",
       "      <td>4</td>\n",
       "      <td>проспект Мира</td>\n",
       "      <td>196</td>\n",
       "      <td>СВАО</td>\n",
       "      <td>Ярославский Район</td>\n",
       "    </tr>\n",
       "    <tr>\n",
       "      <td>5</td>\n",
       "      <td>проспект Мира</td>\n",
       "      <td>196</td>\n",
       "      <td>СВАО</td>\n",
       "      <td>Район Марьина роща</td>\n",
       "    </tr>\n",
       "    <tr>\n",
       "      <td>6</td>\n",
       "      <td>проспект Мира</td>\n",
       "      <td>196</td>\n",
       "      <td>СВАО</td>\n",
       "      <td>Останкинский район</td>\n",
       "    </tr>\n",
       "    <tr>\n",
       "      <td>7</td>\n",
       "      <td>проспект Мира</td>\n",
       "      <td>196</td>\n",
       "      <td>СВАО</td>\n",
       "      <td>Район Ростокино</td>\n",
       "    </tr>\n",
       "    <tr>\n",
       "      <td>8</td>\n",
       "      <td>проспект Мира</td>\n",
       "      <td>196</td>\n",
       "      <td>СВАО</td>\n",
       "      <td>Район Свиблово</td>\n",
       "    </tr>\n",
       "    <tr>\n",
       "      <td>9</td>\n",
       "      <td>проспект Мира</td>\n",
       "      <td>196</td>\n",
       "      <td>ЦАО</td>\n",
       "      <td>Мещанский район</td>\n",
       "    </tr>\n",
       "    <tr>\n",
       "      <td>10</td>\n",
       "      <td>Профсоюзная улица</td>\n",
       "      <td>180</td>\n",
       "      <td>ЮЗАО</td>\n",
       "      <td>Академический район</td>\n",
       "    </tr>\n",
       "    <tr>\n",
       "      <td>11</td>\n",
       "      <td>Профсоюзная улица</td>\n",
       "      <td>180</td>\n",
       "      <td>ЮЗАО</td>\n",
       "      <td>Район Черемушки</td>\n",
       "    </tr>\n",
       "    <tr>\n",
       "      <td>12</td>\n",
       "      <td>Профсоюзная улица</td>\n",
       "      <td>180</td>\n",
       "      <td>ЮЗАО</td>\n",
       "      <td>Район Ясенево</td>\n",
       "    </tr>\n",
       "    <tr>\n",
       "      <td>13</td>\n",
       "      <td>Профсоюзная улица</td>\n",
       "      <td>180</td>\n",
       "      <td>ЮЗАО</td>\n",
       "      <td>Район Коньково</td>\n",
       "    </tr>\n",
       "    <tr>\n",
       "      <td>14</td>\n",
       "      <td>Профсоюзная улица</td>\n",
       "      <td>180</td>\n",
       "      <td>ЮЗАО</td>\n",
       "      <td>Обручевский район</td>\n",
       "    </tr>\n",
       "    <tr>\n",
       "      <td>15</td>\n",
       "      <td>Профсоюзная улица</td>\n",
       "      <td>180</td>\n",
       "      <td>ЮЗАО</td>\n",
       "      <td>Район Теплый Стан</td>\n",
       "    </tr>\n",
       "    <tr>\n",
       "      <td>16</td>\n",
       "      <td>Ленинградский проспект</td>\n",
       "      <td>170</td>\n",
       "      <td>САО</td>\n",
       "      <td>Район Аэропорт</td>\n",
       "    </tr>\n",
       "    <tr>\n",
       "      <td>17</td>\n",
       "      <td>Ленинградский проспект</td>\n",
       "      <td>170</td>\n",
       "      <td>САО</td>\n",
       "      <td>Район Беговой</td>\n",
       "    </tr>\n",
       "    <tr>\n",
       "      <td>18</td>\n",
       "      <td>Ленинградский проспект</td>\n",
       "      <td>170</td>\n",
       "      <td>САО</td>\n",
       "      <td>Хорошевский район</td>\n",
       "    </tr>\n",
       "    <tr>\n",
       "      <td>19</td>\n",
       "      <td>Ленинградский проспект</td>\n",
       "      <td>170</td>\n",
       "      <td>САО</td>\n",
       "      <td>Район Сокол</td>\n",
       "    </tr>\n",
       "    <tr>\n",
       "      <td>20</td>\n",
       "      <td>Пресненская набережная</td>\n",
       "      <td>165</td>\n",
       "      <td>ЦАО</td>\n",
       "      <td>Пресненский район</td>\n",
       "    </tr>\n",
       "    <tr>\n",
       "      <td>21</td>\n",
       "      <td>Варшавское шоссе</td>\n",
       "      <td>159</td>\n",
       "      <td>ЮАО</td>\n",
       "      <td>Район Чертаново Центральное</td>\n",
       "    </tr>\n",
       "    <tr>\n",
       "      <td>22</td>\n",
       "      <td>Варшавское шоссе</td>\n",
       "      <td>159</td>\n",
       "      <td>ЮАО</td>\n",
       "      <td>Район Чертаново Северное</td>\n",
       "    </tr>\n",
       "    <tr>\n",
       "      <td>23</td>\n",
       "      <td>Варшавское шоссе</td>\n",
       "      <td>159</td>\n",
       "      <td>ЮАО</td>\n",
       "      <td>Район Чертаново Южное</td>\n",
       "    </tr>\n",
       "    <tr>\n",
       "      <td>24</td>\n",
       "      <td>Варшавское шоссе</td>\n",
       "      <td>159</td>\n",
       "      <td>ЮАО</td>\n",
       "      <td>Донской район</td>\n",
       "    </tr>\n",
       "    <tr>\n",
       "      <td>25</td>\n",
       "      <td>Варшавское шоссе</td>\n",
       "      <td>159</td>\n",
       "      <td>ЮАО</td>\n",
       "      <td>Район Нагатино-Садовники</td>\n",
       "    </tr>\n",
       "    <tr>\n",
       "      <td>26</td>\n",
       "      <td>Варшавское шоссе</td>\n",
       "      <td>159</td>\n",
       "      <td>ЮАО</td>\n",
       "      <td>Нагорный район</td>\n",
       "    </tr>\n",
       "    <tr>\n",
       "      <td>27</td>\n",
       "      <td>Варшавское шоссе</td>\n",
       "      <td>159</td>\n",
       "      <td>ЮЗАО</td>\n",
       "      <td>Район Северное Бутово</td>\n",
       "    </tr>\n",
       "    <tr>\n",
       "      <td>28</td>\n",
       "      <td>Варшавское шоссе</td>\n",
       "      <td>159</td>\n",
       "      <td>ЮЗАО</td>\n",
       "      <td>Район Южное Бутово</td>\n",
       "    </tr>\n",
       "    <tr>\n",
       "      <td>29</td>\n",
       "      <td>Ленинский проспект</td>\n",
       "      <td>147</td>\n",
       "      <td>ЗАО</td>\n",
       "      <td>Район Проспект Вернадского</td>\n",
       "    </tr>\n",
       "    <tr>\n",
       "      <td>30</td>\n",
       "      <td>Ленинский проспект</td>\n",
       "      <td>147</td>\n",
       "      <td>ЗАО</td>\n",
       "      <td>Район Тропарево-Никулино</td>\n",
       "    </tr>\n",
       "    <tr>\n",
       "      <td>31</td>\n",
       "      <td>Ленинский проспект</td>\n",
       "      <td>147</td>\n",
       "      <td>ЮАО</td>\n",
       "      <td>Донской район</td>\n",
       "    </tr>\n",
       "    <tr>\n",
       "      <td>32</td>\n",
       "      <td>Ленинский проспект</td>\n",
       "      <td>147</td>\n",
       "      <td>ЮЗАО</td>\n",
       "      <td>Район Гагаринский</td>\n",
       "    </tr>\n",
       "    <tr>\n",
       "      <td>33</td>\n",
       "      <td>Ленинский проспект</td>\n",
       "      <td>147</td>\n",
       "      <td>ЮЗАО</td>\n",
       "      <td>Ломоносовский район</td>\n",
       "    </tr>\n",
       "    <tr>\n",
       "      <td>34</td>\n",
       "      <td>Ленинский проспект</td>\n",
       "      <td>147</td>\n",
       "      <td>ЮЗАО</td>\n",
       "      <td>Обручевский район</td>\n",
       "    </tr>\n",
       "    <tr>\n",
       "      <td>35</td>\n",
       "      <td>Ленинский проспект</td>\n",
       "      <td>147</td>\n",
       "      <td>ЮЗАО</td>\n",
       "      <td>Район Теплый Стан</td>\n",
       "    </tr>\n",
       "    <tr>\n",
       "      <td>36</td>\n",
       "      <td>Ленинский проспект</td>\n",
       "      <td>147</td>\n",
       "      <td>ЦАО</td>\n",
       "      <td>Район Якиманка</td>\n",
       "    </tr>\n",
       "    <tr>\n",
       "      <td>38</td>\n",
       "      <td>проспект Вернадского</td>\n",
       "      <td>126</td>\n",
       "      <td>ЗАО</td>\n",
       "      <td>Район Проспект Вернадского</td>\n",
       "    </tr>\n",
       "    <tr>\n",
       "      <td>39</td>\n",
       "      <td>проспект Вернадского</td>\n",
       "      <td>126</td>\n",
       "      <td>ЗАО</td>\n",
       "      <td>Район Раменки</td>\n",
       "    </tr>\n",
       "    <tr>\n",
       "      <td>40</td>\n",
       "      <td>проспект Вернадского</td>\n",
       "      <td>126</td>\n",
       "      <td>ЗАО</td>\n",
       "      <td>Район Тропарево-Никулино</td>\n",
       "    </tr>\n",
       "    <tr>\n",
       "      <td>41</td>\n",
       "      <td>проспект Вернадского</td>\n",
       "      <td>126</td>\n",
       "      <td>ЮЗАО</td>\n",
       "      <td>Район Гагаринский</td>\n",
       "    </tr>\n",
       "    <tr>\n",
       "      <td>42</td>\n",
       "      <td>проспект Вернадского</td>\n",
       "      <td>126</td>\n",
       "      <td>ЮЗАО</td>\n",
       "      <td>Ломоносовский район</td>\n",
       "    </tr>\n",
       "    <tr>\n",
       "      <td>43</td>\n",
       "      <td>Кутузовский проспект</td>\n",
       "      <td>114</td>\n",
       "      <td>ЗАО</td>\n",
       "      <td>Район Дорогомилово</td>\n",
       "    </tr>\n",
       "    <tr>\n",
       "      <td>44</td>\n",
       "      <td>Кутузовский проспект</td>\n",
       "      <td>114</td>\n",
       "      <td>ЗАО</td>\n",
       "      <td>Район Фили-Давыдково</td>\n",
       "    </tr>\n",
       "    <tr>\n",
       "      <td>45</td>\n",
       "      <td>Каширское шоссе</td>\n",
       "      <td>110</td>\n",
       "      <td>ЮАО</td>\n",
       "      <td>Район Москворечье-Сабурово</td>\n",
       "    </tr>\n",
       "    <tr>\n",
       "      <td>46</td>\n",
       "      <td>Каширское шоссе</td>\n",
       "      <td>110</td>\n",
       "      <td>ЮАО</td>\n",
       "      <td>Район Нагатино-Садовники</td>\n",
       "    </tr>\n",
       "    <tr>\n",
       "      <td>47</td>\n",
       "      <td>Каширское шоссе</td>\n",
       "      <td>110</td>\n",
       "      <td>ЮАО</td>\n",
       "      <td>Район Орехово-Борисово Южное</td>\n",
       "    </tr>\n",
       "    <tr>\n",
       "      <td>48</td>\n",
       "      <td>Каширское шоссе</td>\n",
       "      <td>110</td>\n",
       "      <td>ЮАО</td>\n",
       "      <td>Район Орехово-Борисово Северное</td>\n",
       "    </tr>\n",
       "    <tr>\n",
       "      <td>49</td>\n",
       "      <td>Кировоградская улица</td>\n",
       "      <td>107</td>\n",
       "      <td>ЮАО</td>\n",
       "      <td>Район Чертаново Центральное</td>\n",
       "    </tr>\n",
       "    <tr>\n",
       "      <td>50</td>\n",
       "      <td>Кировоградская улица</td>\n",
       "      <td>107</td>\n",
       "      <td>ЮАО</td>\n",
       "      <td>Район Чертаново Северное</td>\n",
       "    </tr>\n",
       "    <tr>\n",
       "      <td>51</td>\n",
       "      <td>Кировоградская улица</td>\n",
       "      <td>107</td>\n",
       "      <td>ЮАО</td>\n",
       "      <td>Район Чертаново Южное</td>\n",
       "    </tr>\n",
       "  </tbody>\n",
       "</table>\n",
       "</div>"
      ],
      "text/plain": [
       "                    street  rest_quant okrug                             area\n",
       "3            проспект Мира         196  СВАО               Алексеевский район\n",
       "4            проспект Мира         196  СВАО                Ярославский Район\n",
       "5            проспект Мира         196  СВАО               Район Марьина роща\n",
       "6            проспект Мира         196  СВАО               Останкинский район\n",
       "7            проспект Мира         196  СВАО                  Район Ростокино\n",
       "8            проспект Мира         196  СВАО                   Район Свиблово\n",
       "9            проспект Мира         196   ЦАО                  Мещанский район\n",
       "10       Профсоюзная улица         180  ЮЗАО              Академический район\n",
       "11       Профсоюзная улица         180  ЮЗАО                  Район Черемушки\n",
       "12       Профсоюзная улица         180  ЮЗАО                    Район Ясенево\n",
       "13       Профсоюзная улица         180  ЮЗАО                   Район Коньково\n",
       "14       Профсоюзная улица         180  ЮЗАО                Обручевский район\n",
       "15       Профсоюзная улица         180  ЮЗАО                Район Теплый Стан\n",
       "16  Ленинградский проспект         170   САО                   Район Аэропорт\n",
       "17  Ленинградский проспект         170   САО                    Район Беговой\n",
       "18  Ленинградский проспект         170   САО                Хорошевский район\n",
       "19  Ленинградский проспект         170   САО                      Район Сокол\n",
       "20  Пресненская набережная         165   ЦАО                Пресненский район\n",
       "21        Варшавское шоссе         159   ЮАО      Район Чертаново Центральное\n",
       "22        Варшавское шоссе         159   ЮАО         Район Чертаново Северное\n",
       "23        Варшавское шоссе         159   ЮАО            Район Чертаново Южное\n",
       "24        Варшавское шоссе         159   ЮАО                    Донской район\n",
       "25        Варшавское шоссе         159   ЮАО         Район Нагатино-Садовники\n",
       "26        Варшавское шоссе         159   ЮАО                   Нагорный район\n",
       "27        Варшавское шоссе         159  ЮЗАО            Район Северное Бутово\n",
       "28        Варшавское шоссе         159  ЮЗАО               Район Южное Бутово\n",
       "29      Ленинский проспект         147   ЗАО       Район Проспект Вернадского\n",
       "30      Ленинский проспект         147   ЗАО         Район Тропарево-Никулино\n",
       "31      Ленинский проспект         147   ЮАО                    Донской район\n",
       "32      Ленинский проспект         147  ЮЗАО                Район Гагаринский\n",
       "33      Ленинский проспект         147  ЮЗАО              Ломоносовский район\n",
       "34      Ленинский проспект         147  ЮЗАО                Обручевский район\n",
       "35      Ленинский проспект         147  ЮЗАО                Район Теплый Стан\n",
       "36      Ленинский проспект         147   ЦАО                   Район Якиманка\n",
       "38    проспект Вернадского         126   ЗАО       Район Проспект Вернадского\n",
       "39    проспект Вернадского         126   ЗАО                    Район Раменки\n",
       "40    проспект Вернадского         126   ЗАО         Район Тропарево-Никулино\n",
       "41    проспект Вернадского         126  ЮЗАО                Район Гагаринский\n",
       "42    проспект Вернадского         126  ЮЗАО              Ломоносовский район\n",
       "43    Кутузовский проспект         114   ЗАО               Район Дорогомилово\n",
       "44    Кутузовский проспект         114   ЗАО             Район Фили-Давыдково\n",
       "45         Каширское шоссе         110   ЮАО       Район Москворечье-Сабурово\n",
       "46         Каширское шоссе         110   ЮАО         Район Нагатино-Садовники\n",
       "47         Каширское шоссе         110   ЮАО     Район Орехово-Борисово Южное\n",
       "48         Каширское шоссе         110   ЮАО  Район Орехово-Борисово Северное\n",
       "49    Кировоградская улица         107   ЮАО      Район Чертаново Центральное\n",
       "50    Кировоградская улица         107   ЮАО         Район Чертаново Северное\n",
       "51    Кировоградская улица         107   ЮАО            Район Чертаново Южное"
      ]
     },
     "execution_count": 38,
     "metadata": {},
     "output_type": "execute_result"
    }
   ],
   "source": [
    "rest_district = rest_district.drop(rest_district[(rest_district.street=='город Зеленоград') | (rest_district.street=='поселение Сосенское')].index)\n",
    "rest_district.head(48)"
   ]
  },
  {
   "cell_type": "code",
   "execution_count": 39,
   "metadata": {
    "scrolled": false
   },
   "outputs": [
    {
     "data": {
      "text/html": [
       "<div>\n",
       "<style scoped>\n",
       "    .dataframe tbody tr th:only-of-type {\n",
       "        vertical-align: middle;\n",
       "    }\n",
       "\n",
       "    .dataframe tbody tr th {\n",
       "        vertical-align: top;\n",
       "    }\n",
       "\n",
       "    .dataframe thead th {\n",
       "        text-align: right;\n",
       "    }\n",
       "</style>\n",
       "<table border=\"1\" class=\"dataframe\">\n",
       "  <thead>\n",
       "    <tr style=\"text-align: right;\">\n",
       "      <th></th>\n",
       "      <th>street</th>\n",
       "      <th>okrug</th>\n",
       "    </tr>\n",
       "  </thead>\n",
       "  <tbody>\n",
       "    <tr>\n",
       "      <td>3</td>\n",
       "      <td>проспект Мира</td>\n",
       "      <td>СВАО</td>\n",
       "    </tr>\n",
       "    <tr>\n",
       "      <td>4</td>\n",
       "      <td>проспект Мира</td>\n",
       "      <td>СВАО</td>\n",
       "    </tr>\n",
       "    <tr>\n",
       "      <td>5</td>\n",
       "      <td>проспект Мира</td>\n",
       "      <td>СВАО</td>\n",
       "    </tr>\n",
       "    <tr>\n",
       "      <td>6</td>\n",
       "      <td>проспект Мира</td>\n",
       "      <td>СВАО</td>\n",
       "    </tr>\n",
       "    <tr>\n",
       "      <td>7</td>\n",
       "      <td>проспект Мира</td>\n",
       "      <td>СВАО</td>\n",
       "    </tr>\n",
       "    <tr>\n",
       "      <td>...</td>\n",
       "      <td>...</td>\n",
       "      <td>...</td>\n",
       "    </tr>\n",
       "    <tr>\n",
       "      <td>1947</td>\n",
       "      <td>Мишина улица</td>\n",
       "      <td>САО</td>\n",
       "    </tr>\n",
       "    <tr>\n",
       "      <td>1948</td>\n",
       "      <td>Балтийская улица</td>\n",
       "      <td>САО</td>\n",
       "    </tr>\n",
       "    <tr>\n",
       "      <td>1949</td>\n",
       "      <td>Балтийская улица</td>\n",
       "      <td>САО</td>\n",
       "    </tr>\n",
       "    <tr>\n",
       "      <td>1950</td>\n",
       "      <td>Мрузовский переулок</td>\n",
       "      <td>ЦАО</td>\n",
       "    </tr>\n",
       "    <tr>\n",
       "      <td>1951</td>\n",
       "      <td>Средний Кондратьевский переулок</td>\n",
       "      <td>ЦАО</td>\n",
       "    </tr>\n",
       "  </tbody>\n",
       "</table>\n",
       "<p>1902 rows × 2 columns</p>\n",
       "</div>"
      ],
      "text/plain": [
       "                               street okrug\n",
       "3                       проспект Мира  СВАО\n",
       "4                       проспект Мира  СВАО\n",
       "5                       проспект Мира  СВАО\n",
       "6                       проспект Мира  СВАО\n",
       "7                       проспект Мира  СВАО\n",
       "...                               ...   ...\n",
       "1947                     Мишина улица   САО\n",
       "1948                 Балтийская улица   САО\n",
       "1949                 Балтийская улица   САО\n",
       "1950              Мрузовский переулок   ЦАО\n",
       "1951  Средний Кондратьевский переулок   ЦАО\n",
       "\n",
       "[1902 rows x 2 columns]"
      ]
     },
     "execution_count": 39,
     "metadata": {},
     "output_type": "execute_result"
    }
   ],
   "source": [
    "xxx = rest_district.groupby(['street', 'okrug'])[['street', 'okrug']]\n",
    "xxx.head()"
   ]
  },
  {
   "cell_type": "code",
   "execution_count": 53,
   "metadata": {
    "scrolled": false
   },
   "outputs": [
    {
     "name": "stderr",
     "output_type": "stream",
     "text": [
      "/opt/conda/lib/python3.7/site-packages/ipykernel_launcher.py:1: FutureWarning: `Series.plot()` should not be called with positional arguments, only keyword arguments. The order of positional arguments will change in the future. Use `Series.plot(kind='bar')` instead of `Series.plot('bar',)`.\n",
      "  \"\"\"Entry point for launching an IPython kernel.\n"
     ]
    },
    {
     "data": {
      "image/png": "[encoded data removed]",
      "text/plain": [
       "<Figure size 432x288 with 1 Axes>"
      ]
     },
     "metadata": {
      "needs_background": "light"
     },
     "output_type": "display_data"
    }
   ],
   "source": [
    "ax = pd.Series(rest_district['okrug']).value_counts().plot('bar', title='Количество заведений по округам')\n",
    "ax.set_xlabel(\"Округи\")\n",
    "ax.set_ylabel(\"Число заведений\");"
   ]
  },
  {
   "cell_type": "markdown",
   "metadata": {},
   "source": [
    "Центральный округ лидирует по количеству точек с огромным отрывом. Отдыхать надо в центре! В том числе и с роботами!"
   ]
  },
  {
   "cell_type": "markdown",
   "metadata": {},
   "source": [
    "Как и следовало ожидать, в список попали самые большие по протяженности московские улицы. И поэтому есть сложности с определением района Москвы, где эти улицы находятся. Они проходят через несколько районов, а некоторые - даже через несколько городских округов. Например Ленинский находится в Центральном, Южном, Юго-Западном и Западном округах, проспект Мира - в Центальном и Северо-Восточном, Вернадского - в ЗАО и ЮЗАО. Но если учитывать все округа, то получается, что из 12 московских округов топ-10 улиц с наибольшим количеством предприятий общественного питания расположены в 6ти из них. При этом в  Южном округе проходят сразу 4 таких улицы, в Центральном, Западном и Юго-Западном - по 3, в Северном и Северо-Восточном - 1."
   ]
  },
  {
   "cell_type": "markdown",
   "metadata": {},
   "source": [
    "<a id=\"single_rest\"></a>\n",
    "### <font color=\"blue\">Найти число улиц с одним объектом общественного питания. В каких районах Москвы находятся эти улицы?"
   ]
  },
  {
   "cell_type": "code",
   "execution_count": 41,
   "metadata": {},
   "outputs": [
    {
     "data": {
      "text/html": [
       "<div>\n",
       "<style scoped>\n",
       "    .dataframe tbody tr th:only-of-type {\n",
       "        vertical-align: middle;\n",
       "    }\n",
       "\n",
       "    .dataframe tbody tr th {\n",
       "        vertical-align: top;\n",
       "    }\n",
       "\n",
       "    .dataframe thead th {\n",
       "        text-align: right;\n",
       "    }\n",
       "</style>\n",
       "<table border=\"1\" class=\"dataframe\">\n",
       "  <thead>\n",
       "    <tr style=\"text-align: right;\">\n",
       "      <th></th>\n",
       "      <th>index</th>\n",
       "      <th>street</th>\n",
       "      <th>rest_quant</th>\n",
       "    </tr>\n",
       "  </thead>\n",
       "  <tbody>\n",
       "    <tr>\n",
       "      <td>0</td>\n",
       "      <td>1289</td>\n",
       "      <td>улица Кутузова</td>\n",
       "      <td>1</td>\n",
       "    </tr>\n",
       "    <tr>\n",
       "      <td>1</td>\n",
       "      <td>1491</td>\n",
       "      <td>улица Шеногина</td>\n",
       "      <td>1</td>\n",
       "    </tr>\n",
       "    <tr>\n",
       "      <td>2</td>\n",
       "      <td>139</td>\n",
       "      <td>Брошевский переулок</td>\n",
       "      <td>1</td>\n",
       "    </tr>\n",
       "  </tbody>\n",
       "</table>\n",
       "</div>"
      ],
      "text/plain": [
       "   index               street  rest_quant\n",
       "0   1289       улица Кутузова           1\n",
       "1   1491       улица Шеногина           1\n",
       "2    139  Брошевский переулок           1"
      ]
     },
     "execution_count": 41,
     "metadata": {},
     "output_type": "execute_result"
    }
   ],
   "source": [
    "singl_rest_street = top_streets[top_streets['rest_quant'] == 1].reset_index()\n",
    "singl_rest_street.head(3)"
   ]
  },
  {
   "cell_type": "code",
   "execution_count": 42,
   "metadata": {},
   "outputs": [
    {
     "name": "stdout",
     "output_type": "stream",
     "text": [
      "<class 'pandas.core.frame.DataFrame'>\n",
      "RangeIndex: 396 entries, 0 to 395\n",
      "Data columns (total 3 columns):\n",
      "index         396 non-null int64\n",
      "street        396 non-null object\n",
      "rest_quant    396 non-null int64\n",
      "dtypes: int64(2), object(1)\n",
      "memory usage: 9.4+ KB\n"
     ]
    }
   ],
   "source": [
    "singl_rest_street.info()"
   ]
  },
  {
   "cell_type": "markdown",
   "metadata": {},
   "source": [
    "#### Таких улиц слишком 396. Для определения района города по названию улицы также воспользуемся таблицей с данными Мосгаза. "
   ]
  },
  {
   "cell_type": "code",
   "execution_count": 43,
   "metadata": {},
   "outputs": [
    {
     "data": {
      "text/html": [
       "<div>\n",
       "<style scoped>\n",
       "    .dataframe tbody tr th:only-of-type {\n",
       "        vertical-align: middle;\n",
       "    }\n",
       "\n",
       "    .dataframe tbody tr th {\n",
       "        vertical-align: top;\n",
       "    }\n",
       "\n",
       "    .dataframe thead th {\n",
       "        text-align: right;\n",
       "    }\n",
       "</style>\n",
       "<table border=\"1\" class=\"dataframe\">\n",
       "  <thead>\n",
       "    <tr style=\"text-align: right;\">\n",
       "      <th></th>\n",
       "      <th>street</th>\n",
       "      <th>okrug</th>\n",
       "      <th>area</th>\n",
       "    </tr>\n",
       "  </thead>\n",
       "  <tbody>\n",
       "    <tr>\n",
       "      <td>0</td>\n",
       "      <td>улица Кутузова</td>\n",
       "      <td>ЗАО</td>\n",
       "      <td>Можайский Район</td>\n",
       "    </tr>\n",
       "    <tr>\n",
       "      <td>1</td>\n",
       "      <td>улица Шеногина</td>\n",
       "      <td>СЗАО</td>\n",
       "      <td>Район Хорошево-Мневники</td>\n",
       "    </tr>\n",
       "    <tr>\n",
       "      <td>2</td>\n",
       "      <td>Брошевский переулок</td>\n",
       "      <td>ЦАО</td>\n",
       "      <td>Таганский район</td>\n",
       "    </tr>\n",
       "  </tbody>\n",
       "</table>\n",
       "</div>"
      ],
      "text/plain": [
       "                street okrug                     area\n",
       "0       улица Кутузова   ЗАО          Можайский Район\n",
       "1       улица Шеногина  СЗАО  Район Хорошево-Мневники\n",
       "2  Брошевский переулок   ЦАО          Таганский район"
      ]
     },
     "execution_count": 43,
     "metadata": {},
     "output_type": "execute_result"
    }
   ],
   "source": [
    "singl_rest_street_district = singl_rest_street.merge(streets_list, how='left', on='street')[['street', 'okrug', 'area']]\n",
    "singl_rest_street_district.head(3)"
   ]
  },
  {
   "cell_type": "code",
   "execution_count": 44,
   "metadata": {},
   "outputs": [
    {
     "data": {
      "text/html": [
       "<div>\n",
       "<style scoped>\n",
       "    .dataframe tbody tr th:only-of-type {\n",
       "        vertical-align: middle;\n",
       "    }\n",
       "\n",
       "    .dataframe tbody tr th {\n",
       "        vertical-align: top;\n",
       "    }\n",
       "\n",
       "    .dataframe thead th {\n",
       "        text-align: right;\n",
       "    }\n",
       "</style>\n",
       "<table border=\"1\" class=\"dataframe\">\n",
       "  <thead>\n",
       "    <tr style=\"text-align: right;\">\n",
       "      <th></th>\n",
       "      <th>okrug</th>\n",
       "      <th>street</th>\n",
       "    </tr>\n",
       "  </thead>\n",
       "  <tbody>\n",
       "    <tr>\n",
       "      <td>6</td>\n",
       "      <td>ЦАО</td>\n",
       "      <td>151</td>\n",
       "    </tr>\n",
       "    <tr>\n",
       "      <td>4</td>\n",
       "      <td>СВАО</td>\n",
       "      <td>47</td>\n",
       "    </tr>\n",
       "    <tr>\n",
       "      <td>3</td>\n",
       "      <td>САО</td>\n",
       "      <td>41</td>\n",
       "    </tr>\n",
       "    <tr>\n",
       "      <td>0</td>\n",
       "      <td>ВАО</td>\n",
       "      <td>39</td>\n",
       "    </tr>\n",
       "    <tr>\n",
       "      <td>8</td>\n",
       "      <td>ЮВАО</td>\n",
       "      <td>39</td>\n",
       "    </tr>\n",
       "    <tr>\n",
       "      <td>1</td>\n",
       "      <td>ЗАО</td>\n",
       "      <td>32</td>\n",
       "    </tr>\n",
       "    <tr>\n",
       "      <td>5</td>\n",
       "      <td>СЗАО</td>\n",
       "      <td>24</td>\n",
       "    </tr>\n",
       "    <tr>\n",
       "      <td>9</td>\n",
       "      <td>ЮЗАО</td>\n",
       "      <td>24</td>\n",
       "    </tr>\n",
       "    <tr>\n",
       "      <td>7</td>\n",
       "      <td>ЮАО</td>\n",
       "      <td>21</td>\n",
       "    </tr>\n",
       "    <tr>\n",
       "      <td>2</td>\n",
       "      <td>Зеленоград</td>\n",
       "      <td>1</td>\n",
       "    </tr>\n",
       "  </tbody>\n",
       "</table>\n",
       "</div>"
      ],
      "text/plain": [
       "        okrug  street\n",
       "6         ЦАО     151\n",
       "4        СВАО      47\n",
       "3         САО      41\n",
       "0         ВАО      39\n",
       "8        ЮВАО      39\n",
       "1         ЗАО      32\n",
       "5        СЗАО      24\n",
       "9        ЮЗАО      24\n",
       "7         ЮАО      21\n",
       "2  Зеленоград       1"
      ]
     },
     "execution_count": 44,
     "metadata": {},
     "output_type": "execute_result"
    }
   ],
   "source": [
    "# посмотрим распределение по округам \n",
    "singl_rest_street_district.groupby('okrug', as_index=False)[['street']].count().sort_values(by='street', ascending=False)"
   ]
  },
  {
   "cell_type": "markdown",
   "metadata": {},
   "source": [
    "##### Больше всего таких улиц - 151 (38%) расположены в центральном округе! По более переферийным округам они размазаны по 20-40 штук, ничто по сравнению с центром. На московских изогнутых улицах мне в кафе бы откушать вок!\n",
    "\n",
    "###### Посмотрим теперь как они распределены по районам внутри центрального округа."
   ]
  },
  {
   "cell_type": "code",
   "execution_count": 45,
   "metadata": {},
   "outputs": [],
   "source": [
    "singl_rest_street_district_cao = singl_rest_street_district[singl_rest_street_district['okrug']=='ЦАО']\n",
    "singl_rest_street_area = singl_rest_street_district_cao.groupby('area', as_index=False)[['street']].count().sort_values(by='street', ascending=False)"
   ]
  },
  {
   "cell_type": "code",
   "execution_count": 46,
   "metadata": {},
   "outputs": [
    {
     "data": {
      "image/png": "[encoded data removed]",
      "text/plain": [
       "<Figure size 576x396 with 1 Axes>"
      ]
     },
     "metadata": {},
     "output_type": "display_data"
    }
   ],
   "source": [
    "with plt.style.context('seaborn'):\n",
    "    plt.bar(singl_rest_street_area['area'], singl_rest_street_area['street'])\n",
    "plt.xticks(rotation=90)\n",
    "plt.xlabel('Район')\n",
    "plt.ylabel('Число улиц с единственным заведением')\n",
    "plt.title('Распределение заведений по районам ЦАО')\n",
    "plt.show()"
   ]
  },
  {
   "cell_type": "markdown",
   "metadata": {},
   "source": [
    "##### Таганка! Зачем сгубила ты меня!"
   ]
  },
  {
   "cell_type": "markdown",
   "metadata": {},
   "source": [
    "<a id=\"top_street_distribution\"></a>\n",
    "### <font color=\"blue\">Проанализировать распределение количества посадочных мест для улиц с большим количеством объектов общественного питания. Какие закономерности можно выявить?"
   ]
  },
  {
   "cell_type": "code",
   "execution_count": 47,
   "metadata": {},
   "outputs": [
    {
     "data": {
      "text/html": [
       "<div>\n",
       "<style scoped>\n",
       "    .dataframe tbody tr th:only-of-type {\n",
       "        vertical-align: middle;\n",
       "    }\n",
       "\n",
       "    .dataframe tbody tr th {\n",
       "        vertical-align: top;\n",
       "    }\n",
       "\n",
       "    .dataframe thead th {\n",
       "        text-align: right;\n",
       "    }\n",
       "</style>\n",
       "<table border=\"1\" class=\"dataframe\">\n",
       "  <thead>\n",
       "    <tr style=\"text-align: right;\">\n",
       "      <th></th>\n",
       "      <th>index</th>\n",
       "      <th>id</th>\n",
       "      <th>object_name</th>\n",
       "      <th>chain</th>\n",
       "      <th>object_type</th>\n",
       "      <th>address</th>\n",
       "      <th>number</th>\n",
       "      <th>name_processed</th>\n",
       "      <th>street</th>\n",
       "    </tr>\n",
       "  </thead>\n",
       "  <tbody>\n",
       "    <tr>\n",
       "      <td>0</td>\n",
       "      <td>0</td>\n",
       "      <td>151635</td>\n",
       "      <td>сметана</td>\n",
       "      <td>нет</td>\n",
       "      <td>кафе</td>\n",
       "      <td>город Москва, улица Егора Абакумова, дом 9</td>\n",
       "      <td>48</td>\n",
       "      <td>сметана</td>\n",
       "      <td>улица Егора Абакумова</td>\n",
       "    </tr>\n",
       "    <tr>\n",
       "      <td>1</td>\n",
       "      <td>1</td>\n",
       "      <td>77874</td>\n",
       "      <td>родник</td>\n",
       "      <td>нет</td>\n",
       "      <td>кафе</td>\n",
       "      <td>город Москва, улица Талалихина, дом 2/1, корпус 1</td>\n",
       "      <td>35</td>\n",
       "      <td>родник</td>\n",
       "      <td>улица Талалихина</td>\n",
       "    </tr>\n",
       "    <tr>\n",
       "      <td>2</td>\n",
       "      <td>2</td>\n",
       "      <td>24309</td>\n",
       "      <td>кафе «академия»</td>\n",
       "      <td>нет</td>\n",
       "      <td>кафе</td>\n",
       "      <td>город Москва, Абельмановская улица, дом 6</td>\n",
       "      <td>95</td>\n",
       "      <td>кафе «академия»</td>\n",
       "      <td>Абельмановская улица</td>\n",
       "    </tr>\n",
       "    <tr>\n",
       "      <td>3</td>\n",
       "      <td>3</td>\n",
       "      <td>21894</td>\n",
       "      <td>пиццетория</td>\n",
       "      <td>да</td>\n",
       "      <td>кафе</td>\n",
       "      <td>город Москва, Абрамцевская улица, дом 1</td>\n",
       "      <td>40</td>\n",
       "      <td>пиццетория</td>\n",
       "      <td>Абрамцевская улица</td>\n",
       "    </tr>\n",
       "    <tr>\n",
       "      <td>4</td>\n",
       "      <td>4</td>\n",
       "      <td>119365</td>\n",
       "      <td>кафе «вишневая метель»</td>\n",
       "      <td>нет</td>\n",
       "      <td>кафе</td>\n",
       "      <td>город Москва, Абрамцевская улица, дом 9, корпус 1</td>\n",
       "      <td>50</td>\n",
       "      <td>кафе «вишневая метель»</td>\n",
       "      <td>Абрамцевская улица</td>\n",
       "    </tr>\n",
       "  </tbody>\n",
       "</table>\n",
       "</div>"
      ],
      "text/plain": [
       "   index      id             object_name chain object_type  \\\n",
       "0      0  151635                 сметана   нет        кафе   \n",
       "1      1   77874                  родник   нет        кафе   \n",
       "2      2   24309         кафе «академия»   нет        кафе   \n",
       "3      3   21894              пиццетория    да        кафе   \n",
       "4      4  119365  кафе «вишневая метель»   нет        кафе   \n",
       "\n",
       "                                             address  number  \\\n",
       "0         город Москва, улица Егора Абакумова, дом 9      48   \n",
       "1  город Москва, улица Талалихина, дом 2/1, корпус 1      35   \n",
       "2          город Москва, Абельмановская улица, дом 6      95   \n",
       "3            город Москва, Абрамцевская улица, дом 1      40   \n",
       "4  город Москва, Абрамцевская улица, дом 9, корпус 1      50   \n",
       "\n",
       "           name_processed                 street  \n",
       "0                 сметана  улица Егора Абакумова  \n",
       "1                  родник       улица Талалихина  \n",
       "2         кафе «академия»   Абельмановская улица  \n",
       "3              пиццетория     Абрамцевская улица  \n",
       "4  кафе «вишневая метель»     Абрамцевская улица  "
      ]
     },
     "execution_count": 47,
     "metadata": {},
     "output_type": "execute_result"
    }
   ],
   "source": [
    "rest_data_wht_empty.head()\n",
    "rest_data_wht_empty['street'] = rest_data_wht_empty['address'].str.extract(',\\s([А-я\\s]+),')[0]  \n",
    "rest_data_wht_empty.head()"
   ]
  },
  {
   "cell_type": "code",
   "execution_count": 48,
   "metadata": {
    "scrolled": false
   },
   "outputs": [
    {
     "data": {
      "text/html": [
       "<div>\n",
       "<style scoped>\n",
       "    .dataframe tbody tr th:only-of-type {\n",
       "        vertical-align: middle;\n",
       "    }\n",
       "\n",
       "    .dataframe tbody tr th {\n",
       "        vertical-align: top;\n",
       "    }\n",
       "\n",
       "    .dataframe thead th {\n",
       "        text-align: right;\n",
       "    }\n",
       "</style>\n",
       "<table border=\"1\" class=\"dataframe\">\n",
       "  <thead>\n",
       "    <tr style=\"text-align: right;\">\n",
       "      <th></th>\n",
       "      <th>street</th>\n",
       "      <th>rest_quant</th>\n",
       "      <th>number</th>\n",
       "      <th>object_type</th>\n",
       "    </tr>\n",
       "  </thead>\n",
       "  <tbody>\n",
       "    <tr>\n",
       "      <td>1013</td>\n",
       "      <td>город Зеленоград</td>\n",
       "      <td>225</td>\n",
       "      <td>75.777778</td>\n",
       "      <td>столовая</td>\n",
       "    </tr>\n",
       "    <tr>\n",
       "      <td>1073</td>\n",
       "      <td>проспект Мира</td>\n",
       "      <td>192</td>\n",
       "      <td>66.614583</td>\n",
       "      <td>кафе</td>\n",
       "    </tr>\n",
       "    <tr>\n",
       "      <td>419</td>\n",
       "      <td>Ленинградский проспект</td>\n",
       "      <td>158</td>\n",
       "      <td>57.025316</td>\n",
       "      <td>кафе</td>\n",
       "    </tr>\n",
       "    <tr>\n",
       "      <td>696</td>\n",
       "      <td>Пресненская набережная</td>\n",
       "      <td>156</td>\n",
       "      <td>49.076923</td>\n",
       "      <td>ресторан</td>\n",
       "    </tr>\n",
       "    <tr>\n",
       "      <td>709</td>\n",
       "      <td>Профсоюзная улица</td>\n",
       "      <td>142</td>\n",
       "      <td>59.485915</td>\n",
       "      <td>столовая</td>\n",
       "    </tr>\n",
       "    <tr>\n",
       "      <td>154</td>\n",
       "      <td>Варшавское шоссе</td>\n",
       "      <td>140</td>\n",
       "      <td>60.807143</td>\n",
       "      <td>кафе</td>\n",
       "    </tr>\n",
       "    <tr>\n",
       "      <td>422</td>\n",
       "      <td>Ленинский проспект</td>\n",
       "      <td>137</td>\n",
       "      <td>68.102190</td>\n",
       "      <td>ресторан</td>\n",
       "    </tr>\n",
       "    <tr>\n",
       "      <td>1070</td>\n",
       "      <td>проспект Вернадского</td>\n",
       "      <td>130</td>\n",
       "      <td>68.000000</td>\n",
       "      <td>кафе</td>\n",
       "    </tr>\n",
       "    <tr>\n",
       "      <td>1052</td>\n",
       "      <td>поселение Сосенское</td>\n",
       "      <td>110</td>\n",
       "      <td>28.290909</td>\n",
       "      <td>кафе</td>\n",
       "    </tr>\n",
       "    <tr>\n",
       "      <td>410</td>\n",
       "      <td>Кутузовский проспект</td>\n",
       "      <td>98</td>\n",
       "      <td>98.948980</td>\n",
       "      <td>ресторан</td>\n",
       "    </tr>\n",
       "    <tr>\n",
       "      <td>337</td>\n",
       "      <td>Каширское шоссе</td>\n",
       "      <td>97</td>\n",
       "      <td>63.618557</td>\n",
       "      <td>кафе</td>\n",
       "    </tr>\n",
       "    <tr>\n",
       "      <td>241</td>\n",
       "      <td>Дмитровское шоссе</td>\n",
       "      <td>93</td>\n",
       "      <td>67.946237</td>\n",
       "      <td>столовая</td>\n",
       "    </tr>\n",
       "    <tr>\n",
       "      <td>420</td>\n",
       "      <td>Ленинградское шоссе</td>\n",
       "      <td>90</td>\n",
       "      <td>49.644444</td>\n",
       "      <td>ресторан</td>\n",
       "    </tr>\n",
       "    <tr>\n",
       "      <td>343</td>\n",
       "      <td>Кировоградская улица</td>\n",
       "      <td>86</td>\n",
       "      <td>76.476744</td>\n",
       "      <td>столовая</td>\n",
       "    </tr>\n",
       "    <tr>\n",
       "      <td>1276</td>\n",
       "      <td>улица Ленинская Слобода</td>\n",
       "      <td>80</td>\n",
       "      <td>33.325000</td>\n",
       "      <td>предприятие быстрого обслуживания</td>\n",
       "    </tr>\n",
       "    <tr>\n",
       "      <td>717</td>\n",
       "      <td>Пятницкая улица</td>\n",
       "      <td>80</td>\n",
       "      <td>64.850000</td>\n",
       "      <td>кафе</td>\n",
       "    </tr>\n",
       "    <tr>\n",
       "      <td>1214</td>\n",
       "      <td>улица Земляной Вал</td>\n",
       "      <td>77</td>\n",
       "      <td>49.480519</td>\n",
       "      <td>кафе</td>\n",
       "    </tr>\n",
       "    <tr>\n",
       "      <td>1373</td>\n",
       "      <td>улица Покровка</td>\n",
       "      <td>76</td>\n",
       "      <td>51.381579</td>\n",
       "      <td>кафе</td>\n",
       "    </tr>\n",
       "    <tr>\n",
       "      <td>1105</td>\n",
       "      <td>улица Арбат</td>\n",
       "      <td>73</td>\n",
       "      <td>61.082192</td>\n",
       "      <td>ресторан</td>\n",
       "    </tr>\n",
       "    <tr>\n",
       "      <td>531</td>\n",
       "      <td>Мясницкая улица</td>\n",
       "      <td>72</td>\n",
       "      <td>66.986111</td>\n",
       "      <td>ресторан</td>\n",
       "    </tr>\n",
       "  </tbody>\n",
       "</table>\n",
       "</div>"
      ],
      "text/plain": [
       "                       street  rest_quant     number  \\\n",
       "1013         город Зеленоград         225  75.777778   \n",
       "1073            проспект Мира         192  66.614583   \n",
       "419    Ленинградский проспект         158  57.025316   \n",
       "696    Пресненская набережная         156  49.076923   \n",
       "709         Профсоюзная улица         142  59.485915   \n",
       "154          Варшавское шоссе         140  60.807143   \n",
       "422        Ленинский проспект         137  68.102190   \n",
       "1070     проспект Вернадского         130  68.000000   \n",
       "1052      поселение Сосенское         110  28.290909   \n",
       "410      Кутузовский проспект          98  98.948980   \n",
       "337           Каширское шоссе          97  63.618557   \n",
       "241         Дмитровское шоссе          93  67.946237   \n",
       "420       Ленинградское шоссе          90  49.644444   \n",
       "343      Кировоградская улица          86  76.476744   \n",
       "1276  улица Ленинская Слобода          80  33.325000   \n",
       "717           Пятницкая улица          80  64.850000   \n",
       "1214       улица Земляной Вал          77  49.480519   \n",
       "1373           улица Покровка          76  51.381579   \n",
       "1105              улица Арбат          73  61.082192   \n",
       "531           Мясницкая улица          72  66.986111   \n",
       "\n",
       "                            object_type  \n",
       "1013                           столовая  \n",
       "1073                               кафе  \n",
       "419                                кафе  \n",
       "696                            ресторан  \n",
       "709                            столовая  \n",
       "154                                кафе  \n",
       "422                            ресторан  \n",
       "1070                               кафе  \n",
       "1052                               кафе  \n",
       "410                            ресторан  \n",
       "337                                кафе  \n",
       "241                            столовая  \n",
       "420                            ресторан  \n",
       "343                            столовая  \n",
       "1276  предприятие быстрого обслуживания  \n",
       "717                                кафе  \n",
       "1214                               кафе  \n",
       "1373                               кафе  \n",
       "1105                           ресторан  \n",
       "531                            ресторан  "
      ]
     },
     "execution_count": 48,
     "metadata": {},
     "output_type": "execute_result"
    }
   ],
   "source": [
    "# опять вопрос про вместимость, значит опять призываем датасет с ненулевой вместимостью\n",
    "top_streets_wht_empty = rest_data_wht_empty.groupby('street', as_index=False).agg({'id':'count','number':'mean', 'object_type':'first'}).rename(columns={'id': 'rest_quant'}).sort_values(by='rest_quant', ascending=False)\n",
    "top_streets_wht_empty.head(20)"
   ]
  },
  {
   "cell_type": "code",
   "execution_count": 52,
   "metadata": {},
   "outputs": [
    {
     "data": {
      "image/png": "[encoded data removed]",
      "text/plain": [
       "<Figure size 576x396 with 1 Axes>"
      ]
     },
     "metadata": {},
     "output_type": "display_data"
    }
   ],
   "source": [
    "\n",
    "with plt.style.context('seaborn'):\n",
    "    plt.bar(top_streets_wht_empty.head(20)['street'], top_streets_wht_empty.head(20)['number'])\n",
    "plt.xticks(rotation=90)\n",
    "plt.xlabel('Улица')\n",
    "plt.ylabel('Средняя вместимость заведений')\n",
    "plt.title('Средняя вместимость для топ-10 улиц')\n",
    "plt.show()"
   ]
  },
  {
   "cell_type": "markdown",
   "metadata": {},
   "source": [
    "Заметно выбиваются в меньшую сторону посление Сосенское (договорились не принимать их в расчет с Зеленоградом, так как это не улицы) и Ленинская слобода - относительно небольшая улица. И сразу там средняя вместимость 35 мест против 60-70 на больших проспектах."
   ]
  },
  {
   "cell_type": "code",
   "execution_count": 50,
   "metadata": {},
   "outputs": [
    {
     "data": {
      "text/plain": [
       "60.846056033404054"
      ]
     },
     "execution_count": 50,
     "metadata": {},
     "output_type": "execute_result"
    }
   ],
   "source": [
    "top_streets_wht_empty.head(20)['number'].mean()"
   ]
  },
  {
   "cell_type": "code",
   "execution_count": 51,
   "metadata": {},
   "outputs": [
    {
     "data": {
      "text/plain": [
       "42.56910569105691"
      ]
     },
     "execution_count": 51,
     "metadata": {},
     "output_type": "execute_result"
    }
   ],
   "source": [
    "top_streets_wht_empty[(top_streets_wht_empty['rest_quant']==1) & (top_streets_wht_empty['object_type']=='кафе')]['number'].mean()"
   ]
  },
  {
   "cell_type": "markdown",
   "metadata": {},
   "source": [
    "Средняя вместимость для улиц с большим количеством объектов общественного питания - 60. В центральных районах заведениях примерно в полтора раза меньше по вместимости, чем на больших магистралях - больше. Примерно такая же вместимость характерна для сетевых ресторанов. Для не входящих в сети она чуть больше - 68. В общем, похоже, что 60-70 мест это оптимальное число."
   ]
  },
  {
   "cell_type": "markdown",
   "metadata": {},
   "source": [
    "#### ВыводЫ: \n",
    "1. Если смотреть на вместимость заведений в зависимости от типа, то самые большие - столовые (150), рестораны (100), затем бары, буфеты и кафе (40-60 мест). Но так как наша концепция основана на официантах, то выбор стоит между рестораном и кафе. Затевать ресторан - затея намного более сложная, дорогостоящая и рискованная. Поэтому для первого заведения я рекомендую формат кафе. Десяток столиков на 40-50 человек -то что надо для начала.\n",
    "2. С форматом опередились, теперь нужно выбрать район. С одной стороны есть большие магистрали с десятками (и даже сотнями) заведений, с другой - маленькие улицы в центре с 1-2 ресторанами. Но если на улице 100 ресторанов, то выше и конкуренция. Да и из-за особенностей архитектуры зданий на таких магистралях (сталинская или более поздняя постройка), вместимость заведений там выше (70-80 против 30-40 в центре). Вряд ли кто-то поедет специально в кафе в условное Чертаново, тогда как в центре - конечно да. Туда могут зайти как офисные работники после трудового дня, так и туристы передохнуть после дня в Пушкинском музее. Мой выбор - небольшая улица в центре."
   ]
  },
  {
   "cell_type": "markdown",
   "metadata": {},
   "source": [
    "## Общий вывод\n",
    "\n",
    "Нужный нам формат - это кафе. Нам нужны официанты, роль которых будут исполнять роботы, поэтому варианты с баром, буфетом, фастфудом нам не подходят. А ресторан имеет уже гораздо бОльшую вместимость, выше требования к кухне, к меню и т.д.\n",
    "\n",
    "Кафе имеет оригинальный формат, свою \"фишку\" - роботов, имеет все шансы привлекать не только москвичей, но и стать туристической достопримечательностью, поэтому целесообразно будет разместить его в одном из центральных районов, на одной из небольших улиц. Средняя вместимость таких заведений - около 40 мест.\n",
    "\n",
    "При условии успеха первого заведения следует рассмотреть воозможность открытия второго, в другом районе. \n",
    "Помимо того, что роботы-официанты это аттракцион, возможно они окажутся экономически выгоднее людей-официантов. При высоких начальных вложениях, в дальнейшем они будут обходиться дешевле. Но это уже тема другого исследования."
   ]
  },
  {
   "cell_type": "markdown",
   "metadata": {},
   "source": [
    "Презентация: https://yadi.sk/i/HxWh0a-QUcKEuQ"
   ]
  }
 ],
 "metadata": {
  "kernelspec": {
   "display_name": "Python 3",
   "language": "python",
   "name": "python3"
  },
  "language_info": {
   "codemirror_mode": {
    "name": "ipython",
    "version": 3
   },
   "file_extension": ".py",
   "mimetype": "text/x-python",
   "name": "python",
   "nbconvert_exporter": "python",
   "pygments_lexer": "ipython3",
   "version": "3.7.4"
  }
 },
 "nbformat": 4,
 "nbformat_minor": 2
}
