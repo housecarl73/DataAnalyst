{
 "cells": [
  {
   "cell_type": "markdown",
   "metadata": {},
   "source": [
    "# Анализ рынка вакансий\n",
    "Выбрать и проанализировать вакансии, на которые студенты QA-факультета могут откликнуться и получить приглашение на интервью. Оценить объём рынка вакансий для начинающих тестировщиков.\n",
    "### Задача: исследовательский анализ вакансий\n",
    "1. [Портрет вакансии](#picture)\n",
    " - [самые частые требования и задачи](#often)\n",
    " - [выделить наиболее популярные сегменты / группы вакансий](#popular_groups)\n",
    "2. [Анализ аномалий в описании вакансии](#anomaly)\n",
    "3. [Анализ креативности вакансий](#creativity)\n",
    "\n",
    "### [Вопросы от заказчика:](#customer)\n",
    "1. [Емкость рынка по годам.Формат таблицы: Год, Количество вакансий](#years)\n",
    "2. [Емкость рынка по регионам и по годам.Формат таблицы: Регион, Год, Количество вакансий](#regions)\n",
    "3. [Доля вакансий, в которой упоминается «исследовательское тестирование»](#research_share)\n",
    "4. [Распределение по регионам и количество вакансий с удаленной работой.Формат таблицы: Регион, Количество вакансий](#remote)\n",
    "5. [Существуют ли сезонные пики и спады в распределении числа активных вакансий в течение года и если да — существуют везде или,например, в Москве спадов нет?](#season)\n",
    "6. [Сколько вакансий-стажировок (с дополнительным к основной выборке словом «стажер»/«стажёр»/«стажировка» в названии) и их распределение по регионам. Формат: Регион, количество вакансий](#trainee)\n",
    "7. [Сколько вакансий джунов называются «тестировщик», «QA» или«QC»? Не случился ли перекос в сторону наименования QA?](#junior)\n",
    "\n",
    "### Ожидаемый результат\n",
    "- Исследовательский анализ данных,\n",
    "- Ответы на вопросы заказчика с использованием таблиц и инструментов визуализации,\n",
    "- [Выводы и рекомендации](#conclusions)"
   ]
  },
  {
   "cell_type": "code",
   "execution_count": 1,
   "metadata": {},
   "outputs": [],
   "source": [
    "import pandas as pd\n",
    "import matplotlib.pyplot as plt\n",
    "import seaborn as sns\n",
    "import numpy as np\n",
    "import string"
   ]
  },
  {
   "cell_type": "code",
   "execution_count": 2,
   "metadata": {},
   "outputs": [
    {
     "name": "stderr",
     "output_type": "stream",
     "text": [
      "[nltk_data] Downloading package punkt to\n",
      "[nltk_data]     C:\\Users\\Всеволод\\AppData\\Roaming\\nltk_data...\n",
      "[nltk_data]   Package punkt is already up-to-date!\n",
      "[nltk_data] Downloading package stopwords to\n",
      "[nltk_data]     C:\\Users\\Всеволод\\AppData\\Roaming\\nltk_data...\n",
      "[nltk_data]   Package stopwords is already up-to-date!\n"
     ]
    }
   ],
   "source": [
    "import nltk\n",
    "nltk.download('punkt')\n",
    "nltk.download('stopwords')\n",
    "from nltk.corpus import stopwords\n",
    "from nltk.stem import SnowballStemmer \n",
    "russian_stemmer = SnowballStemmer('russian')"
   ]
  },
  {
   "cell_type": "code",
   "execution_count": 3,
   "metadata": {},
   "outputs": [],
   "source": [
    "import warnings\n",
    "warnings.filterwarnings('ignore')"
   ]
  },
  {
   "cell_type": "code",
   "execution_count": 4,
   "metadata": {},
   "outputs": [],
   "source": [
    "vacancy_data = pd.read_csv(\"C:\\project_data\\jobs_yandex_prakt.csv\", sep='|')"
   ]
  },
  {
   "cell_type": "code",
   "execution_count": 5,
   "metadata": {},
   "outputs": [
    {
     "data": {
      "text/html": [
       "<div>\n",
       "<style scoped>\n",
       "    .dataframe tbody tr th:only-of-type {\n",
       "        vertical-align: middle;\n",
       "    }\n",
       "\n",
       "    .dataframe tbody tr th {\n",
       "        vertical-align: top;\n",
       "    }\n",
       "\n",
       "    .dataframe thead th {\n",
       "        text-align: right;\n",
       "    }\n",
       "</style>\n",
       "<table border=\"1\" class=\"dataframe\">\n",
       "  <thead>\n",
       "    <tr style=\"text-align: right;\">\n",
       "      <th></th>\n",
       "      <th>Unnamed: 0</th>\n",
       "      <th>vacancy_id</th>\n",
       "      <th>vacancy_name</th>\n",
       "      <th>vacancy_description</th>\n",
       "      <th>experience_required</th>\n",
       "      <th>type_of_employment</th>\n",
       "      <th>work_schedule</th>\n",
       "      <th>publication_day</th>\n",
       "      <th>city_name</th>\n",
       "      <th>region_name</th>\n",
       "      <th>country_name</th>\n",
       "      <th>list_of_profarea_ids</th>\n",
       "      <th>list_of_skill_names</th>\n",
       "    </tr>\n",
       "  </thead>\n",
       "  <tbody>\n",
       "    <tr>\n",
       "      <td>0</td>\n",
       "      <td>62986</td>\n",
       "      <td>22432537</td>\n",
       "      <td>Руководитель IT отдела</td>\n",
       "      <td>&lt;p&gt;&lt;strong&gt;&lt;em&gt;!!!!!!!!!!!УВАЖАЕМЫЕ СОИСКАТЕЛИ...</td>\n",
       "      <td>up_to_6_years</td>\n",
       "      <td>full</td>\n",
       "      <td>full_day</td>\n",
       "      <td>2017-08-30 00:00:00.000</td>\n",
       "      <td>Москва</td>\n",
       "      <td>Москва</td>\n",
       "      <td>Россия</td>\n",
       "      <td>1</td>\n",
       "      <td>[None]</td>\n",
       "    </tr>\n",
       "    <tr>\n",
       "      <td>1</td>\n",
       "      <td>1337306</td>\n",
       "      <td>20529248</td>\n",
       "      <td>DevOps engineer</td>\n",
       "      <td>&lt;p&gt;&lt;strong&gt;Мы предлагаем полную занятость на у...</td>\n",
       "      <td>up_to_6_years</td>\n",
       "      <td>full</td>\n",
       "      <td>remote</td>\n",
       "      <td>2017-05-15 00:00:00.000</td>\n",
       "      <td>Ставрополь</td>\n",
       "      <td>Ставропольский край</td>\n",
       "      <td>Россия</td>\n",
       "      <td>1</td>\n",
       "      <td>[None]</td>\n",
       "    </tr>\n",
       "    <tr>\n",
       "      <td>2</td>\n",
       "      <td>147089</td>\n",
       "      <td>22269077</td>\n",
       "      <td>Разработчик PL/SQL</td>\n",
       "      <td>&lt;p&gt;&lt;strong&gt;Требования к соискателям:&lt;/strong&gt;&lt;...</td>\n",
       "      <td>up_to_3_years</td>\n",
       "      <td>full</td>\n",
       "      <td>full_day</td>\n",
       "      <td>2017-08-08 00:00:00.000</td>\n",
       "      <td>Рязань</td>\n",
       "      <td>Рязанская область</td>\n",
       "      <td>Россия</td>\n",
       "      <td>1</td>\n",
       "      <td>['Atlassian Jira', 'SOAP', 'Oracle Pl/SQL', 'G...</td>\n",
       "    </tr>\n",
       "  </tbody>\n",
       "</table>\n",
       "</div>"
      ],
      "text/plain": [
       "   Unnamed: 0  vacancy_id            vacancy_name  \\\n",
       "0       62986    22432537  Руководитель IT отдела   \n",
       "1     1337306    20529248         DevOps engineer   \n",
       "2      147089    22269077      Разработчик PL/SQL   \n",
       "\n",
       "                                 vacancy_description experience_required  \\\n",
       "0  <p><strong><em>!!!!!!!!!!!УВАЖАЕМЫЕ СОИСКАТЕЛИ...       up_to_6_years   \n",
       "1  <p><strong>Мы предлагаем полную занятость на у...       up_to_6_years   \n",
       "2  <p><strong>Требования к соискателям:</strong><...       up_to_3_years   \n",
       "\n",
       "  type_of_employment work_schedule          publication_day   city_name  \\\n",
       "0               full      full_day  2017-08-30 00:00:00.000      Москва   \n",
       "1               full        remote  2017-05-15 00:00:00.000  Ставрополь   \n",
       "2               full      full_day  2017-08-08 00:00:00.000      Рязань   \n",
       "\n",
       "           region_name country_name list_of_profarea_ids  \\\n",
       "0               Москва       Россия                    1   \n",
       "1  Ставропольский край       Россия                    1   \n",
       "2    Рязанская область       Россия                    1   \n",
       "\n",
       "                                 list_of_skill_names  \n",
       "0                                             [None]  \n",
       "1                                             [None]  \n",
       "2  ['Atlassian Jira', 'SOAP', 'Oracle Pl/SQL', 'G...  "
      ]
     },
     "execution_count": 5,
     "metadata": {},
     "output_type": "execute_result"
    }
   ],
   "source": [
    "vacancy_data.head(3)"
   ]
  },
  {
   "cell_type": "markdown",
   "metadata": {},
   "source": [
    "Работать с таким огромным датафреймом практически невозможно, выделим интересующие нас вакансии - те, что относятся к тестированию, то есть содержат хотя бы одно из ключевых слов."
   ]
  },
  {
   "cell_type": "code",
   "execution_count": 6,
   "metadata": {},
   "outputs": [],
   "source": [
    "vacancy_data['tester'] = 0\n",
    "vacancy_data['tester'] = vacancy_data.vacancy_name.str.contains('qa|qr|test|тест|quality', case=False).astype(int)"
   ]
  },
  {
   "cell_type": "code",
   "execution_count": 7,
   "metadata": {},
   "outputs": [],
   "source": [
    "tester_data = vacancy_data.query('tester==1').copy().reset_index()"
   ]
  },
  {
   "cell_type": "code",
   "execution_count": 8,
   "metadata": {},
   "outputs": [],
   "source": [
    "tester_data.to_csv('tester_data', sep=',', index_label =False)"
   ]
  },
  {
   "cell_type": "code",
   "execution_count": 9,
   "metadata": {},
   "outputs": [
    {
     "name": "stdout",
     "output_type": "stream",
     "text": [
      "<class 'pandas.core.frame.DataFrame'>\n",
      "RangeIndex: 22917 entries, 0 to 22916\n",
      "Data columns (total 15 columns):\n",
      "index                   22917 non-null int64\n",
      "Unnamed: 0              22917 non-null int64\n",
      "vacancy_id              22917 non-null int64\n",
      "vacancy_name            22917 non-null object\n",
      "vacancy_description     22917 non-null object\n",
      "experience_required     22917 non-null object\n",
      "type_of_employment      22917 non-null object\n",
      "work_schedule           22917 non-null object\n",
      "publication_day         22917 non-null object\n",
      "city_name               22917 non-null object\n",
      "region_name             20312 non-null object\n",
      "country_name            22917 non-null object\n",
      "list_of_profarea_ids    22917 non-null object\n",
      "list_of_skill_names     22917 non-null object\n",
      "tester                  22917 non-null int32\n",
      "dtypes: int32(1), int64(3), object(11)\n",
      "memory usage: 2.5+ MB\n"
     ]
    }
   ],
   "source": [
    "tester_data.info()"
   ]
  },
  {
   "cell_type": "code",
   "execution_count": 10,
   "metadata": {},
   "outputs": [
    {
     "data": {
      "text/html": [
       "<div>\n",
       "<style scoped>\n",
       "    .dataframe tbody tr th:only-of-type {\n",
       "        vertical-align: middle;\n",
       "    }\n",
       "\n",
       "    .dataframe tbody tr th {\n",
       "        vertical-align: top;\n",
       "    }\n",
       "\n",
       "    .dataframe thead th {\n",
       "        text-align: right;\n",
       "    }\n",
       "</style>\n",
       "<table border=\"1\" class=\"dataframe\">\n",
       "  <thead>\n",
       "    <tr style=\"text-align: right;\">\n",
       "      <th></th>\n",
       "      <th>index</th>\n",
       "      <th>Unnamed: 0</th>\n",
       "      <th>vacancy_id</th>\n",
       "      <th>vacancy_name</th>\n",
       "      <th>vacancy_description</th>\n",
       "      <th>experience_required</th>\n",
       "      <th>type_of_employment</th>\n",
       "      <th>work_schedule</th>\n",
       "      <th>publication_day</th>\n",
       "      <th>city_name</th>\n",
       "      <th>region_name</th>\n",
       "      <th>country_name</th>\n",
       "      <th>list_of_profarea_ids</th>\n",
       "      <th>list_of_skill_names</th>\n",
       "      <th>tester</th>\n",
       "    </tr>\n",
       "  </thead>\n",
       "  <tbody>\n",
       "    <tr>\n",
       "      <td>3</td>\n",
       "      <td>39</td>\n",
       "      <td>1201893</td>\n",
       "      <td>20553589</td>\n",
       "      <td>QA Automation Engineer</td>\n",
       "      <td>&lt;p&gt;CodeSWAT is looking for QA Automation Engin...</td>\n",
       "      <td>up_to_3_years</td>\n",
       "      <td>full</td>\n",
       "      <td>full_day</td>\n",
       "      <td>2017-05-16 00:00:00.000</td>\n",
       "      <td>Минск</td>\n",
       "      <td>NaN</td>\n",
       "      <td>Беларусь</td>\n",
       "      <td>1</td>\n",
       "      <td>[None]</td>\n",
       "      <td>1</td>\n",
       "    </tr>\n",
       "    <tr>\n",
       "      <td>13</td>\n",
       "      <td>244</td>\n",
       "      <td>901332</td>\n",
       "      <td>22126277</td>\n",
       "      <td>QA-engineer на мобильные проекты (Middle+/Senior)</td>\n",
       "      <td>&lt;p&gt;&lt;strong&gt;Apalon - &lt;/strong&gt;успешная компания...</td>\n",
       "      <td>up_to_3_years</td>\n",
       "      <td>full</td>\n",
       "      <td>flexible</td>\n",
       "      <td>2017-08-22 00:00:00.000</td>\n",
       "      <td>Минск</td>\n",
       "      <td>NaN</td>\n",
       "      <td>Беларусь</td>\n",
       "      <td>1</td>\n",
       "      <td>['iOS', 'гайдлайны', 'QA', 'jira', 'Android']</td>\n",
       "      <td>1</td>\n",
       "    </tr>\n",
       "    <tr>\n",
       "      <td>26</td>\n",
       "      <td>546</td>\n",
       "      <td>382794</td>\n",
       "      <td>19953044</td>\n",
       "      <td>Специалист по автоматизации тестирования (Java...</td>\n",
       "      <td>&lt;p&gt;Инновационная IT-компания (Agile Java Devel...</td>\n",
       "      <td>up_to_3_years</td>\n",
       "      <td>full</td>\n",
       "      <td>full_day</td>\n",
       "      <td>2017-03-16 00:00:00.000</td>\n",
       "      <td>Минск</td>\n",
       "      <td>NaN</td>\n",
       "      <td>Беларусь</td>\n",
       "      <td>1</td>\n",
       "      <td>['Jira', 'TestNG', 'Allure', 'Git', 'Stash', '...</td>\n",
       "      <td>1</td>\n",
       "    </tr>\n",
       "    <tr>\n",
       "      <td>33</td>\n",
       "      <td>922</td>\n",
       "      <td>1294085</td>\n",
       "      <td>19975365</td>\n",
       "      <td>Главный менеджер управления тестирования вспом...</td>\n",
       "      <td>&lt;p&gt;&lt;strong&gt;Основные требования:&lt;/strong&gt;&lt;/p&gt; &lt;...</td>\n",
       "      <td>up_to_6_years</td>\n",
       "      <td>full</td>\n",
       "      <td>full_day</td>\n",
       "      <td>2017-03-18 00:00:00.000</td>\n",
       "      <td>Алматы</td>\n",
       "      <td>NaN</td>\n",
       "      <td>Казахстан</td>\n",
       "      <td>1</td>\n",
       "      <td>[None]</td>\n",
       "      <td>1</td>\n",
       "    </tr>\n",
       "    <tr>\n",
       "      <td>36</td>\n",
       "      <td>1053</td>\n",
       "      <td>1334304</td>\n",
       "      <td>20388217</td>\n",
       "      <td>Senior QA Engineer</td>\n",
       "      <td>&lt;p&gt;Брестской команде Synesis необходим QA уров...</td>\n",
       "      <td>up_to_6_years</td>\n",
       "      <td>full</td>\n",
       "      <td>full_day</td>\n",
       "      <td>2017-04-28 00:00:00.000</td>\n",
       "      <td>Брест</td>\n",
       "      <td>NaN</td>\n",
       "      <td>Беларусь</td>\n",
       "      <td>1</td>\n",
       "      <td>[None]</td>\n",
       "      <td>1</td>\n",
       "    </tr>\n",
       "  </tbody>\n",
       "</table>\n",
       "</div>"
      ],
      "text/plain": [
       "    index  Unnamed: 0  vacancy_id  \\\n",
       "3      39     1201893    20553589   \n",
       "13    244      901332    22126277   \n",
       "26    546      382794    19953044   \n",
       "33    922     1294085    19975365   \n",
       "36   1053     1334304    20388217   \n",
       "\n",
       "                                         vacancy_name  \\\n",
       "3                              QA Automation Engineer   \n",
       "13  QA-engineer на мобильные проекты (Middle+/Senior)   \n",
       "26  Специалист по автоматизации тестирования (Java...   \n",
       "33  Главный менеджер управления тестирования вспом...   \n",
       "36                                 Senior QA Engineer   \n",
       "\n",
       "                                  vacancy_description experience_required  \\\n",
       "3   <p>CodeSWAT is looking for QA Automation Engin...       up_to_3_years   \n",
       "13  <p><strong>Apalon - </strong>успешная компания...       up_to_3_years   \n",
       "26  <p>Инновационная IT-компания (Agile Java Devel...       up_to_3_years   \n",
       "33  <p><strong>Основные требования:</strong></p> <...       up_to_6_years   \n",
       "36  <p>Брестской команде Synesis необходим QA уров...       up_to_6_years   \n",
       "\n",
       "   type_of_employment work_schedule          publication_day city_name  \\\n",
       "3                full      full_day  2017-05-16 00:00:00.000     Минск   \n",
       "13               full      flexible  2017-08-22 00:00:00.000     Минск   \n",
       "26               full      full_day  2017-03-16 00:00:00.000     Минск   \n",
       "33               full      full_day  2017-03-18 00:00:00.000    Алматы   \n",
       "36               full      full_day  2017-04-28 00:00:00.000     Брест   \n",
       "\n",
       "   region_name country_name list_of_profarea_ids  \\\n",
       "3          NaN     Беларусь                    1   \n",
       "13         NaN     Беларусь                    1   \n",
       "26         NaN     Беларусь                    1   \n",
       "33         NaN    Казахстан                    1   \n",
       "36         NaN     Беларусь                    1   \n",
       "\n",
       "                                  list_of_skill_names  tester  \n",
       "3                                              [None]       1  \n",
       "13      ['iOS', 'гайдлайны', 'QA', 'jira', 'Android']       1  \n",
       "26  ['Jira', 'TestNG', 'Allure', 'Git', 'Stash', '...       1  \n",
       "33                                             [None]       1  \n",
       "36                                             [None]       1  "
      ]
     },
     "execution_count": 10,
     "metadata": {},
     "output_type": "execute_result"
    }
   ],
   "source": [
    "tester_data[tester_data['region_name'].isna()].head()"
   ]
  },
  {
   "cell_type": "markdown",
   "metadata": {},
   "source": [
    "Пропуски есть только в столбце регион - многие не пишут название региона, если в столбце city_name уже указан крупный город, особенно - столица. Такие пропуски можно заполнить просто скопировав название города из соответствующего столбца."
   ]
  },
  {
   "cell_type": "code",
   "execution_count": 11,
   "metadata": {},
   "outputs": [],
   "source": [
    "tester_data['region_name'] = tester_data['region_name'].fillna(tester_data['city_name'])"
   ]
  },
  {
   "cell_type": "markdown",
   "metadata": {},
   "source": [
    "Преобразуем столбец publication_day в формат datetime"
   ]
  },
  {
   "cell_type": "code",
   "execution_count": 12,
   "metadata": {},
   "outputs": [
    {
     "name": "stdout",
     "output_type": "stream",
     "text": [
      "<class 'pandas.core.frame.DataFrame'>\n",
      "RangeIndex: 22917 entries, 0 to 22916\n",
      "Data columns (total 15 columns):\n",
      "index                   22917 non-null int64\n",
      "Unnamed: 0              22917 non-null int64\n",
      "vacancy_id              22917 non-null int64\n",
      "vacancy_name            22917 non-null object\n",
      "vacancy_description     22917 non-null object\n",
      "experience_required     22917 non-null object\n",
      "type_of_employment      22917 non-null object\n",
      "work_schedule           22917 non-null object\n",
      "publication_day         22917 non-null datetime64[ns]\n",
      "city_name               22917 non-null object\n",
      "region_name             22917 non-null object\n",
      "country_name            22917 non-null object\n",
      "list_of_profarea_ids    22917 non-null object\n",
      "list_of_skill_names     22917 non-null object\n",
      "tester                  22917 non-null int32\n",
      "dtypes: datetime64[ns](1), int32(1), int64(3), object(10)\n",
      "memory usage: 2.5+ MB\n"
     ]
    }
   ],
   "source": [
    "tester_data['publication_day'] = pd.to_datetime(tester_data['publication_day']) \n",
    "tester_data.info()"
   ]
  },
  {
   "cell_type": "code",
   "execution_count": 13,
   "metadata": {},
   "outputs": [],
   "source": [
    "# добавим столбец даты, месяца и года\n",
    "tester_data['date'] = tester_data['publication_day'].dt.date\n",
    "tester_data['year'] = tester_data['publication_day'].dt.year\n",
    "tester_data['month'] = tester_data['publication_day'].astype('datetime64[M]')"
   ]
  },
  {
   "cell_type": "code",
   "execution_count": 14,
   "metadata": {},
   "outputs": [
    {
     "data": {
      "text/html": [
       "<div>\n",
       "<style scoped>\n",
       "    .dataframe tbody tr th:only-of-type {\n",
       "        vertical-align: middle;\n",
       "    }\n",
       "\n",
       "    .dataframe tbody tr th {\n",
       "        vertical-align: top;\n",
       "    }\n",
       "\n",
       "    .dataframe thead th {\n",
       "        text-align: right;\n",
       "    }\n",
       "</style>\n",
       "<table border=\"1\" class=\"dataframe\">\n",
       "  <thead>\n",
       "    <tr style=\"text-align: right;\">\n",
       "      <th></th>\n",
       "      <th>index</th>\n",
       "      <th>Unnamed: 0</th>\n",
       "      <th>vacancy_id</th>\n",
       "      <th>vacancy_name</th>\n",
       "      <th>vacancy_description</th>\n",
       "      <th>experience_required</th>\n",
       "      <th>type_of_employment</th>\n",
       "      <th>work_schedule</th>\n",
       "      <th>publication_day</th>\n",
       "      <th>city_name</th>\n",
       "      <th>region_name</th>\n",
       "      <th>country_name</th>\n",
       "      <th>list_of_profarea_ids</th>\n",
       "      <th>list_of_skill_names</th>\n",
       "      <th>tester</th>\n",
       "      <th>date</th>\n",
       "      <th>year</th>\n",
       "      <th>month</th>\n",
       "    </tr>\n",
       "  </thead>\n",
       "  <tbody>\n",
       "    <tr>\n",
       "      <td>0</td>\n",
       "      <td>14</td>\n",
       "      <td>287960</td>\n",
       "      <td>23920048</td>\n",
       "      <td>Тестировщик ПО</td>\n",
       "      <td>&lt;p&gt;&lt;strong&gt;Обязанности:&lt;/strong&gt;&lt;/p&gt; &lt;p&gt;- Тест...</td>\n",
       "      <td>no_experience</td>\n",
       "      <td>full</td>\n",
       "      <td>full_day</td>\n",
       "      <td>2017-12-25</td>\n",
       "      <td>Москва</td>\n",
       "      <td>Москва</td>\n",
       "      <td>Россия</td>\n",
       "      <td>1</td>\n",
       "      <td>[None]</td>\n",
       "      <td>1</td>\n",
       "      <td>2017-12-25</td>\n",
       "      <td>2017</td>\n",
       "      <td>2017-12-01</td>\n",
       "    </tr>\n",
       "    <tr>\n",
       "      <td>1</td>\n",
       "      <td>15</td>\n",
       "      <td>2826</td>\n",
       "      <td>22786768</td>\n",
       "      <td>QA Lead / Automation Lead</td>\n",
       "      <td>&lt;p&gt;&lt;strong&gt;Magenta&lt;/strong&gt; &lt;strong&gt;Technology...</td>\n",
       "      <td>up_to_6_years</td>\n",
       "      <td>full</td>\n",
       "      <td>full_day</td>\n",
       "      <td>2017-09-19</td>\n",
       "      <td>Самара</td>\n",
       "      <td>Самарская область</td>\n",
       "      <td>Россия</td>\n",
       "      <td>1</td>\n",
       "      <td>['QA', 'XML', 'автоматизированное тестирование...</td>\n",
       "      <td>1</td>\n",
       "      <td>2017-09-19</td>\n",
       "      <td>2017</td>\n",
       "      <td>2017-09-01</td>\n",
       "    </tr>\n",
       "    <tr>\n",
       "      <td>2</td>\n",
       "      <td>36</td>\n",
       "      <td>762452</td>\n",
       "      <td>19385470</td>\n",
       "      <td>Аналитик-тестировщик</td>\n",
       "      <td>&lt;p&gt;&lt;strong&gt;Крупный системный интегратор пригла...</td>\n",
       "      <td>up_to_3_years</td>\n",
       "      <td>full</td>\n",
       "      <td>full_day</td>\n",
       "      <td>2017-01-23</td>\n",
       "      <td>Москва</td>\n",
       "      <td>Москва</td>\n",
       "      <td>Россия</td>\n",
       "      <td>1</td>\n",
       "      <td>[None]</td>\n",
       "      <td>1</td>\n",
       "      <td>2017-01-23</td>\n",
       "      <td>2017</td>\n",
       "      <td>2017-01-01</td>\n",
       "    </tr>\n",
       "  </tbody>\n",
       "</table>\n",
       "</div>"
      ],
      "text/plain": [
       "   index  Unnamed: 0  vacancy_id               vacancy_name  \\\n",
       "0     14      287960    23920048             Тестировщик ПО   \n",
       "1     15        2826    22786768  QA Lead / Automation Lead   \n",
       "2     36      762452    19385470       Аналитик-тестировщик   \n",
       "\n",
       "                                 vacancy_description experience_required  \\\n",
       "0  <p><strong>Обязанности:</strong></p> <p>- Тест...       no_experience   \n",
       "1  <p><strong>Magenta</strong> <strong>Technology...       up_to_6_years   \n",
       "2  <p><strong>Крупный системный интегратор пригла...       up_to_3_years   \n",
       "\n",
       "  type_of_employment work_schedule publication_day city_name  \\\n",
       "0               full      full_day      2017-12-25    Москва   \n",
       "1               full      full_day      2017-09-19    Самара   \n",
       "2               full      full_day      2017-01-23    Москва   \n",
       "\n",
       "         region_name country_name list_of_profarea_ids  \\\n",
       "0             Москва       Россия                    1   \n",
       "1  Самарская область       Россия                    1   \n",
       "2             Москва       Россия                    1   \n",
       "\n",
       "                                 list_of_skill_names  tester        date  \\\n",
       "0                                             [None]       1  2017-12-25   \n",
       "1  ['QA', 'XML', 'автоматизированное тестирование...       1  2017-09-19   \n",
       "2                                             [None]       1  2017-01-23   \n",
       "\n",
       "   year      month  \n",
       "0  2017 2017-12-01  \n",
       "1  2017 2017-09-01  \n",
       "2  2017 2017-01-01  "
      ]
     },
     "execution_count": 14,
     "metadata": {},
     "output_type": "execute_result"
    }
   ],
   "source": [
    "tester_data.head(3)"
   ]
  },
  {
   "cell_type": "code",
   "execution_count": 15,
   "metadata": {},
   "outputs": [
    {
     "name": "stdout",
     "output_type": "stream",
     "text": [
      "<class 'pandas.core.frame.DataFrame'>\n",
      "RangeIndex: 22917 entries, 0 to 22916\n",
      "Data columns (total 18 columns):\n",
      "index                   22917 non-null int64\n",
      "Unnamed: 0              22917 non-null int64\n",
      "vacancy_id              22917 non-null int64\n",
      "vacancy_name            22917 non-null object\n",
      "vacancy_description     22917 non-null object\n",
      "experience_required     22917 non-null object\n",
      "type_of_employment      22917 non-null object\n",
      "work_schedule           22917 non-null object\n",
      "publication_day         22917 non-null datetime64[ns]\n",
      "city_name               22917 non-null object\n",
      "region_name             22917 non-null object\n",
      "country_name            22917 non-null object\n",
      "list_of_profarea_ids    22917 non-null object\n",
      "list_of_skill_names     22917 non-null object\n",
      "tester                  22917 non-null int32\n",
      "date                    22917 non-null object\n",
      "year                    22917 non-null int64\n",
      "month                   22917 non-null datetime64[ns]\n",
      "dtypes: datetime64[ns](2), int32(1), int64(4), object(11)\n",
      "memory usage: 3.1+ MB\n"
     ]
    }
   ],
   "source": [
    "tester_data.info()"
   ]
  },
  {
   "cell_type": "code",
   "execution_count": 16,
   "metadata": {},
   "outputs": [
    {
     "data": {
      "text/plain": [
       "22917"
      ]
     },
     "execution_count": 16,
     "metadata": {},
     "output_type": "execute_result"
    }
   ],
   "source": [
    "# сохраним общее число qa вакансий в переменную\n",
    "total_vacancies = len(tester_data)\n",
    "total_vacancies"
   ]
  },
  {
   "cell_type": "markdown",
   "metadata": {},
   "source": [
    "## 1. Портрет вакансии <a id=\"picture\"></a>"
   ]
  },
  {
   "cell_type": "markdown",
   "metadata": {},
   "source": [
    "#### Прежде чем приступать к анализу вакансий, нужно провести предварительную подготовку для  этого анализа - поработать над столбцом описания вакансии - разложить на отдельные слова, избавиться от тэгов и знаков препинания, провести стемминг."
   ]
  },
  {
   "cell_type": "code",
   "execution_count": 17,
   "metadata": {},
   "outputs": [],
   "source": [
    "from bs4 import BeautifulSoup"
   ]
  },
  {
   "cell_type": "code",
   "execution_count": 18,
   "metadata": {
    "scrolled": true
   },
   "outputs": [],
   "source": [
    "def kill_html(row):\n",
    "    return BeautifulSoup(row, \"lxml\").text"
   ]
  },
  {
   "cell_type": "code",
   "execution_count": 19,
   "metadata": {},
   "outputs": [],
   "source": [
    "# Удаляем html-теги\n",
    "tester_data['vacancy_text'] = tester_data['vacancy_description'].apply(kill_html)"
   ]
  },
  {
   "cell_type": "code",
   "execution_count": 20,
   "metadata": {
    "scrolled": true
   },
   "outputs": [],
   "source": [
    "# переводим в нижний регистр\n",
    "tester_data['vacancy_text'] = tester_data['vacancy_text'].str.lower()"
   ]
  },
  {
   "cell_type": "code",
   "execution_count": 21,
   "metadata": {},
   "outputs": [],
   "source": [
    "punctuations = list(string.punctuation)\n",
    "punctuations.append('«')\n",
    "punctuations.append('»')"
   ]
  },
  {
   "cell_type": "code",
   "execution_count": 22,
   "metadata": {},
   "outputs": [],
   "source": [
    "def to_words(row):\n",
    "    filtered_sentence = [i for i in nltk.word_tokenize(row) if i not in punctuations]\n",
    "    return filtered_sentence"
   ]
  },
  {
   "cell_type": "code",
   "execution_count": 23,
   "metadata": {},
   "outputs": [],
   "source": [
    "# разбиваем на отдельные слова и удаляем знаки препинания\n",
    "tester_data['vacancy_tokenized'] = tester_data['vacancy_text'].apply(to_words)"
   ]
  },
  {
   "cell_type": "code",
   "execution_count": 24,
   "metadata": {},
   "outputs": [],
   "source": [
    "# описания есть и на английском, поэтому нужны стоп-слова из обоих языков\n",
    "stop_words = set(stopwords.words(\"russian\")) | set(stopwords.words(\"english\"))"
   ]
  },
  {
   "cell_type": "code",
   "execution_count": 25,
   "metadata": {},
   "outputs": [],
   "source": [
    "def filter_stop_words(row):\n",
    "    return [w for w in row if not w in stop_words]"
   ]
  },
  {
   "cell_type": "code",
   "execution_count": 26,
   "metadata": {},
   "outputs": [],
   "source": [
    "# удаляем стоп-слова\n",
    "tester_data['vacancy_cleared'] = tester_data['vacancy_tokenized'].apply(filter_stop_words)"
   ]
  },
  {
   "cell_type": "code",
   "execution_count": 27,
   "metadata": {},
   "outputs": [],
   "source": [
    "def vacancy_stem(row):\n",
    "    return [russian_stemmer.stem(w) for w in row]"
   ]
  },
  {
   "cell_type": "code",
   "execution_count": 28,
   "metadata": {},
   "outputs": [],
   "source": [
    "# проведем стемминг\n",
    "tester_data['vacancy_stemmed'] = tester_data['vacancy_cleared'].apply(vacancy_stem)"
   ]
  },
  {
   "cell_type": "code",
   "execution_count": 29,
   "metadata": {
    "scrolled": true
   },
   "outputs": [
    {
     "data": {
      "text/html": [
       "<div>\n",
       "<style scoped>\n",
       "    .dataframe tbody tr th:only-of-type {\n",
       "        vertical-align: middle;\n",
       "    }\n",
       "\n",
       "    .dataframe tbody tr th {\n",
       "        vertical-align: top;\n",
       "    }\n",
       "\n",
       "    .dataframe thead th {\n",
       "        text-align: right;\n",
       "    }\n",
       "</style>\n",
       "<table border=\"1\" class=\"dataframe\">\n",
       "  <thead>\n",
       "    <tr style=\"text-align: right;\">\n",
       "      <th></th>\n",
       "      <th>index</th>\n",
       "      <th>Unnamed: 0</th>\n",
       "      <th>vacancy_id</th>\n",
       "      <th>vacancy_name</th>\n",
       "      <th>vacancy_description</th>\n",
       "      <th>experience_required</th>\n",
       "      <th>type_of_employment</th>\n",
       "      <th>work_schedule</th>\n",
       "      <th>publication_day</th>\n",
       "      <th>city_name</th>\n",
       "      <th>...</th>\n",
       "      <th>list_of_profarea_ids</th>\n",
       "      <th>list_of_skill_names</th>\n",
       "      <th>tester</th>\n",
       "      <th>date</th>\n",
       "      <th>year</th>\n",
       "      <th>month</th>\n",
       "      <th>vacancy_text</th>\n",
       "      <th>vacancy_tokenized</th>\n",
       "      <th>vacancy_cleared</th>\n",
       "      <th>vacancy_stemmed</th>\n",
       "    </tr>\n",
       "  </thead>\n",
       "  <tbody>\n",
       "    <tr>\n",
       "      <td>0</td>\n",
       "      <td>14</td>\n",
       "      <td>287960</td>\n",
       "      <td>23920048</td>\n",
       "      <td>Тестировщик ПО</td>\n",
       "      <td>&lt;p&gt;&lt;strong&gt;Обязанности:&lt;/strong&gt;&lt;/p&gt; &lt;p&gt;- Тест...</td>\n",
       "      <td>no_experience</td>\n",
       "      <td>full</td>\n",
       "      <td>full_day</td>\n",
       "      <td>2017-12-25</td>\n",
       "      <td>Москва</td>\n",
       "      <td>...</td>\n",
       "      <td>1</td>\n",
       "      <td>[None]</td>\n",
       "      <td>1</td>\n",
       "      <td>2017-12-25</td>\n",
       "      <td>2017</td>\n",
       "      <td>2017-12-01</td>\n",
       "      <td>обязанности: - тестирование web-сайтов - тести...</td>\n",
       "      <td>[обязанности, тестирование, web-сайтов, тестир...</td>\n",
       "      <td>[обязанности, тестирование, web-сайтов, тестир...</td>\n",
       "      <td>[обязан, тестирован, wеб-сайт, тестирован, апи...</td>\n",
       "    </tr>\n",
       "    <tr>\n",
       "      <td>1</td>\n",
       "      <td>15</td>\n",
       "      <td>2826</td>\n",
       "      <td>22786768</td>\n",
       "      <td>QA Lead / Automation Lead</td>\n",
       "      <td>&lt;p&gt;&lt;strong&gt;Magenta&lt;/strong&gt; &lt;strong&gt;Technology...</td>\n",
       "      <td>up_to_6_years</td>\n",
       "      <td>full</td>\n",
       "      <td>full_day</td>\n",
       "      <td>2017-09-19</td>\n",
       "      <td>Самара</td>\n",
       "      <td>...</td>\n",
       "      <td>1</td>\n",
       "      <td>['QA', 'XML', 'автоматизированное тестирование...</td>\n",
       "      <td>1</td>\n",
       "      <td>2017-09-19</td>\n",
       "      <td>2017</td>\n",
       "      <td>2017-09-01</td>\n",
       "      <td>magenta technology мы - международная продукто...</td>\n",
       "      <td>[magenta, technology, мы, международная, проду...</td>\n",
       "      <td>[magenta, technology, международная, продуктов...</td>\n",
       "      <td>[magenta, technology, международн, продуктов, ...</td>\n",
       "    </tr>\n",
       "    <tr>\n",
       "      <td>2</td>\n",
       "      <td>36</td>\n",
       "      <td>762452</td>\n",
       "      <td>19385470</td>\n",
       "      <td>Аналитик-тестировщик</td>\n",
       "      <td>&lt;p&gt;&lt;strong&gt;Крупный системный интегратор пригла...</td>\n",
       "      <td>up_to_3_years</td>\n",
       "      <td>full</td>\n",
       "      <td>full_day</td>\n",
       "      <td>2017-01-23</td>\n",
       "      <td>Москва</td>\n",
       "      <td>...</td>\n",
       "      <td>1</td>\n",
       "      <td>[None]</td>\n",
       "      <td>1</td>\n",
       "      <td>2017-01-23</td>\n",
       "      <td>2017</td>\n",
       "      <td>2017-01-01</td>\n",
       "      <td>крупный системный интегратор приглашает аналит...</td>\n",
       "      <td>[крупный, системный, интегратор, приглашает, а...</td>\n",
       "      <td>[крупный, системный, интегратор, приглашает, а...</td>\n",
       "      <td>[крупн, системн, интегратор, приглаша, аналити...</td>\n",
       "    </tr>\n",
       "  </tbody>\n",
       "</table>\n",
       "<p>3 rows × 22 columns</p>\n",
       "</div>"
      ],
      "text/plain": [
       "   index  Unnamed: 0  vacancy_id               vacancy_name  \\\n",
       "0     14      287960    23920048             Тестировщик ПО   \n",
       "1     15        2826    22786768  QA Lead / Automation Lead   \n",
       "2     36      762452    19385470       Аналитик-тестировщик   \n",
       "\n",
       "                                 vacancy_description experience_required  \\\n",
       "0  <p><strong>Обязанности:</strong></p> <p>- Тест...       no_experience   \n",
       "1  <p><strong>Magenta</strong> <strong>Technology...       up_to_6_years   \n",
       "2  <p><strong>Крупный системный интегратор пригла...       up_to_3_years   \n",
       "\n",
       "  type_of_employment work_schedule publication_day city_name  ...  \\\n",
       "0               full      full_day      2017-12-25    Москва  ...   \n",
       "1               full      full_day      2017-09-19    Самара  ...   \n",
       "2               full      full_day      2017-01-23    Москва  ...   \n",
       "\n",
       "  list_of_profarea_ids                                list_of_skill_names  \\\n",
       "0                    1                                             [None]   \n",
       "1                    1  ['QA', 'XML', 'автоматизированное тестирование...   \n",
       "2                    1                                             [None]   \n",
       "\n",
       "  tester        date  year      month  \\\n",
       "0      1  2017-12-25  2017 2017-12-01   \n",
       "1      1  2017-09-19  2017 2017-09-01   \n",
       "2      1  2017-01-23  2017 2017-01-01   \n",
       "\n",
       "                                        vacancy_text  \\\n",
       "0  обязанности: - тестирование web-сайтов - тести...   \n",
       "1  magenta technology мы - международная продукто...   \n",
       "2  крупный системный интегратор приглашает аналит...   \n",
       "\n",
       "                                   vacancy_tokenized  \\\n",
       "0  [обязанности, тестирование, web-сайтов, тестир...   \n",
       "1  [magenta, technology, мы, международная, проду...   \n",
       "2  [крупный, системный, интегратор, приглашает, а...   \n",
       "\n",
       "                                     vacancy_cleared  \\\n",
       "0  [обязанности, тестирование, web-сайтов, тестир...   \n",
       "1  [magenta, technology, международная, продуктов...   \n",
       "2  [крупный, системный, интегратор, приглашает, а...   \n",
       "\n",
       "                                     vacancy_stemmed  \n",
       "0  [обязан, тестирован, wеб-сайт, тестирован, апи...  \n",
       "1  [magenta, technology, международн, продуктов, ...  \n",
       "2  [крупн, системн, интегратор, приглаша, аналити...  \n",
       "\n",
       "[3 rows x 22 columns]"
      ]
     },
     "execution_count": 29,
     "metadata": {},
     "output_type": "execute_result"
    }
   ],
   "source": [
    "tester_data.head(3)"
   ]
  },
  {
   "cell_type": "code",
   "execution_count": 30,
   "metadata": {
    "scrolled": true
   },
   "outputs": [
    {
     "data": {
      "text/plain": [
       "0        обязан\n",
       "1    тестирован\n",
       "2      wеб-сайт\n",
       "Name: vacancy_stemmed, dtype: object"
      ]
     },
     "execution_count": 30,
     "metadata": {},
     "output_type": "execute_result"
    }
   ],
   "source": [
    "duty_list = tester_data['vacancy_stemmed']\n",
    "vacancy_duty_list = duty_list.explode().reset_index(drop=True)\n",
    "vacancy_duty_list.head(3)"
   ]
  },
  {
   "cell_type": "markdown",
   "metadata": {},
   "source": [
    "Получили столбец с описанием вакансий, где каждая строка - отдельное слово из описания. Теперь можно и поанализировать!"
   ]
  },
  {
   "cell_type": "markdown",
   "metadata": {},
   "source": [
    "### Cамые частые требования и задачи<a id=\"often\"></a>"
   ]
  },
  {
   "cell_type": "code",
   "execution_count": 31,
   "metadata": {},
   "outputs": [
    {
     "data": {
      "text/plain": [
       "Index(['тестирован', 'работ', 'оп', 'знан', 'разработк', 'команд', 'компан',\n",
       "       'требован', 'проект', 'офис', 'систем', 'тестов', 'наш', 'продукт',\n",
       "       'возможн', 'задач', 'услов', 'язык', 'работа', 'приложен', 'процесс',\n",
       "       'умен', 'пониман', 'документац', 'техническ', 'автоматизац', '•',\n",
       "       'обязан', 'котор', 'профессиональн', 'тест', 'написан', 'функциональн',\n",
       "       'результат', 'английск', 'test', 'нов', 'уровн', 'мобильн', 'навык',\n",
       "       'плат', 'автоматизирова', 'experience', 'заработн', 'анализ', 'график',\n",
       "       'qa', 'корпоративн', 'участ', 'качеств'],\n",
       "      dtype='object')"
      ]
     },
     "execution_count": 31,
     "metadata": {},
     "output_type": "execute_result"
    }
   ],
   "source": [
    "vacancy_duty_list_to_screen = vacancy_duty_list.value_counts().head(50).apply(pd.Series)\n",
    "vacancy_duty_list_to_screen.index"
   ]
  },
  {
   "cell_type": "code",
   "execution_count": 32,
   "metadata": {},
   "outputs": [],
   "source": [
    "def to_array(row):\n",
    "    return row.strip('[]').strip().lower().split(', ')"
   ]
  },
  {
   "cell_type": "code",
   "execution_count": 33,
   "metadata": {},
   "outputs": [
    {
     "data": {
      "text/plain": [
       "Index([''тестирование'', ''функциональное тестирование'', ''qa'', ''sql'',\n",
       "       ''тестирование пользовательского интерфейса'', ''java'', ''test case'',\n",
       "       ''регресcионное тестирование'', ''atlassian jira'', ''python'',\n",
       "       ''linux'', ''git'', ''selenium ide'', ''нагрузочное тестирование'',\n",
       "       ''английский язык'', ''javascript'', ''проведение тестирований'',\n",
       "       ''html'', ''c#'', ''selenium'', ''jenkins'', ''css'', ''ms sql'',\n",
       "       ''android'', ''xml'', ''ios'', ''scrum'', ''rest'', ''php'', ''mysql'',\n",
       "       ''работа в команде'', ''модульное тестирование'', ''ооп'', ''api'',\n",
       "       ''ручное тестирование'', ''регресионное тестирование'',\n",
       "       ''автоматизированное тестирование'', ''black box testing'',\n",
       "       ''postgresql'', ''jmeter'', ''c++'', ''unit testing'',\n",
       "       ''автоматизация тестирования'', ''soap'', ''разработка по'',\n",
       "       ''atlassian confluence'', ''redmine'', ''jira'', ''junit'', ''unix''],\n",
       "      dtype='object')"
      ]
     },
     "execution_count": 33,
     "metadata": {},
     "output_type": "execute_result"
    }
   ],
   "source": [
    "# выкидываем None, разбиваем на отдельные словосочетания и удаляем квадратные скобки\n",
    "tester_data_skill = tester_data[tester_data['list_of_skill_names']!='[None]']['list_of_skill_names'].apply(to_array)\n",
    "\n",
    "skill_names = tester_data_skill.explode()\n",
    "skills = skill_names.value_counts().head(50).apply(pd.Series)\n",
    "skills.index"
   ]
  },
  {
   "cell_type": "markdown",
   "metadata": {},
   "source": [
    "В топе, конечно, самые общие фразы - тестирование, опыт, команда разработчиков, проект, офис (уютный и в шаговой доступности) и т.д.\n",
    "А вот пониже в списке уже есть что-то полезное. Знание языка (как правило, английского), понимание технической документации, навыки работы(sql, java, jira, selenium, python), автоматизированное тестирование, тестирование мобильных приложений, ручное тестирование, оформление по ТК РФ.\n",
    "\n",
    "Требуемые навыки можно посмотреть еще в столбце list_of_skill_names. Топ требований: 'тестирование', 'функциональное тестирование', 'qa', 'sql', 'тестирование пользовательского интерфейса', 'java', 'test case', 'регресcионное тестирование', 'atlassian jira', 'python', 'linux', 'git', 'selenium ide', 'нагрузочное тестирование', 'английский язык'."
   ]
  },
  {
   "cell_type": "markdown",
   "metadata": {},
   "source": [
    "### Выделить наиболее популярные сегменты / группы вакансий <a id=\"popular_groups\"></a>"
   ]
  },
  {
   "cell_type": "markdown",
   "metadata": {},
   "source": [
    "По опыту, по рабочему расписанию, по типу занятости"
   ]
  },
  {
   "cell_type": "code",
   "execution_count": 34,
   "metadata": {},
   "outputs": [],
   "source": [
    "groups = {\n",
    "    'experience_required': 'Требуемый опыт',\n",
    "    'work_schedule': 'Режим работы',\n",
    "    'type_of_employment': 'Тип занятости'\n",
    "}"
   ]
  },
  {
   "cell_type": "code",
   "execution_count": 35,
   "metadata": {},
   "outputs": [],
   "source": [
    "ticks = {\n",
    "    'experience_required' : ['до 3 лет', 'до 6 лет', 'без опыта', 'свыше 6 лет'],\n",
    "    'work_schedule': ['полный', 'гибкий', 'удалённый', 'сменный', 'вахтовый'],\n",
    "    'type_of_employment': ['полная', 'частичная', 'испытательный срок', 'проектная', 'волонтер']\n",
    "}"
   ]
  },
  {
   "cell_type": "code",
   "execution_count": 36,
   "metadata": {},
   "outputs": [
    {
     "name": "stdout",
     "output_type": "stream",
     "text": [
      "Требуемый опыт\n",
      "up_to_3_years    14631\n",
      "up_to_6_years     5062\n",
      "no_experience     2918\n",
      "above_6_years      306\n",
      "Name: experience_required, dtype: int64\n"
     ]
    },
    {
     "data": {
      "image/png": "[encoded data removed]",
      "text/plain": [
       "<Figure size 460.8x316.8 with 1 Axes>"
      ]
     },
     "metadata": {
      "needs_background": "light"
     },
     "output_type": "display_data"
    },
    {
     "name": "stdout",
     "output_type": "stream",
     "text": [
      "Режим работы\n",
      "full_day       18997\n",
      "flexible        2198\n",
      "remote          1660\n",
      "shift             56\n",
      "flyInFlyOut        6\n",
      "Name: work_schedule, dtype: int64\n"
     ]
    },
    {
     "data": {
      "image/png": "[encoded data removed]",
      "text/plain": [
       "<Figure size 460.8x316.8 with 1 Axes>"
      ]
     },
     "metadata": {
      "needs_background": "light"
     },
     "output_type": "display_data"
    },
    {
     "name": "stdout",
     "output_type": "stream",
     "text": [
      "Тип занятости\n",
      "full         22009\n",
      "part           611\n",
      "probation      188\n",
      "project        105\n",
      "volonteer        4\n",
      "Name: type_of_employment, dtype: int64\n"
     ]
    },
    {
     "data": {
      "image/png": "[encoded data removed]",
      "text/plain": [
       "<Figure size 460.8x316.8 with 1 Axes>"
      ]
     },
     "metadata": {
      "needs_background": "light"
     },
     "output_type": "display_data"
    }
   ],
   "source": [
    "for key in groups:\n",
    "    print(groups[key])\n",
    "    print(tester_data[key].value_counts())\n",
    "    group_data = (tester_data.groupby(key, as_index=False)[['vacancy_id']].count()\n",
    "                .sort_values(by='vacancy_id', ascending=False).rename(columns={'vacancy_id':'vacancy_quant'}))\n",
    "    with plt.style.context('seaborn-paper'):\n",
    "        plt.bar(ticks[key], group_data['vacancy_quant'])\n",
    "    plt.xlabel(groups[key], fontsize=14)\n",
    "    plt.xticks(rotation=45, fontsize=10)\n",
    "    plt.ylabel('Число вакансий', fontsize=14)\n",
    "    plt.show()"
   ]
  },
  {
   "cell_type": "markdown",
   "metadata": {},
   "source": [
    "#### Вывод\n",
    "Коронавирус коронавирусом, но подавляющее большинство работодателей (83%) хотят видеть работника в офисе с 9 до 18 5 дней в неделю."
   ]
  },
  {
   "cell_type": "markdown",
   "metadata": {},
   "source": [
    "## 2. Анализ аномалий в описании вакансии <a id=\"anomaly\"></a>"
   ]
  },
  {
   "cell_type": "markdown",
   "metadata": {},
   "source": [
    "Полагаю,  в этом разделе предполагался анализ зарплат на наличие выбросов, сравнение зарплат в зависимости от уровня квалификации, нет ли вакансий джунов с зарплатой выше миддла и т.д. Но в полученном массиве данных о зарплатах не оказалось.\n",
    "\n",
    "Поэтому остается искать расхождения между  type_of_employment и work_schedule или требованиям к опыту (считаем аномалией требовать с джуна опыт работы 6 лет или прием на работу сениора без опыта).\n"
   ]
  },
  {
   "cell_type": "code",
   "execution_count": 37,
   "metadata": {
    "scrolled": true
   },
   "outputs": [
    {
     "data": {
      "text/plain": [
       "14"
      ]
     },
     "execution_count": 37,
     "metadata": {},
     "output_type": "execute_result"
    }
   ],
   "source": [
    "# приглашают соискателя на полный день, при этом занятость указана как частичная\n",
    "tester_data[(tester_data['work_schedule'] == 'full_day') & (tester_data['type_of_employment'] == 'part')]\n",
    "schedule_anomaly= len(tester_data[(tester_data['work_schedule'] == 'full_day') & (tester_data['type_of_employment'] == 'part')])\n",
    "schedule_anomaly"
   ]
  },
  {
   "cell_type": "code",
   "execution_count": 38,
   "metadata": {},
   "outputs": [],
   "source": [
    "tester_data['junior'] = 0\n",
    "tester_data['junior'] = (tester_data.vacancy_name.str.contains('junior|младший|джун', case=False) |\n",
    "                        tester_data.vacancy_description.str.contains('junior|младший|джун', case=False)).astype(int)"
   ]
  },
  {
   "cell_type": "code",
   "execution_count": 39,
   "metadata": {},
   "outputs": [],
   "source": [
    "junior_data = tester_data.query('junior==1').copy().reset_index()\n",
    "junior_data = junior_data.drop(columns='junior')"
   ]
  },
  {
   "cell_type": "code",
   "execution_count": 40,
   "metadata": {},
   "outputs": [
    {
     "data": {
      "text/plain": [
       "53"
      ]
     },
     "execution_count": 40,
     "metadata": {},
     "output_type": "execute_result"
    }
   ],
   "source": [
    "# приглашают джуна с чрезмерно большим опытом работы\n",
    "overexperied_juniors = len(junior_data[(junior_data['experience_required'] == 'up_to_6_years') | (junior_data['experience_required'] == 'above_6_years')])\n",
    "overexperied_juniors"
   ]
  },
  {
   "cell_type": "code",
   "execution_count": 41,
   "metadata": {},
   "outputs": [],
   "source": [
    "tester_data['middle_senior'] = 0\n",
    "\n",
    "tester_data['middle_senior'] = (tester_data.vacancy_name.str.contains('middle|senior|ведущий|старший', case=False) |\n",
    "                        tester_data.vacancy_description.str.contains('middle|senior|ведущий|старший', case=False)).astype(int)\n",
    "\n",
    "middle_senior_data = tester_data.query('middle_senior==1').copy().reset_index()\n",
    "middle_senior_data = middle_senior_data.drop(columns='middle_senior')"
   ]
  },
  {
   "cell_type": "code",
   "execution_count": 42,
   "metadata": {},
   "outputs": [
    {
     "data": {
      "text/plain": [
       "182"
      ]
     },
     "execution_count": 42,
     "metadata": {},
     "output_type": "execute_result"
    }
   ],
   "source": [
    "# приглашают миддла/сениора без опыта работы\n",
    "middle_senior_no_exp = len(middle_senior_data[(middle_senior_data['experience_required'] == 'no_experience')])\n",
    "middle_senior_no_exp"
   ]
  },
  {
   "cell_type": "code",
   "execution_count": 43,
   "metadata": {},
   "outputs": [
    {
     "data": {
      "text/plain": [
       "0.010865296504778112"
      ]
     },
     "execution_count": 43,
     "metadata": {},
     "output_type": "execute_result"
    }
   ],
   "source": [
    "# доля аномалий\n",
    "(schedule_anomaly + overexperied_juniors + middle_senior_no_exp)/total_vacancies"
   ]
  },
  {
   "cell_type": "markdown",
   "metadata": {},
   "source": [
    "Найденные аномалии составляют всего 1% от всего массива данных по тестировщикам."
   ]
  },
  {
   "cell_type": "markdown",
   "metadata": {},
   "source": [
    "## 3. Анализ креативности вакансий <a id=\"creativity\"></a>"
   ]
  },
  {
   "cell_type": "markdown",
   "metadata": {},
   "source": [
    "Не очень понятный мне пункт. Имеется в виду креативность составления объявления о вакансии или о креативности рабочей позиции. Если второе - то как его оценивать по объявлению? Если первое - то можем поискать в описании вакансии необычные слова."
   ]
  },
  {
   "cell_type": "code",
   "execution_count": 44,
   "metadata": {},
   "outputs": [],
   "source": [
    "creative = ['вкусн','футбол', 'праздник', 'крут', 'фрукт', 'фитнес', 'настольн', 'поэт', 'кикер', 'велопарковк', 'плюшк', \n",
    "            'ярк', 'массаж', 'туризм', 'playstation']"
   ]
  },
  {
   "cell_type": "code",
   "execution_count": 45,
   "metadata": {},
   "outputs": [],
   "source": [
    "creative_join = '|'.join(creative)\n",
    "creative_data = tester_data.query('vacancy_description.str.contains(@creative_join, case=False)', engine='python')"
   ]
  },
  {
   "cell_type": "code",
   "execution_count": 46,
   "metadata": {},
   "outputs": [
    {
     "data": {
      "text/plain": [
       "7502"
      ]
     },
     "execution_count": 46,
     "metadata": {},
     "output_type": "execute_result"
    }
   ],
   "source": [
    "# всего \"креативных\" вакансий\n",
    "creative_vacancies = len(creative_data)\n",
    "creative_vacancies"
   ]
  },
  {
   "cell_type": "code",
   "execution_count": 47,
   "metadata": {},
   "outputs": [
    {
     "data": {
      "text/plain": [
       "0.3273552384692586"
      ]
     },
     "execution_count": 47,
     "metadata": {},
     "output_type": "execute_result"
    }
   ],
   "source": [
    "# доля\n",
    "creative_vacancies/total_vacancies"
   ]
  },
  {
   "cell_type": "markdown",
   "metadata": {},
   "source": [
    "По времени"
   ]
  },
  {
   "cell_type": "code",
   "execution_count": 48,
   "metadata": {},
   "outputs": [],
   "source": [
    "#creative_data\n",
    "creative_per_season = creative_data.groupby(['month'], as_index=False)[['vacancy_id']].count().rename(columns={'vacancy_id':'vacancy_quant'})\n",
    "#creative_per_season.head()"
   ]
  },
  {
   "cell_type": "code",
   "execution_count": 49,
   "metadata": {},
   "outputs": [
    {
     "data": {
      "text/html": [
       "<div>\n",
       "<style scoped>\n",
       "    .dataframe tbody tr th:only-of-type {\n",
       "        vertical-align: middle;\n",
       "    }\n",
       "\n",
       "    .dataframe tbody tr th {\n",
       "        vertical-align: top;\n",
       "    }\n",
       "\n",
       "    .dataframe thead th {\n",
       "        text-align: right;\n",
       "    }\n",
       "</style>\n",
       "<table border=\"1\" class=\"dataframe\">\n",
       "  <thead>\n",
       "    <tr style=\"text-align: right;\">\n",
       "      <th></th>\n",
       "      <th>month</th>\n",
       "      <th>total_quant</th>\n",
       "    </tr>\n",
       "  </thead>\n",
       "  <tbody>\n",
       "    <tr>\n",
       "      <td>0</td>\n",
       "      <td>2017-01-01</td>\n",
       "      <td>551</td>\n",
       "    </tr>\n",
       "    <tr>\n",
       "      <td>1</td>\n",
       "      <td>2017-02-01</td>\n",
       "      <td>542</td>\n",
       "    </tr>\n",
       "    <tr>\n",
       "      <td>2</td>\n",
       "      <td>2017-03-01</td>\n",
       "      <td>671</td>\n",
       "    </tr>\n",
       "    <tr>\n",
       "      <td>3</td>\n",
       "      <td>2017-04-01</td>\n",
       "      <td>655</td>\n",
       "    </tr>\n",
       "    <tr>\n",
       "      <td>4</td>\n",
       "      <td>2017-05-01</td>\n",
       "      <td>654</td>\n",
       "    </tr>\n",
       "  </tbody>\n",
       "</table>\n",
       "</div>"
      ],
      "text/plain": [
       "       month  total_quant\n",
       "0 2017-01-01          551\n",
       "1 2017-02-01          542\n",
       "2 2017-03-01          671\n",
       "3 2017-04-01          655\n",
       "4 2017-05-01          654"
      ]
     },
     "execution_count": 49,
     "metadata": {},
     "output_type": "execute_result"
    }
   ],
   "source": [
    "vacancy_per_season = tester_data.groupby(['month'], as_index=False)[['vacancy_id']].count().rename(columns={'vacancy_id':'total_quant'})\n",
    "vacancy_per_season.head()"
   ]
  },
  {
   "cell_type": "code",
   "execution_count": 50,
   "metadata": {},
   "outputs": [
    {
     "data": {
      "text/html": [
       "<div>\n",
       "<style scoped>\n",
       "    .dataframe tbody tr th:only-of-type {\n",
       "        vertical-align: middle;\n",
       "    }\n",
       "\n",
       "    .dataframe tbody tr th {\n",
       "        vertical-align: top;\n",
       "    }\n",
       "\n",
       "    .dataframe thead th {\n",
       "        text-align: right;\n",
       "    }\n",
       "</style>\n",
       "<table border=\"1\" class=\"dataframe\">\n",
       "  <thead>\n",
       "    <tr style=\"text-align: right;\">\n",
       "      <th></th>\n",
       "      <th>month</th>\n",
       "      <th>vacancy_quant</th>\n",
       "      <th>total_quant</th>\n",
       "      <th>creative_share</th>\n",
       "    </tr>\n",
       "  </thead>\n",
       "  <tbody>\n",
       "    <tr>\n",
       "      <td>0</td>\n",
       "      <td>2017-01-01</td>\n",
       "      <td>182</td>\n",
       "      <td>551</td>\n",
       "      <td>0.330309</td>\n",
       "    </tr>\n",
       "    <tr>\n",
       "      <td>1</td>\n",
       "      <td>2017-02-01</td>\n",
       "      <td>164</td>\n",
       "      <td>542</td>\n",
       "      <td>0.302583</td>\n",
       "    </tr>\n",
       "    <tr>\n",
       "      <td>2</td>\n",
       "      <td>2017-03-01</td>\n",
       "      <td>206</td>\n",
       "      <td>671</td>\n",
       "      <td>0.307004</td>\n",
       "    </tr>\n",
       "  </tbody>\n",
       "</table>\n",
       "</div>"
      ],
      "text/plain": [
       "       month  vacancy_quant  total_quant  creative_share\n",
       "0 2017-01-01            182          551        0.330309\n",
       "1 2017-02-01            164          542        0.302583\n",
       "2 2017-03-01            206          671        0.307004"
      ]
     },
     "execution_count": 50,
     "metadata": {},
     "output_type": "execute_result"
    }
   ],
   "source": [
    "creative_per_season = creative_per_season.merge(vacancy_per_season, on='month', how='left')\n",
    "creative_per_season['creative_share'] = creative_per_season['vacancy_quant'] / creative_per_season['total_quant']\n",
    "creative_per_season.head(3)"
   ]
  },
  {
   "cell_type": "code",
   "execution_count": 51,
   "metadata": {},
   "outputs": [
    {
     "data": {
      "image/png": "[encoded data removed]",
      "text/plain": [
       "<Figure size 1080x432 with 1 Axes>"
      ]
     },
     "metadata": {
      "needs_background": "light"
     },
     "output_type": "display_data"
    }
   ],
   "source": [
    "plt.figure(figsize=(15, 6))\n",
    "plt.xticks(rotation=90)\n",
    "plt.title('Количество креативных вакансий по месяцам')\n",
    "ax = sns.barplot(x=\"month\", y=\"vacancy_quant\", data=creative_per_season)\n",
    "ax.set_xticklabels([i.strftime('%Y-%m') for i in creative_per_season.month]);\n",
    "ax.set(xlabel='Месяц', ylabel='Число вакансий')\n",
    "plt.show()"
   ]
  },
  {
   "cell_type": "markdown",
   "metadata": {},
   "source": [
    "Общее количество креативных вакансий подвержено сезонным колебаниям (для общего числа вакансий мы подробнее проанализируем их ниже) - рост в конце лета/осенью, падение в начале года и в мае-июне."
   ]
  },
  {
   "cell_type": "code",
   "execution_count": 52,
   "metadata": {},
   "outputs": [
    {
     "data": {
      "image/png": "[encoded data removed]",
      "text/plain": [
       "<Figure size 1080x432 with 1 Axes>"
      ]
     },
     "metadata": {
      "needs_background": "light"
     },
     "output_type": "display_data"
    }
   ],
   "source": [
    "plt.figure(figsize=(15, 6))\n",
    "plt.xticks(rotation=90)\n",
    "plt.title('Доля креативных вакансий по месяцам')\n",
    "ax = sns.barplot(x=\"month\", y=\"creative_share\", data=creative_per_season)\n",
    "ax.set_xticklabels([i.strftime('%Y-%m') for i in creative_per_season.month]);\n",
    "ax.set(xlabel='Месяц', ylabel='Число вакансий')\n",
    "plt.show()"
   ]
  },
  {
   "cell_type": "markdown",
   "metadata": {},
   "source": [
    "А вот доля таких вакансий от общего числа потихонечку растет со временем - за 3 года примерно на 10%."
   ]
  },
  {
   "cell_type": "markdown",
   "metadata": {},
   "source": [
    "### Выводы\n",
    "Около трети вакансий составлены с \"креативным\" подходом. Видимо, работодатели надеются заполучить к себе таких же нестандартных ребят ))"
   ]
  },
  {
   "cell_type": "markdown",
   "metadata": {},
   "source": [
    "## Вопросы от Заказчика <a id=\"customer\"></a>"
   ]
  },
  {
   "cell_type": "markdown",
   "metadata": {},
   "source": [
    "#### 1. Емкость рынка по годам.Формат таблицы: Год, Количество вакансий <a id=\"years\"></a>"
   ]
  },
  {
   "cell_type": "code",
   "execution_count": 53,
   "metadata": {},
   "outputs": [
    {
     "data": {
      "text/html": [
       "<div>\n",
       "<style scoped>\n",
       "    .dataframe tbody tr th:only-of-type {\n",
       "        vertical-align: middle;\n",
       "    }\n",
       "\n",
       "    .dataframe tbody tr th {\n",
       "        vertical-align: top;\n",
       "    }\n",
       "\n",
       "    .dataframe thead th {\n",
       "        text-align: right;\n",
       "    }\n",
       "</style>\n",
       "<table border=\"1\" class=\"dataframe\">\n",
       "  <thead>\n",
       "    <tr style=\"text-align: right;\">\n",
       "      <th></th>\n",
       "      <th>year</th>\n",
       "      <th>vacancy_quant</th>\n",
       "    </tr>\n",
       "  </thead>\n",
       "  <tbody>\n",
       "    <tr>\n",
       "      <td>0</td>\n",
       "      <td>2017</td>\n",
       "      <td>8262</td>\n",
       "    </tr>\n",
       "    <tr>\n",
       "      <td>1</td>\n",
       "      <td>2018</td>\n",
       "      <td>7580</td>\n",
       "    </tr>\n",
       "    <tr>\n",
       "      <td>2</td>\n",
       "      <td>2019</td>\n",
       "      <td>7075</td>\n",
       "    </tr>\n",
       "  </tbody>\n",
       "</table>\n",
       "</div>"
      ],
      "text/plain": [
       "   year  vacancy_quant\n",
       "0  2017           8262\n",
       "1  2018           7580\n",
       "2  2019           7075"
      ]
     },
     "execution_count": 53,
     "metadata": {},
     "output_type": "execute_result"
    }
   ],
   "source": [
    "vacancy_per_year = tester_data.groupby('year', as_index=False)[['vacancy_id']].count().rename(columns={'vacancy_id':'vacancy_quant'})\n",
    "vacancy_per_year"
   ]
  },
  {
   "cell_type": "markdown",
   "metadata": {},
   "source": [
    "Общее количество вакансий в области тестирования немного, но снижается с годами - на 8% в 2018 относительно 2017 и еще на 7% в 2019 относительно 2018."
   ]
  },
  {
   "cell_type": "markdown",
   "metadata": {},
   "source": [
    "#### 2. Емкость рынка по регионам и по годам.Формат таблицы: Регион, Год, Количество вакансий <a id=\"regions\"></a>"
   ]
  },
  {
   "cell_type": "code",
   "execution_count": 54,
   "metadata": {
    "scrolled": true
   },
   "outputs": [
    {
     "data": {
      "text/html": [
       "<div>\n",
       "<style scoped>\n",
       "    .dataframe tbody tr th:only-of-type {\n",
       "        vertical-align: middle;\n",
       "    }\n",
       "\n",
       "    .dataframe tbody tr th {\n",
       "        vertical-align: top;\n",
       "    }\n",
       "\n",
       "    .dataframe thead th {\n",
       "        text-align: right;\n",
       "    }\n",
       "</style>\n",
       "<table border=\"1\" class=\"dataframe\">\n",
       "  <thead>\n",
       "    <tr style=\"text-align: right;\">\n",
       "      <th></th>\n",
       "      <th>region_name</th>\n",
       "      <th>year</th>\n",
       "      <th>vacancy_quant</th>\n",
       "    </tr>\n",
       "  </thead>\n",
       "  <tbody>\n",
       "    <tr>\n",
       "      <td>108</td>\n",
       "      <td>Москва</td>\n",
       "      <td>2017</td>\n",
       "      <td>2587</td>\n",
       "    </tr>\n",
       "    <tr>\n",
       "      <td>110</td>\n",
       "      <td>Москва</td>\n",
       "      <td>2019</td>\n",
       "      <td>2488</td>\n",
       "    </tr>\n",
       "    <tr>\n",
       "      <td>109</td>\n",
       "      <td>Москва</td>\n",
       "      <td>2018</td>\n",
       "      <td>2399</td>\n",
       "    </tr>\n",
       "    <tr>\n",
       "      <td>201</td>\n",
       "      <td>Санкт-Петербург</td>\n",
       "      <td>2017</td>\n",
       "      <td>1506</td>\n",
       "    </tr>\n",
       "    <tr>\n",
       "      <td>202</td>\n",
       "      <td>Санкт-Петербург</td>\n",
       "      <td>2018</td>\n",
       "      <td>1254</td>\n",
       "    </tr>\n",
       "    <tr>\n",
       "      <td>...</td>\n",
       "      <td>...</td>\n",
       "      <td>...</td>\n",
       "      <td>...</td>\n",
       "    </tr>\n",
       "    <tr>\n",
       "      <td>185</td>\n",
       "      <td>Республика Северная Осетия-Алания</td>\n",
       "      <td>2019</td>\n",
       "      <td>1</td>\n",
       "    </tr>\n",
       "    <tr>\n",
       "      <td>189</td>\n",
       "      <td>Республика Тыва</td>\n",
       "      <td>2018</td>\n",
       "      <td>1</td>\n",
       "    </tr>\n",
       "    <tr>\n",
       "      <td>191</td>\n",
       "      <td>Республика Хакасия</td>\n",
       "      <td>2019</td>\n",
       "      <td>1</td>\n",
       "    </tr>\n",
       "    <tr>\n",
       "      <td>20</td>\n",
       "      <td>Барановичи</td>\n",
       "      <td>2019</td>\n",
       "      <td>1</td>\n",
       "    </tr>\n",
       "    <tr>\n",
       "      <td>0</td>\n",
       "      <td>Актау</td>\n",
       "      <td>2017</td>\n",
       "      <td>1</td>\n",
       "    </tr>\n",
       "  </tbody>\n",
       "</table>\n",
       "<p>262 rows × 3 columns</p>\n",
       "</div>"
      ],
      "text/plain": [
       "                           region_name  year  vacancy_quant\n",
       "108                             Москва  2017           2587\n",
       "110                             Москва  2019           2488\n",
       "109                             Москва  2018           2399\n",
       "201                    Санкт-Петербург  2017           1506\n",
       "202                    Санкт-Петербург  2018           1254\n",
       "..                                 ...   ...            ...\n",
       "185  Республика Северная Осетия-Алания  2019              1\n",
       "189                    Республика Тыва  2018              1\n",
       "191                 Республика Хакасия  2019              1\n",
       "20                          Барановичи  2019              1\n",
       "0                                Актау  2017              1\n",
       "\n",
       "[262 rows x 3 columns]"
      ]
     },
     "execution_count": 54,
     "metadata": {},
     "output_type": "execute_result"
    }
   ],
   "source": [
    "vacancy_per_region = tester_data.groupby(['region_name', 'year'], as_index=False)[['vacancy_id']].count().sort_values(by='vacancy_id', ascending=False).rename(columns={'vacancy_id':'vacancy_quant'})\n",
    "vacancy_per_region"
   ]
  },
  {
   "cell_type": "code",
   "execution_count": 55,
   "metadata": {},
   "outputs": [
    {
     "data": {
      "image/png": "[encoded data removed]",
      "text/plain": [
       "<Figure size 1080x432 with 1 Axes>"
      ]
     },
     "metadata": {
      "needs_background": "light"
     },
     "output_type": "display_data"
    }
   ],
   "source": [
    "plt.figure(figsize=(15, 6))\n",
    "plt.xticks(rotation=90)\n",
    "plt.title('Количество вакансий по регионам')\n",
    "ax = sns.barplot(x=\"region_name\", y=\"vacancy_quant\", hue='year', data=vacancy_per_region.head(40))\n",
    "ax.set(xlabel='Регион', ylabel='Число вакансий')\n",
    "plt.show()"
   ]
  },
  {
   "cell_type": "markdown",
   "metadata": {},
   "source": [
    "Тенденция к снижению числа вакансий просматривается и по данным регионов. Кое-где (Ростов, Саратов, Пермь) они вовсе сходят на нет после 2017го года. Исключением выглядит Москва, где после падения числа вакансий в 2018м на 7%, в 2019м произошел отскок на 3,7%."
   ]
  },
  {
   "cell_type": "markdown",
   "metadata": {},
   "source": [
    "#### 3. Доля вакансий, в которой упоминается «исследовательское тестирование» <a id=\"research_share\"></a>"
   ]
  },
  {
   "cell_type": "code",
   "execution_count": 56,
   "metadata": {},
   "outputs": [],
   "source": [
    "tester_data['research'] = 0"
   ]
  },
  {
   "cell_type": "code",
   "execution_count": 57,
   "metadata": {},
   "outputs": [],
   "source": [
    "tester_data['research'][tester_data['vacancy_description'].str.contains('исследовательск', case=False)] = 1"
   ]
  },
  {
   "cell_type": "code",
   "execution_count": 58,
   "metadata": {},
   "outputs": [
    {
     "data": {
      "text/plain": [
       "0.04149757821704412"
      ]
     },
     "execution_count": 58,
     "metadata": {},
     "output_type": "execute_result"
    }
   ],
   "source": [
    "tester_data['research'].sum() / len(tester_data)"
   ]
  },
  {
   "cell_type": "markdown",
   "metadata": {},
   "source": [
    "##### Около 4% от общего числа вакансий в области тестирования"
   ]
  },
  {
   "cell_type": "markdown",
   "metadata": {},
   "source": [
    "#### 4. Распределение по регионам и количество вакансий с удаленной работой. Формат таблицы: Регион, Количество вакансий <a id=\"remote\"></a>"
   ]
  },
  {
   "cell_type": "code",
   "execution_count": 59,
   "metadata": {},
   "outputs": [],
   "source": [
    "remote_data = tester_data.query('work_schedule==\"remote\"').copy().reset_index()"
   ]
  },
  {
   "cell_type": "code",
   "execution_count": 60,
   "metadata": {},
   "outputs": [
    {
     "data": {
      "text/html": [
       "<div>\n",
       "<style scoped>\n",
       "    .dataframe tbody tr th:only-of-type {\n",
       "        vertical-align: middle;\n",
       "    }\n",
       "\n",
       "    .dataframe tbody tr th {\n",
       "        vertical-align: top;\n",
       "    }\n",
       "\n",
       "    .dataframe thead th {\n",
       "        text-align: right;\n",
       "    }\n",
       "</style>\n",
       "<table border=\"1\" class=\"dataframe\">\n",
       "  <thead>\n",
       "    <tr style=\"text-align: right;\">\n",
       "      <th></th>\n",
       "      <th>region_name</th>\n",
       "      <th>vacancy_quant</th>\n",
       "    </tr>\n",
       "  </thead>\n",
       "  <tbody>\n",
       "    <tr>\n",
       "      <td>36</td>\n",
       "      <td>Москва</td>\n",
       "      <td>360</td>\n",
       "    </tr>\n",
       "    <tr>\n",
       "      <td>67</td>\n",
       "      <td>Санкт-Петербург</td>\n",
       "      <td>162</td>\n",
       "    </tr>\n",
       "    <tr>\n",
       "      <td>61</td>\n",
       "      <td>Республика Татарстан</td>\n",
       "      <td>62</td>\n",
       "    </tr>\n",
       "    <tr>\n",
       "      <td>39</td>\n",
       "      <td>Нижегородская область</td>\n",
       "      <td>59</td>\n",
       "    </tr>\n",
       "    <tr>\n",
       "      <td>41</td>\n",
       "      <td>Новосибирская область</td>\n",
       "      <td>56</td>\n",
       "    </tr>\n",
       "    <tr>\n",
       "      <td>...</td>\n",
       "      <td>...</td>\n",
       "      <td>...</td>\n",
       "    </tr>\n",
       "    <tr>\n",
       "      <td>5</td>\n",
       "      <td>Атырау</td>\n",
       "      <td>1</td>\n",
       "    </tr>\n",
       "    <tr>\n",
       "      <td>50</td>\n",
       "      <td>Республика Адыгея</td>\n",
       "      <td>1</td>\n",
       "    </tr>\n",
       "    <tr>\n",
       "      <td>9</td>\n",
       "      <td>Витебск</td>\n",
       "      <td>1</td>\n",
       "    </tr>\n",
       "    <tr>\n",
       "      <td>7</td>\n",
       "      <td>Брест</td>\n",
       "      <td>1</td>\n",
       "    </tr>\n",
       "    <tr>\n",
       "      <td>33</td>\n",
       "      <td>Магаданская область</td>\n",
       "      <td>1</td>\n",
       "    </tr>\n",
       "  </tbody>\n",
       "</table>\n",
       "<p>87 rows × 2 columns</p>\n",
       "</div>"
      ],
      "text/plain": [
       "              region_name  vacancy_quant\n",
       "36                 Москва            360\n",
       "67        Санкт-Петербург            162\n",
       "61   Республика Татарстан             62\n",
       "39  Нижегородская область             59\n",
       "41  Новосибирская область             56\n",
       "..                    ...            ...\n",
       "5                  Атырау              1\n",
       "50      Республика Адыгея              1\n",
       "9                 Витебск              1\n",
       "7                   Брест              1\n",
       "33    Магаданская область              1\n",
       "\n",
       "[87 rows x 2 columns]"
      ]
     },
     "execution_count": 60,
     "metadata": {},
     "output_type": "execute_result"
    }
   ],
   "source": [
    "remote_data_per_region = remote_data.groupby(['region_name'], as_index=False)[['vacancy_id']].count().sort_values(by='vacancy_id', ascending=False).rename(columns={'vacancy_id':'vacancy_quant'})\n",
    "remote_data_per_region"
   ]
  },
  {
   "cell_type": "code",
   "execution_count": 61,
   "metadata": {},
   "outputs": [
    {
     "data": {
      "image/png": "[encoded data removed]",
      "text/plain": [
       "<Figure size 460.8x316.8 with 1 Axes>"
      ]
     },
     "metadata": {
      "needs_background": "light"
     },
     "output_type": "display_data"
    }
   ],
   "source": [
    "with plt.style.context('seaborn-paper'):\n",
    "    plt.bar(remote_data_per_region.head(20)['region_name'], remote_data_per_region.head(20)['vacancy_quant'])\n",
    "plt.xlabel('Регион')\n",
    "plt.ylabel('Число вакансий')\n",
    "plt.title('Количество вакансий с удаленной работой по регионам')\n",
    "plt.xticks(rotation=90)     \n",
    "plt.show()"
   ]
  },
  {
   "cell_type": "markdown",
   "metadata": {},
   "source": [
    "<a id=\"season\"></a>\n",
    "#### 5. Существуют ли сезонные пики и спады в распределении числа активных вакансий в течение года и если да — существуют везде или,например, в Москве спадов нет? "
   ]
  },
  {
   "cell_type": "code",
   "execution_count": 62,
   "metadata": {},
   "outputs": [
    {
     "data": {
      "text/html": [
       "<div>\n",
       "<style scoped>\n",
       "    .dataframe tbody tr th:only-of-type {\n",
       "        vertical-align: middle;\n",
       "    }\n",
       "\n",
       "    .dataframe tbody tr th {\n",
       "        vertical-align: top;\n",
       "    }\n",
       "\n",
       "    .dataframe thead th {\n",
       "        text-align: right;\n",
       "    }\n",
       "</style>\n",
       "<table border=\"1\" class=\"dataframe\">\n",
       "  <thead>\n",
       "    <tr style=\"text-align: right;\">\n",
       "      <th></th>\n",
       "      <th>month</th>\n",
       "      <th>total_quant</th>\n",
       "    </tr>\n",
       "  </thead>\n",
       "  <tbody>\n",
       "    <tr>\n",
       "      <td>0</td>\n",
       "      <td>2017-01-01</td>\n",
       "      <td>551</td>\n",
       "    </tr>\n",
       "    <tr>\n",
       "      <td>1</td>\n",
       "      <td>2017-02-01</td>\n",
       "      <td>542</td>\n",
       "    </tr>\n",
       "    <tr>\n",
       "      <td>2</td>\n",
       "      <td>2017-03-01</td>\n",
       "      <td>671</td>\n",
       "    </tr>\n",
       "  </tbody>\n",
       "</table>\n",
       "</div>"
      ],
      "text/plain": [
       "       month  total_quant\n",
       "0 2017-01-01          551\n",
       "1 2017-02-01          542\n",
       "2 2017-03-01          671"
      ]
     },
     "execution_count": 62,
     "metadata": {},
     "output_type": "execute_result"
    }
   ],
   "source": [
    "#vacancy_per_season = tester_data.groupby(['month'], as_index=False)[['vacancy_id']].count().rename(columns={'vacancy_id':'vacancy_quant'})  #.sort_values(by='month')\n",
    "vacancy_per_season.head(3)"
   ]
  },
  {
   "cell_type": "code",
   "execution_count": 63,
   "metadata": {},
   "outputs": [],
   "source": [
    "#vacancy_per_season['month'] = pd.to_datetime(vacancy_per_season['month'], format='%Y-%m-%d')\n",
    "#vacancy_per_season.head()"
   ]
  },
  {
   "cell_type": "code",
   "execution_count": 64,
   "metadata": {
    "scrolled": true
   },
   "outputs": [
    {
     "data": {
      "image/png": "[encoded data removed]",
      "text/plain": [
       "<Figure size 1080x432 with 1 Axes>"
      ]
     },
     "metadata": {
      "needs_background": "light"
     },
     "output_type": "display_data"
    }
   ],
   "source": [
    "plt.figure(figsize=(15, 6))\n",
    "plt.xticks(rotation=90)\n",
    "plt.title('Количество вакансий по месяцам')\n",
    "ax = sns.barplot(x=\"month\", y=\"total_quant\", data=vacancy_per_season)\n",
    "ax.set_xticklabels([i.strftime('%Y-%m') for i in vacancy_per_season.month]);\n",
    "ax.set(xlabel='Месяц', ylabel='Число вакансий')\n",
    "plt.show()"
   ]
  },
  {
   "cell_type": "markdown",
   "metadata": {},
   "source": [
    "По общему массиву вакансий сезонные колебания явно есть - отчетливо просматривается рост их числа в конце лета-осенью и провал в зимние месяцы. Возможно, это связано с тем, что летом в большинстве ВУЗов происходит защита дипломов и компании начинают охоту на перспективных выпускников. Зимой же, особенно в районе нового года, деловая активность вообще снижается, брать новых сотрудников в этот период хотят далеко не все.\n",
    "\n",
    "Впрочем, в 2019м эти колебания немного сглаживаются."
   ]
  },
  {
   "cell_type": "code",
   "execution_count": 65,
   "metadata": {},
   "outputs": [],
   "source": [
    "# Рассмотрим что происходит с сезонными колебаниями в топ-10 регионов\n",
    "top_cities = vacancy_per_region['region_name'].drop_duplicates().head(10)"
   ]
  },
  {
   "cell_type": "code",
   "execution_count": 66,
   "metadata": {},
   "outputs": [],
   "source": [
    "vacancy_per_season_region = tester_data.groupby(['month', 'region_name'], as_index=False)[['vacancy_id']].count().rename(columns={'vacancy_id':'vacancy_quant'})\n",
    "#vacancy_per_season_region"
   ]
  },
  {
   "cell_type": "code",
   "execution_count": 67,
   "metadata": {},
   "outputs": [
    {
     "name": "stdout",
     "output_type": "stream",
     "text": [
      "Москва\n"
     ]
    },
    {
     "data": {
      "image/png": "[encoded data removed]",
      "text/plain": [
       "<Figure size 1080x432 with 1 Axes>"
      ]
     },
     "metadata": {
      "needs_background": "light"
     },
     "output_type": "display_data"
    },
    {
     "name": "stdout",
     "output_type": "stream",
     "text": [
      "Санкт-Петербург\n"
     ]
    },
    {
     "data": {
      "image/png": "[encoded data removed]",
      "text/plain": [
       "<Figure size 1080x432 with 1 Axes>"
      ]
     },
     "metadata": {
      "needs_background": "light"
     },
     "output_type": "display_data"
    },
    {
     "name": "stdout",
     "output_type": "stream",
     "text": [
      "Минск\n"
     ]
    },
    {
     "data": {
      "image/png": "[encoded data removed]",
      "text/plain": [
       "<Figure size 1080x432 with 1 Axes>"
      ]
     },
     "metadata": {
      "needs_background": "light"
     },
     "output_type": "display_data"
    },
    {
     "name": "stdout",
     "output_type": "stream",
     "text": [
      "Новосибирская область\n"
     ]
    },
    {
     "data": {
      "image/png": "[encoded data removed]",
      "text/plain": [
       "<Figure size 1080x432 with 1 Axes>"
      ]
     },
     "metadata": {
      "needs_background": "light"
     },
     "output_type": "display_data"
    },
    {
     "name": "stdout",
     "output_type": "stream",
     "text": [
      "Нижегородская область\n"
     ]
    },
    {
     "data": {
      "image/png": "[encoded data removed]",
      "text/plain": [
       "<Figure size 1080x432 with 1 Axes>"
      ]
     },
     "metadata": {
      "needs_background": "light"
     },
     "output_type": "display_data"
    },
    {
     "name": "stdout",
     "output_type": "stream",
     "text": [
      "Республика Татарстан\n"
     ]
    },
    {
     "data": {
      "image/png": "[encoded data removed]",
      "text/plain": [
       "<Figure size 1080x432 with 1 Axes>"
      ]
     },
     "metadata": {
      "needs_background": "light"
     },
     "output_type": "display_data"
    },
    {
     "name": "stdout",
     "output_type": "stream",
     "text": [
      "Свердловская область\n"
     ]
    },
    {
     "data": {
      "image/png": "[encoded data removed]",
      "text/plain": [
       "<Figure size 1080x432 with 1 Axes>"
      ]
     },
     "metadata": {
      "needs_background": "light"
     },
     "output_type": "display_data"
    },
    {
     "name": "stdout",
     "output_type": "stream",
     "text": [
      "Самарская область\n"
     ]
    },
    {
     "data": {
      "image/png": "[encoded data removed]",
      "text/plain": [
       "<Figure size 1080x432 with 1 Axes>"
      ]
     },
     "metadata": {
      "needs_background": "light"
     },
     "output_type": "display_data"
    },
    {
     "name": "stdout",
     "output_type": "stream",
     "text": [
      "Воронежская область\n"
     ]
    },
    {
     "data": {
      "image/png": "[encoded data removed]",
      "text/plain": [
       "<Figure size 1080x432 with 1 Axes>"
      ]
     },
     "metadata": {
      "needs_background": "light"
     },
     "output_type": "display_data"
    },
    {
     "name": "stdout",
     "output_type": "stream",
     "text": [
      "Ростовская область\n"
     ]
    },
    {
     "data": {
      "image/png": "[encoded data removed]",
      "text/plain": [
       "<Figure size 1080x432 with 1 Axes>"
      ]
     },
     "metadata": {
      "needs_background": "light"
     },
     "output_type": "display_data"
    }
   ],
   "source": [
    "for region in top_cities:\n",
    "    print(region)\n",
    "    graph_data = vacancy_per_season_region[vacancy_per_season_region['region_name']==region]\n",
    "    plt.figure(figsize=(15, 6))\n",
    "    plt.xticks(rotation=90)\n",
    "    plt.title('Количество вакансий по месяцам')\n",
    "    ax = sns.barplot(x=\"month\", y=\"vacancy_quant\", data=graph_data)\n",
    "    ax.set_xticklabels([i.strftime('%Y-%m') for i in graph_data.month]);\n",
    "    ax.set(xlabel='Месяц', ylabel='Число вакансий')\n",
    "    plt.show()\n",
    "    "
   ]
  },
  {
   "cell_type": "markdown",
   "metadata": {},
   "source": [
    "Что ж, подобные колебания есть во всех регионах, хотя и выглядят где-то более ярко выраженно, где-то более сглаженно (Москва, Минск, СПб)."
   ]
  },
  {
   "cell_type": "markdown",
   "metadata": {},
   "source": [
    "<a id=\"trainee\"></a>\n",
    "#### 6. Сколько вакансий-стажировок (с дополнительным к основной выборке словом «стажер»/«стажёр»/«стажировка» в названии) и их распределение по регионам/ Формат: Регион, количество вакансий "
   ]
  },
  {
   "cell_type": "code",
   "execution_count": 68,
   "metadata": {},
   "outputs": [],
   "source": [
    "tester_data['trainee'] = 0"
   ]
  },
  {
   "cell_type": "code",
   "execution_count": 69,
   "metadata": {},
   "outputs": [],
   "source": [
    "tester_data['trainee'] = (tester_data.vacancy_name.str.contains('стажер|стажёр|стажиров|trainee', case=False) |\n",
    "                        tester_data.vacancy_description.str.contains('стажер|стажёр|стажиров|trainee', case=False)).astype(int)"
   ]
  },
  {
   "cell_type": "code",
   "execution_count": 70,
   "metadata": {},
   "outputs": [],
   "source": [
    "trainee_data = tester_data.query('trainee==1').copy().reset_index()"
   ]
  },
  {
   "cell_type": "code",
   "execution_count": 71,
   "metadata": {},
   "outputs": [
    {
     "data": {
      "text/plain": [
       "614"
      ]
     },
     "execution_count": 71,
     "metadata": {},
     "output_type": "execute_result"
    }
   ],
   "source": [
    "len(trainee_data)"
   ]
  },
  {
   "cell_type": "markdown",
   "metadata": {},
   "source": [
    "#### Всего 614 таких вакансий"
   ]
  },
  {
   "cell_type": "code",
   "execution_count": 72,
   "metadata": {},
   "outputs": [
    {
     "data": {
      "text/html": [
       "<div>\n",
       "<style scoped>\n",
       "    .dataframe tbody tr th:only-of-type {\n",
       "        vertical-align: middle;\n",
       "    }\n",
       "\n",
       "    .dataframe tbody tr th {\n",
       "        vertical-align: top;\n",
       "    }\n",
       "\n",
       "    .dataframe thead th {\n",
       "        text-align: right;\n",
       "    }\n",
       "</style>\n",
       "<table border=\"1\" class=\"dataframe\">\n",
       "  <thead>\n",
       "    <tr style=\"text-align: right;\">\n",
       "      <th></th>\n",
       "      <th>region_name</th>\n",
       "      <th>vacancy_quant</th>\n",
       "    </tr>\n",
       "  </thead>\n",
       "  <tbody>\n",
       "    <tr>\n",
       "      <td>20</td>\n",
       "      <td>Москва</td>\n",
       "      <td>154</td>\n",
       "    </tr>\n",
       "    <tr>\n",
       "      <td>43</td>\n",
       "      <td>Санкт-Петербург</td>\n",
       "      <td>97</td>\n",
       "    </tr>\n",
       "    <tr>\n",
       "      <td>8</td>\n",
       "      <td>Воронежская область</td>\n",
       "      <td>36</td>\n",
       "    </tr>\n",
       "    <tr>\n",
       "      <td>52</td>\n",
       "      <td>Удмуртская Республика</td>\n",
       "      <td>27</td>\n",
       "    </tr>\n",
       "    <tr>\n",
       "      <td>18</td>\n",
       "      <td>Минск</td>\n",
       "      <td>27</td>\n",
       "    </tr>\n",
       "    <tr>\n",
       "      <td>25</td>\n",
       "      <td>Новосибирская область</td>\n",
       "      <td>24</td>\n",
       "    </tr>\n",
       "    <tr>\n",
       "      <td>22</td>\n",
       "      <td>Нижегородская область</td>\n",
       "      <td>20</td>\n",
       "    </tr>\n",
       "    <tr>\n",
       "      <td>39</td>\n",
       "      <td>Республика Татарстан</td>\n",
       "      <td>20</td>\n",
       "    </tr>\n",
       "    <tr>\n",
       "      <td>45</td>\n",
       "      <td>Свердловская область</td>\n",
       "      <td>19</td>\n",
       "    </tr>\n",
       "    <tr>\n",
       "      <td>41</td>\n",
       "      <td>Рязанская область</td>\n",
       "      <td>14</td>\n",
       "    </tr>\n",
       "    <tr>\n",
       "      <td>6</td>\n",
       "      <td>Волгоградская область</td>\n",
       "      <td>13</td>\n",
       "    </tr>\n",
       "    <tr>\n",
       "      <td>16</td>\n",
       "      <td>Краснодарский край</td>\n",
       "      <td>12</td>\n",
       "    </tr>\n",
       "    <tr>\n",
       "      <td>42</td>\n",
       "      <td>Самарская область</td>\n",
       "      <td>11</td>\n",
       "    </tr>\n",
       "    <tr>\n",
       "      <td>36</td>\n",
       "      <td>Республика Крым</td>\n",
       "      <td>10</td>\n",
       "    </tr>\n",
       "    <tr>\n",
       "      <td>27</td>\n",
       "      <td>Омская область</td>\n",
       "      <td>8</td>\n",
       "    </tr>\n",
       "    <tr>\n",
       "      <td>17</td>\n",
       "      <td>Красноярский край</td>\n",
       "      <td>7</td>\n",
       "    </tr>\n",
       "    <tr>\n",
       "      <td>40</td>\n",
       "      <td>Ростовская область</td>\n",
       "      <td>7</td>\n",
       "    </tr>\n",
       "    <tr>\n",
       "      <td>55</td>\n",
       "      <td>Чувашская Республика</td>\n",
       "      <td>7</td>\n",
       "    </tr>\n",
       "    <tr>\n",
       "      <td>13</td>\n",
       "      <td>Калужская область</td>\n",
       "      <td>6</td>\n",
       "    </tr>\n",
       "    <tr>\n",
       "      <td>30</td>\n",
       "      <td>Пермский край</td>\n",
       "      <td>6</td>\n",
       "    </tr>\n",
       "  </tbody>\n",
       "</table>\n",
       "</div>"
      ],
      "text/plain": [
       "              region_name  vacancy_quant\n",
       "20                 Москва            154\n",
       "43        Санкт-Петербург             97\n",
       "8     Воронежская область             36\n",
       "52  Удмуртская Республика             27\n",
       "18                  Минск             27\n",
       "25  Новосибирская область             24\n",
       "22  Нижегородская область             20\n",
       "39   Республика Татарстан             20\n",
       "45   Свердловская область             19\n",
       "41      Рязанская область             14\n",
       "6   Волгоградская область             13\n",
       "16     Краснодарский край             12\n",
       "42      Самарская область             11\n",
       "36        Республика Крым             10\n",
       "27         Омская область              8\n",
       "17      Красноярский край              7\n",
       "40     Ростовская область              7\n",
       "55   Чувашская Республика              7\n",
       "13      Калужская область              6\n",
       "30          Пермский край              6"
      ]
     },
     "execution_count": 72,
     "metadata": {},
     "output_type": "execute_result"
    }
   ],
   "source": [
    "trainee_data_per_region = trainee_data.groupby(['region_name'], as_index=False)[['vacancy_id']].count().sort_values(by='vacancy_id', ascending=False).rename(columns={'vacancy_id':'vacancy_quant'})\n",
    "trainee_data_per_region.head(20)"
   ]
  },
  {
   "cell_type": "code",
   "execution_count": 73,
   "metadata": {},
   "outputs": [
    {
     "data": {
      "image/png": "[encoded data removed]",
      "text/plain": [
       "<Figure size 460.8x316.8 with 1 Axes>"
      ]
     },
     "metadata": {
      "needs_background": "light"
     },
     "output_type": "display_data"
    }
   ],
   "source": [
    "with plt.style.context('seaborn-paper'):\n",
    "    plt.bar(trainee_data_per_region['region_name'].head(20), trainee_data_per_region['vacancy_quant'].head(20))\n",
    "plt.xlabel('Регион')\n",
    "plt.ylabel('Число вакансий')\n",
    "plt.title('Количество вакансий стажеров по регионам')\n",
    "plt.xticks(rotation=90)     \n",
    "plt.show()"
   ]
  },
  {
   "cell_type": "markdown",
   "metadata": {},
   "source": [
    "С Москвой и СПб все понятно, но любопытно, что за ними идут не айтишный Минск или Новосибирск, а Воронеж и Ижевск. Неужели там начинает развиваться IT-индустрия?"
   ]
  },
  {
   "cell_type": "markdown",
   "metadata": {},
   "source": [
    "<a id=\"junior\"></a>\n",
    "#### 7. Сколько вакансий джунов называются «тестировщик», «QA» или«QC»? Не случился ли перекос в сторону наименования QA? "
   ]
  },
  {
   "cell_type": "code",
   "execution_count": 74,
   "metadata": {},
   "outputs": [
    {
     "data": {
      "text/plain": [
       "1186"
      ]
     },
     "execution_count": 74,
     "metadata": {},
     "output_type": "execute_result"
    }
   ],
   "source": [
    "len(junior_data)"
   ]
  },
  {
   "cell_type": "code",
   "execution_count": 75,
   "metadata": {},
   "outputs": [
    {
     "name": "stdout",
     "output_type": "stream",
     "text": [
      "Название QA встречается 675 раз\n",
      "Название тестировщик встречается 393 раз\n",
      "Название QC встречается 7 раз\n"
     ]
    }
   ],
   "source": [
    "for name in {'QA', 'QC', 'тестировщик'}:\n",
    "    junior_named = len(junior_data[junior_data['vacancy_name'].str.contains(name, case=False)])\n",
    "    print('Название', name, 'встречается', junior_named, 'раз')"
   ]
  },
  {
   "cell_type": "markdown",
   "metadata": {},
   "source": [
    "Что ж, перекос в сторону QA действительно есть и довольно значительный - встречается вдвое чаще, чем \"тестировщик\", а частота QC вообще исчезающе мала. Возможно, работодатели считают, что джуну еще рано знать что такое Quality Control."
   ]
  },
  {
   "cell_type": "markdown",
   "metadata": {},
   "source": [
    "### Выводы и рекомендации <a id=\"conclusions\"></a>"
   ]
  },
  {
   "cell_type": "markdown",
   "metadata": {},
   "source": [
    "Общее количество вакансий в области тестирования немного, но снижается с годами - на 8% в 2018 относительно 2017 и еще на 7% в 2019 относительно 2018.\n",
    "Тенденция к снижению числа вакансий просматривается и по данным регионов. Кое-где (Ростов, Саратов, Пермь) они вовсе сходят на нет после 2017го года. Исключением выглядит Москва, где после падения числа вакансий в 2018м на 7%, в 2019м произошел отскок на 3,7%.\n",
    "\n",
    "Лишь около 4% от общего числа составляют вакансии, где требуется навык исследовательского тестирования.\n",
    "\n",
    "По количеству удаленных вакансий лидируют Москва, СПб, Татарстан, Н.Новгород, Новосибирск. Любопытно, что идущий на уверенном 3м месте по общему числу вакансий Минск, по возможностям удаленной работы лишь седьмой. Хочешь работать в World of Tanks - переезжай в Минск.\n",
    "\n",
    "По общему массиву вакансий сезонные колебания явно есть - отчетливо просматривается рост их числа в конце лета-осенью и провал в зимние месяцы. Возможно, это связано с появлением на рынке в это время выпускников ВУЗов. Зимой же, особенно в районе нового года, деловая активность вообще снижается, брать новыхсотрудников в этот период хотят далеко не все.\n",
    "И подобные колебания есть во всех регионах, хотя и выглядят где-то более ярко выраженно, где-то более сглаженно (Москва, Минск, СПб).\n",
    "\n",
    "Вакансий для стажеров всего 614 на весь массив, это примерно 2,5%. Как всегда, в основном это Моква и Питер, но неожиданно 3й и 4й - Воронеж и Ижевск.\n",
    "\n",
    "Название QC встречается 7 раз\n",
    "Название тестировщик встречается 393 раз\n",
    "Название QA встречается 675 раз\n",
    "В названиях вакансий для младших тестировщиков есть очень большой перекос в сторону QA, эта аббревиатура встречается вдвое чаще, чем \"тестировщик\", а уж частота QC вообще исчезающе мала.\n",
    "\n",
    "\"Креативные\" вакансии я определил по встречающимся в описании нестандартным словам, например -  ''футбол', 'праздник', 'крут', 'фрукт', 'поэт', 'кикер', 'велопарковк', 'плюшк' и т.д. Таких вакансий оказалось около 32%, но их доля от общего числа медленно, но верно растет - за 3 года примерно на 10%."
   ]
  },
  {
   "cell_type": "markdown",
   "metadata": {},
   "source": [
    "##### Таким образом, выпускнику QA факультета можно порекомендовать следующее:\n",
    "- Искать работу в Москве и СПБ (к сожалению, это относится к почти любой профессии в нашей стране), также можно рассмотреть Минск, но только если вы готовы туда переехать - возможность удаленной работы братья-белорусы рассматривают неохотно.\n",
    "- Если хочется попробовать найти удаленную должность, то, кроме двух столиц, можно обратить внимание на Татарстан, Н.Новгород и Новосибирск.\n",
    "- Стажировка доступна еще в Воронеже и Ижевске.\n",
    "- Для поиска работы лучшими месяцами являются июль-август-сентябрь, а это очень скоро, терять времени не следует!\n",
    "- В резюме стоит использовать QA, чтобы увеличить вероятность попадания его на глаза HR.\n",
    "\n",
    "\n",
    "Типичная вакансия  - это опыт от 3х лет, полная занятость, полный рабочий день. А самые востребованнные навыки, про которые вероятнее всего вас спросят на собеседовании - функциональное тестирование, тестирование пользовательского интерфейса, регресcионное и нагрузочное тестирование,  sql, java, atlassian jira, python, linux, git, selenium ide. \n",
    "И, конечно, английский. Если не найдете работу, по крайней мере, сможете смотреть сериалы в оригинале."
   ]
  }
 ],
 "metadata": {
  "hide_input": false,
  "kernelspec": {
   "display_name": "Python 3",
   "language": "python",
   "name": "python3"
  },
  "language_info": {
   "codemirror_mode": {
    "name": "ipython",
    "version": 3
   },
   "file_extension": ".py",
   "mimetype": "text/x-python",
   "name": "python",
   "nbconvert_exporter": "python",
   "pygments_lexer": "ipython3",
   "version": "3.7.4"
  }
 },
 "nbformat": 4,
 "nbformat_minor": 4
}
