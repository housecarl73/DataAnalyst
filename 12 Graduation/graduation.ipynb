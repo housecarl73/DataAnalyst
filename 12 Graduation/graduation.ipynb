{
 "cells": [
  {
   "cell_type": "markdown",
   "metadata": {},
   "source": [
    "## Мобильные приложения — Выделение групп пользователей на основе поведения"
   ]
  },
  {
   "cell_type": "markdown",
   "metadata": {},
   "source": [
    "Выделить различающиеся по продуктовым метрикам группы пользователей на основе событий, которые они выполняют в мобильном приложении.\n",
    "\n",
    "- Провести исследовательский анализ данных\n",
    "- Сегментировать пользователей на основе событий\n",
    "- Проверить статистические гипотезы\n",
    "\n",
    "    *Проверить гипотезу различия конверсии в просмотры контактов между теми пользователями, которые совершили установку приложения, прийдя с источника `yandex` и пользователя, совершившими установки, из источника `google`*\n",
    "\n",
    "    *Сформулировать и проверить статистическую гипотезу относительно представленных данных*"
   ]
  },
  {
   "cell_type": "markdown",
   "metadata": {},
   "source": [
    "### **Описание данных:**\n",
    "\n",
    "Датасет содержит данные о событиях, совершенных в мобильном приложении \"Ненужные вещи\". В нем пользователи продают свои ненужные вещи, размещая их на доске объявлений.\n",
    "\n",
    "В датасете содержатся данные пользователей, впервые совершивших действия в приложении после 7 октября 2019 года.\n",
    "\n",
    "Датасет **mobile_dataset.csv** содержит колонки:\n",
    "- `event.time` — время совершения\n",
    "- `event.name` — название события\n",
    "- `user.id` — идентификатор пользователя\n",
    "\n",
    "Датасет **mobile_sources.csv** содержит колонки:\n",
    "- `userId` — идентификатор пользователя\n",
    "- `source` — источник, с которого пользователь установил приложение\n",
    "\n",
    "Расшифровки событий:\n",
    "- `advert_open` — открытие карточки объявления\n",
    "- `photos_show` — просмотр фотографий в объявлении\n",
    "- `tips_show` — пользователь увидел рекомендованные объявления\n",
    "- `tips_click` — пользователь кликнул по рекомендованному объявлению\n",
    "- `contacts_show` и `show_contacts` — пользователь нажал на кнопку \"посмотреть номер телефона\" на карточке объявления\n",
    "- `contacts_call` — пользователь позвонил по номеру телефона на карточке объявления\n",
    "- `map` — пользователь открыл карту размещенных объявлений\n",
    "- `search_1` — `search_7` — разные события, связанные с поиском по сайту\n",
    "- `favorites_add` — добавление объявления в избранное"
   ]
  },
  {
   "cell_type": "markdown",
   "metadata": {},
   "source": [
    "## План работы над проектом\n",
    "\n",
    "#### Предварительный анализ данных\n",
    "- Провести предобработку данных.\n",
    "- Провести исследовательский анализ данных.\n",
    "- Провести расчет новых признаков - продуктовых метрик для каждого клиента:\n",
    "    - retention rate\n",
    "    - время в приложении\n",
    "    - частота совершения событий \n",
    "    - конверсия в целевое действие `contacts_show`\n",
    "- EDA. Провести анализ качества признаков (отсутствующие признаки, средние значения и стандартные отклонения).\n",
    "- EDA. Сформулировать предварительные гипотезы на основе результата анализа признаков (построение столбчатых гистограмм и распределения признаков, построение матрицы корреляции для признаков).\n",
    "- Провести стандартизацию данных.\n",
    "#### Выделение групп пользователей\n",
    "- Построенить матрицу расстояний на стандартизованной матрице признаков и отрисовать дендрограмму\n",
    "- Определить числа кластеров на основе дендрограммы.\n",
    "- Выбрать и обучить модель кластеризации, спрогнозировать кластеров клиентов.\n",
    "- Проанализироавть средних значений признаков для кластеров.\n",
    "- Проанализироавть распределения признаков по кластерам.\n",
    "- Проанализироавть распределения целевой переменной по кластерам.\n",
    "#### Подведение итогов и представление результатов. \n",
    "- Сформулировать выводы о поведении пользователей из разных групп.\n",
    "- Построить дашборд в Tableau\n",
    "#### Проверка статистических гипотез\n",
    "- Проверить гипотезу различия конверсии в просмотры контактов между теми пользователями, которые совершили установку приложения, прийдя с источника yandex и пользователя, совершившими установки, из источника google"
   ]
  },
  {
   "cell_type": "code",
   "execution_count": 1,
   "metadata": {},
   "outputs": [],
   "source": [
    "import pandas as pd\n",
    "import datetime as dt\n",
    "import numpy as np\n",
    "import math as mth\n",
    "import scipy.stats as stats\n",
    "\n",
    "import seaborn as sns\n",
    "import matplotlib.pyplot as plt\n",
    "from sklearn.model_selection import train_test_split\n",
    "from sklearn.linear_model import LogisticRegression\n",
    "from sklearn.ensemble import RandomForestClassifier\n",
    "from sklearn.metrics import confusion_matrix\n",
    "from sklearn.metrics import accuracy_score, precision_score, recall_score, f1_score\n",
    "from sklearn.preprocessing import StandardScaler\n",
    "from scipy.cluster.hierarchy import dendrogram, linkage\n",
    "from sklearn.cluster import KMeans\n",
    "from matplotlib import pyplot\n",
    "from matplotlib import rcParams"
   ]
  },
  {
   "cell_type": "code",
   "execution_count": 2,
   "metadata": {},
   "outputs": [],
   "source": [
    "import warnings\n",
    "warnings.filterwarnings('ignore')"
   ]
  },
  {
   "cell_type": "markdown",
   "metadata": {},
   "source": [
    "## Предварительный анализ данных"
   ]
  },
  {
   "cell_type": "markdown",
   "metadata": {},
   "source": [
    "### Предобработка данных"
   ]
  },
  {
   "cell_type": "code",
   "execution_count": 3,
   "metadata": {},
   "outputs": [
    {
     "data": {
      "text/html": [
       "<div>\n",
       "<style scoped>\n",
       "    .dataframe tbody tr th:only-of-type {\n",
       "        vertical-align: middle;\n",
       "    }\n",
       "\n",
       "    .dataframe tbody tr th {\n",
       "        vertical-align: top;\n",
       "    }\n",
       "\n",
       "    .dataframe thead th {\n",
       "        text-align: right;\n",
       "    }\n",
       "</style>\n",
       "<table border=\"1\" class=\"dataframe\">\n",
       "  <thead>\n",
       "    <tr style=\"text-align: right;\">\n",
       "      <th></th>\n",
       "      <th>event.time</th>\n",
       "      <th>event.name</th>\n",
       "      <th>user.id</th>\n",
       "    </tr>\n",
       "  </thead>\n",
       "  <tbody>\n",
       "    <tr>\n",
       "      <td>0</td>\n",
       "      <td>2019-10-07 00:00:00.431357</td>\n",
       "      <td>advert_open</td>\n",
       "      <td>020292ab-89bc-4156-9acf-68bc2783f894</td>\n",
       "    </tr>\n",
       "    <tr>\n",
       "      <td>1</td>\n",
       "      <td>2019-10-07 00:00:01.236320</td>\n",
       "      <td>tips_show</td>\n",
       "      <td>020292ab-89bc-4156-9acf-68bc2783f894</td>\n",
       "    </tr>\n",
       "    <tr>\n",
       "      <td>2</td>\n",
       "      <td>2019-10-07 00:00:02.245341</td>\n",
       "      <td>tips_show</td>\n",
       "      <td>cf7eda61-9349-469f-ac27-e5b6f5ec475c</td>\n",
       "    </tr>\n",
       "  </tbody>\n",
       "</table>\n",
       "</div>"
      ],
      "text/plain": [
       "                   event.time   event.name  \\\n",
       "0  2019-10-07 00:00:00.431357  advert_open   \n",
       "1  2019-10-07 00:00:01.236320    tips_show   \n",
       "2  2019-10-07 00:00:02.245341    tips_show   \n",
       "\n",
       "                                user.id  \n",
       "0  020292ab-89bc-4156-9acf-68bc2783f894  \n",
       "1  020292ab-89bc-4156-9acf-68bc2783f894  \n",
       "2  cf7eda61-9349-469f-ac27-e5b6f5ec475c  "
      ]
     },
     "execution_count": 3,
     "metadata": {},
     "output_type": "execute_result"
    }
   ],
   "source": [
    "events = pd.read_csv('mobile_dataset.csv')\n",
    "users = pd.read_csv('mobile_soures.csv')\n",
    "events.head(3)"
   ]
  },
  {
   "cell_type": "code",
   "execution_count": 4,
   "metadata": {},
   "outputs": [
    {
     "name": "stdout",
     "output_type": "stream",
     "text": [
      "<class 'pandas.core.frame.DataFrame'>\n",
      "RangeIndex: 74197 entries, 0 to 74196\n",
      "Data columns (total 3 columns):\n",
      "event.time    74197 non-null object\n",
      "event.name    74197 non-null object\n",
      "user.id       74197 non-null object\n",
      "dtypes: object(3)\n",
      "memory usage: 1.7+ MB\n"
     ]
    }
   ],
   "source": [
    "events.info()"
   ]
  },
  {
   "cell_type": "markdown",
   "metadata": {},
   "source": [
    "##### в таблице   событий пропусков нет, дубликатов нет. Столбец с временем события нужно преобразовать к типу datetime. Имена столбцов в обеих таблицах приведем к привычному виду - только строчные буквы и подчеркивания вместо точек"
   ]
  },
  {
   "cell_type": "code",
   "execution_count": 5,
   "metadata": {},
   "outputs": [],
   "source": [
    "events = events.rename(columns={'event.time':'event_time','event.name':'event_name', 'user.id':'user_id'})\n",
    "events['event_time'] = events['event_time'].map(lambda x: dt.datetime.strptime(x, '%Y-%m-%d %H:%M:%S.%f'))"
   ]
  },
  {
   "cell_type": "code",
   "execution_count": 6,
   "metadata": {},
   "outputs": [
    {
     "data": {
      "text/html": [
       "<div>\n",
       "<style scoped>\n",
       "    .dataframe tbody tr th:only-of-type {\n",
       "        vertical-align: middle;\n",
       "    }\n",
       "\n",
       "    .dataframe tbody tr th {\n",
       "        vertical-align: top;\n",
       "    }\n",
       "\n",
       "    .dataframe thead th {\n",
       "        text-align: right;\n",
       "    }\n",
       "</style>\n",
       "<table border=\"1\" class=\"dataframe\">\n",
       "  <thead>\n",
       "    <tr style=\"text-align: right;\">\n",
       "      <th></th>\n",
       "      <th>event_time</th>\n",
       "      <th>event_name</th>\n",
       "      <th>user_id</th>\n",
       "      <th>event_hour</th>\n",
       "      <th>event_day</th>\n",
       "      <th>week</th>\n",
       "    </tr>\n",
       "  </thead>\n",
       "  <tbody>\n",
       "    <tr>\n",
       "      <td>0</td>\n",
       "      <td>2019-10-07 00:00:00.431357</td>\n",
       "      <td>advert_open</td>\n",
       "      <td>020292ab-89bc-4156-9acf-68bc2783f894</td>\n",
       "      <td>0</td>\n",
       "      <td>2019-10-07</td>\n",
       "      <td>41</td>\n",
       "    </tr>\n",
       "    <tr>\n",
       "      <td>1</td>\n",
       "      <td>2019-10-07 00:00:01.236320</td>\n",
       "      <td>tips_show</td>\n",
       "      <td>020292ab-89bc-4156-9acf-68bc2783f894</td>\n",
       "      <td>0</td>\n",
       "      <td>2019-10-07</td>\n",
       "      <td>41</td>\n",
       "    </tr>\n",
       "    <tr>\n",
       "      <td>2</td>\n",
       "      <td>2019-10-07 00:00:02.245341</td>\n",
       "      <td>tips_show</td>\n",
       "      <td>cf7eda61-9349-469f-ac27-e5b6f5ec475c</td>\n",
       "      <td>0</td>\n",
       "      <td>2019-10-07</td>\n",
       "      <td>41</td>\n",
       "    </tr>\n",
       "  </tbody>\n",
       "</table>\n",
       "</div>"
      ],
      "text/plain": [
       "                  event_time   event_name  \\\n",
       "0 2019-10-07 00:00:00.431357  advert_open   \n",
       "1 2019-10-07 00:00:01.236320    tips_show   \n",
       "2 2019-10-07 00:00:02.245341    tips_show   \n",
       "\n",
       "                                user_id  event_hour  event_day  week  \n",
       "0  020292ab-89bc-4156-9acf-68bc2783f894           0 2019-10-07    41  \n",
       "1  020292ab-89bc-4156-9acf-68bc2783f894           0 2019-10-07    41  \n",
       "2  cf7eda61-9349-469f-ac27-e5b6f5ec475c           0 2019-10-07    41  "
      ]
     },
     "execution_count": 6,
     "metadata": {},
     "output_type": "execute_result"
    }
   ],
   "source": [
    "# выделим день, час и неделю в отдельные столбцы\n",
    "#events['event_hour'] = events['event_time'].time()\n",
    "events['event_hour'] = events['event_time'].dt.hour\n",
    "events['event_day'] = events['event_time'].astype('datetime64[D]')\n",
    "events['week'] = events['event_time'].dt.week\n",
    "\n",
    "events.head(3)"
   ]
  },
  {
   "cell_type": "code",
   "execution_count": 7,
   "metadata": {},
   "outputs": [
    {
     "data": {
      "text/plain": [
       "0"
      ]
     },
     "execution_count": 7,
     "metadata": {},
     "output_type": "execute_result"
    }
   ],
   "source": [
    "users.duplicated().sum()"
   ]
  },
  {
   "cell_type": "code",
   "execution_count": 8,
   "metadata": {},
   "outputs": [
    {
     "data": {
      "text/html": [
       "<div>\n",
       "<style scoped>\n",
       "    .dataframe tbody tr th:only-of-type {\n",
       "        vertical-align: middle;\n",
       "    }\n",
       "\n",
       "    .dataframe tbody tr th {\n",
       "        vertical-align: top;\n",
       "    }\n",
       "\n",
       "    .dataframe thead th {\n",
       "        text-align: right;\n",
       "    }\n",
       "</style>\n",
       "<table border=\"1\" class=\"dataframe\">\n",
       "  <thead>\n",
       "    <tr style=\"text-align: right;\">\n",
       "      <th></th>\n",
       "      <th>user_id</th>\n",
       "      <th>source</th>\n",
       "    </tr>\n",
       "  </thead>\n",
       "  <tbody>\n",
       "    <tr>\n",
       "      <td>0</td>\n",
       "      <td>020292ab-89bc-4156-9acf-68bc2783f894</td>\n",
       "      <td>other</td>\n",
       "    </tr>\n",
       "    <tr>\n",
       "      <td>1</td>\n",
       "      <td>cf7eda61-9349-469f-ac27-e5b6f5ec475c</td>\n",
       "      <td>yandex</td>\n",
       "    </tr>\n",
       "    <tr>\n",
       "      <td>2</td>\n",
       "      <td>8c356c42-3ba9-4cb6-80b8-3f868d0192c3</td>\n",
       "      <td>yandex</td>\n",
       "    </tr>\n",
       "  </tbody>\n",
       "</table>\n",
       "</div>"
      ],
      "text/plain": [
       "                                user_id  source\n",
       "0  020292ab-89bc-4156-9acf-68bc2783f894   other\n",
       "1  cf7eda61-9349-469f-ac27-e5b6f5ec475c  yandex\n",
       "2  8c356c42-3ba9-4cb6-80b8-3f868d0192c3  yandex"
      ]
     },
     "execution_count": 8,
     "metadata": {},
     "output_type": "execute_result"
    }
   ],
   "source": [
    "users = users.rename(columns={'userId':'user_id'})\n",
    "users.head(3)"
   ]
  },
  {
   "cell_type": "markdown",
   "metadata": {},
   "source": [
    "##### В таблице с пользователями также нет пропусков и дубликатов"
   ]
  },
  {
   "cell_type": "markdown",
   "metadata": {},
   "source": [
    "### Исследовательский анализ данных"
   ]
  },
  {
   "cell_type": "code",
   "execution_count": 9,
   "metadata": {},
   "outputs": [
    {
     "data": {
      "text/plain": [
       "4293"
      ]
     },
     "execution_count": 9,
     "metadata": {},
     "output_type": "execute_result"
    }
   ],
   "source": [
    "# общее количество пользователей\n",
    "users['user_id'].nunique()"
   ]
  },
  {
   "cell_type": "code",
   "execution_count": 10,
   "metadata": {},
   "outputs": [
    {
     "data": {
      "text/html": [
       "<div>\n",
       "<style scoped>\n",
       "    .dataframe tbody tr th:only-of-type {\n",
       "        vertical-align: middle;\n",
       "    }\n",
       "\n",
       "    .dataframe tbody tr th {\n",
       "        vertical-align: top;\n",
       "    }\n",
       "\n",
       "    .dataframe thead th {\n",
       "        text-align: right;\n",
       "    }\n",
       "</style>\n",
       "<table border=\"1\" class=\"dataframe\">\n",
       "  <thead>\n",
       "    <tr style=\"text-align: right;\">\n",
       "      <th></th>\n",
       "      <th>user_id</th>\n",
       "    </tr>\n",
       "    <tr>\n",
       "      <th>source</th>\n",
       "      <th></th>\n",
       "    </tr>\n",
       "  </thead>\n",
       "  <tbody>\n",
       "    <tr>\n",
       "      <td>yandex</td>\n",
       "      <td>1934</td>\n",
       "    </tr>\n",
       "    <tr>\n",
       "      <td>other</td>\n",
       "      <td>1230</td>\n",
       "    </tr>\n",
       "    <tr>\n",
       "      <td>google</td>\n",
       "      <td>1129</td>\n",
       "    </tr>\n",
       "  </tbody>\n",
       "</table>\n",
       "</div>"
      ],
      "text/plain": [
       "        user_id\n",
       "source         \n",
       "yandex     1934\n",
       "other      1230\n",
       "google     1129"
      ]
     },
     "execution_count": 10,
     "metadata": {},
     "output_type": "execute_result"
    }
   ],
   "source": [
    "#Какие есть источники пользователей и сколько они нам приносят?\n",
    "users.groupby('source').count().sort_values('user_id', ascending=False)"
   ]
  },
  {
   "cell_type": "markdown",
   "metadata": {},
   "source": [
    "##### Яндекс впереди на 50% по сравнению с гуглом и всеми остальными и принес 45% пользователей из всех."
   ]
  },
  {
   "cell_type": "code",
   "execution_count": 11,
   "metadata": {},
   "outputs": [
    {
     "data": {
      "text/html": [
       "<div>\n",
       "<style scoped>\n",
       "    .dataframe tbody tr th:only-of-type {\n",
       "        vertical-align: middle;\n",
       "    }\n",
       "\n",
       "    .dataframe tbody tr th {\n",
       "        vertical-align: top;\n",
       "    }\n",
       "\n",
       "    .dataframe thead th {\n",
       "        text-align: right;\n",
       "    }\n",
       "</style>\n",
       "<table border=\"1\" class=\"dataframe\">\n",
       "  <thead>\n",
       "    <tr style=\"text-align: right;\">\n",
       "      <th></th>\n",
       "      <th>event_time</th>\n",
       "      <th>user_id</th>\n",
       "      <th>event_hour</th>\n",
       "      <th>event_day</th>\n",
       "      <th>week</th>\n",
       "    </tr>\n",
       "    <tr>\n",
       "      <th>event_name</th>\n",
       "      <th></th>\n",
       "      <th></th>\n",
       "      <th></th>\n",
       "      <th></th>\n",
       "      <th></th>\n",
       "    </tr>\n",
       "  </thead>\n",
       "  <tbody>\n",
       "    <tr>\n",
       "      <td>tips_show</td>\n",
       "      <td>40055</td>\n",
       "      <td>40055</td>\n",
       "      <td>40055</td>\n",
       "      <td>40055</td>\n",
       "      <td>40055</td>\n",
       "    </tr>\n",
       "    <tr>\n",
       "      <td>photos_show</td>\n",
       "      <td>10012</td>\n",
       "      <td>10012</td>\n",
       "      <td>10012</td>\n",
       "      <td>10012</td>\n",
       "      <td>10012</td>\n",
       "    </tr>\n",
       "    <tr>\n",
       "      <td>advert_open</td>\n",
       "      <td>6164</td>\n",
       "      <td>6164</td>\n",
       "      <td>6164</td>\n",
       "      <td>6164</td>\n",
       "      <td>6164</td>\n",
       "    </tr>\n",
       "    <tr>\n",
       "      <td>contacts_show</td>\n",
       "      <td>4450</td>\n",
       "      <td>4450</td>\n",
       "      <td>4450</td>\n",
       "      <td>4450</td>\n",
       "      <td>4450</td>\n",
       "    </tr>\n",
       "    <tr>\n",
       "      <td>map</td>\n",
       "      <td>3881</td>\n",
       "      <td>3881</td>\n",
       "      <td>3881</td>\n",
       "      <td>3881</td>\n",
       "      <td>3881</td>\n",
       "    </tr>\n",
       "    <tr>\n",
       "      <td>search_1</td>\n",
       "      <td>3506</td>\n",
       "      <td>3506</td>\n",
       "      <td>3506</td>\n",
       "      <td>3506</td>\n",
       "      <td>3506</td>\n",
       "    </tr>\n",
       "    <tr>\n",
       "      <td>favorites_add</td>\n",
       "      <td>1417</td>\n",
       "      <td>1417</td>\n",
       "      <td>1417</td>\n",
       "      <td>1417</td>\n",
       "      <td>1417</td>\n",
       "    </tr>\n",
       "    <tr>\n",
       "      <td>search_5</td>\n",
       "      <td>1049</td>\n",
       "      <td>1049</td>\n",
       "      <td>1049</td>\n",
       "      <td>1049</td>\n",
       "      <td>1049</td>\n",
       "    </tr>\n",
       "    <tr>\n",
       "      <td>tips_click</td>\n",
       "      <td>814</td>\n",
       "      <td>814</td>\n",
       "      <td>814</td>\n",
       "      <td>814</td>\n",
       "      <td>814</td>\n",
       "    </tr>\n",
       "    <tr>\n",
       "      <td>search_4</td>\n",
       "      <td>701</td>\n",
       "      <td>701</td>\n",
       "      <td>701</td>\n",
       "      <td>701</td>\n",
       "      <td>701</td>\n",
       "    </tr>\n",
       "    <tr>\n",
       "      <td>contacts_call</td>\n",
       "      <td>541</td>\n",
       "      <td>541</td>\n",
       "      <td>541</td>\n",
       "      <td>541</td>\n",
       "      <td>541</td>\n",
       "    </tr>\n",
       "    <tr>\n",
       "      <td>search_3</td>\n",
       "      <td>522</td>\n",
       "      <td>522</td>\n",
       "      <td>522</td>\n",
       "      <td>522</td>\n",
       "      <td>522</td>\n",
       "    </tr>\n",
       "    <tr>\n",
       "      <td>search_6</td>\n",
       "      <td>460</td>\n",
       "      <td>460</td>\n",
       "      <td>460</td>\n",
       "      <td>460</td>\n",
       "      <td>460</td>\n",
       "    </tr>\n",
       "    <tr>\n",
       "      <td>search_2</td>\n",
       "      <td>324</td>\n",
       "      <td>324</td>\n",
       "      <td>324</td>\n",
       "      <td>324</td>\n",
       "      <td>324</td>\n",
       "    </tr>\n",
       "    <tr>\n",
       "      <td>search_7</td>\n",
       "      <td>222</td>\n",
       "      <td>222</td>\n",
       "      <td>222</td>\n",
       "      <td>222</td>\n",
       "      <td>222</td>\n",
       "    </tr>\n",
       "    <tr>\n",
       "      <td>show_contacts</td>\n",
       "      <td>79</td>\n",
       "      <td>79</td>\n",
       "      <td>79</td>\n",
       "      <td>79</td>\n",
       "      <td>79</td>\n",
       "    </tr>\n",
       "  </tbody>\n",
       "</table>\n",
       "</div>"
      ],
      "text/plain": [
       "               event_time  user_id  event_hour  event_day   week\n",
       "event_name                                                      \n",
       "tips_show           40055    40055       40055      40055  40055\n",
       "photos_show         10012    10012       10012      10012  10012\n",
       "advert_open          6164     6164        6164       6164   6164\n",
       "contacts_show        4450     4450        4450       4450   4450\n",
       "map                  3881     3881        3881       3881   3881\n",
       "search_1             3506     3506        3506       3506   3506\n",
       "favorites_add        1417     1417        1417       1417   1417\n",
       "search_5             1049     1049        1049       1049   1049\n",
       "tips_click            814      814         814        814    814\n",
       "search_4              701      701         701        701    701\n",
       "contacts_call         541      541         541        541    541\n",
       "search_3              522      522         522        522    522\n",
       "search_6              460      460         460        460    460\n",
       "search_2              324      324         324        324    324\n",
       "search_7              222      222         222        222    222\n",
       "show_contacts          79       79          79         79     79"
      ]
     },
     "execution_count": 11,
     "metadata": {},
     "output_type": "execute_result"
    }
   ],
   "source": [
    "#Количество разных событий \n",
    "events.groupby('event_name').count().sort_values('user_id', ascending=False)"
   ]
  },
  {
   "cell_type": "code",
   "execution_count": 12,
   "metadata": {},
   "outputs": [],
   "source": [
    "# из условий задания знаем, что show_contacts это то же самое, что и contacts_show. Переприсвоим.\n",
    "events.loc[events['event_name']=='show_contacts', 'event_name'] = 'contacts_show'"
   ]
  },
  {
   "cell_type": "code",
   "execution_count": 13,
   "metadata": {
    "scrolled": true
   },
   "outputs": [
    {
     "data": {
      "text/html": [
       "<div>\n",
       "<style scoped>\n",
       "    .dataframe tbody tr th:only-of-type {\n",
       "        vertical-align: middle;\n",
       "    }\n",
       "\n",
       "    .dataframe tbody tr th {\n",
       "        vertical-align: top;\n",
       "    }\n",
       "\n",
       "    .dataframe thead th {\n",
       "        text-align: right;\n",
       "    }\n",
       "</style>\n",
       "<table border=\"1\" class=\"dataframe\">\n",
       "  <thead>\n",
       "    <tr style=\"text-align: right;\">\n",
       "      <th></th>\n",
       "      <th>event_time</th>\n",
       "      <th>user_id</th>\n",
       "      <th>event_hour</th>\n",
       "      <th>event_day</th>\n",
       "      <th>week</th>\n",
       "    </tr>\n",
       "    <tr>\n",
       "      <th>event_name</th>\n",
       "      <th></th>\n",
       "      <th></th>\n",
       "      <th></th>\n",
       "      <th></th>\n",
       "      <th></th>\n",
       "    </tr>\n",
       "  </thead>\n",
       "  <tbody>\n",
       "    <tr>\n",
       "      <td>tips_show</td>\n",
       "      <td>40055</td>\n",
       "      <td>40055</td>\n",
       "      <td>40055</td>\n",
       "      <td>40055</td>\n",
       "      <td>40055</td>\n",
       "    </tr>\n",
       "    <tr>\n",
       "      <td>photos_show</td>\n",
       "      <td>10012</td>\n",
       "      <td>10012</td>\n",
       "      <td>10012</td>\n",
       "      <td>10012</td>\n",
       "      <td>10012</td>\n",
       "    </tr>\n",
       "    <tr>\n",
       "      <td>advert_open</td>\n",
       "      <td>6164</td>\n",
       "      <td>6164</td>\n",
       "      <td>6164</td>\n",
       "      <td>6164</td>\n",
       "      <td>6164</td>\n",
       "    </tr>\n",
       "    <tr>\n",
       "      <td>contacts_show</td>\n",
       "      <td>4529</td>\n",
       "      <td>4529</td>\n",
       "      <td>4529</td>\n",
       "      <td>4529</td>\n",
       "      <td>4529</td>\n",
       "    </tr>\n",
       "    <tr>\n",
       "      <td>map</td>\n",
       "      <td>3881</td>\n",
       "      <td>3881</td>\n",
       "      <td>3881</td>\n",
       "      <td>3881</td>\n",
       "      <td>3881</td>\n",
       "    </tr>\n",
       "    <tr>\n",
       "      <td>search_1</td>\n",
       "      <td>3506</td>\n",
       "      <td>3506</td>\n",
       "      <td>3506</td>\n",
       "      <td>3506</td>\n",
       "      <td>3506</td>\n",
       "    </tr>\n",
       "    <tr>\n",
       "      <td>favorites_add</td>\n",
       "      <td>1417</td>\n",
       "      <td>1417</td>\n",
       "      <td>1417</td>\n",
       "      <td>1417</td>\n",
       "      <td>1417</td>\n",
       "    </tr>\n",
       "    <tr>\n",
       "      <td>search_5</td>\n",
       "      <td>1049</td>\n",
       "      <td>1049</td>\n",
       "      <td>1049</td>\n",
       "      <td>1049</td>\n",
       "      <td>1049</td>\n",
       "    </tr>\n",
       "    <tr>\n",
       "      <td>tips_click</td>\n",
       "      <td>814</td>\n",
       "      <td>814</td>\n",
       "      <td>814</td>\n",
       "      <td>814</td>\n",
       "      <td>814</td>\n",
       "    </tr>\n",
       "    <tr>\n",
       "      <td>search_4</td>\n",
       "      <td>701</td>\n",
       "      <td>701</td>\n",
       "      <td>701</td>\n",
       "      <td>701</td>\n",
       "      <td>701</td>\n",
       "    </tr>\n",
       "    <tr>\n",
       "      <td>contacts_call</td>\n",
       "      <td>541</td>\n",
       "      <td>541</td>\n",
       "      <td>541</td>\n",
       "      <td>541</td>\n",
       "      <td>541</td>\n",
       "    </tr>\n",
       "    <tr>\n",
       "      <td>search_3</td>\n",
       "      <td>522</td>\n",
       "      <td>522</td>\n",
       "      <td>522</td>\n",
       "      <td>522</td>\n",
       "      <td>522</td>\n",
       "    </tr>\n",
       "    <tr>\n",
       "      <td>search_6</td>\n",
       "      <td>460</td>\n",
       "      <td>460</td>\n",
       "      <td>460</td>\n",
       "      <td>460</td>\n",
       "      <td>460</td>\n",
       "    </tr>\n",
       "    <tr>\n",
       "      <td>search_2</td>\n",
       "      <td>324</td>\n",
       "      <td>324</td>\n",
       "      <td>324</td>\n",
       "      <td>324</td>\n",
       "      <td>324</td>\n",
       "    </tr>\n",
       "    <tr>\n",
       "      <td>search_7</td>\n",
       "      <td>222</td>\n",
       "      <td>222</td>\n",
       "      <td>222</td>\n",
       "      <td>222</td>\n",
       "      <td>222</td>\n",
       "    </tr>\n",
       "  </tbody>\n",
       "</table>\n",
       "</div>"
      ],
      "text/plain": [
       "               event_time  user_id  event_hour  event_day   week\n",
       "event_name                                                      \n",
       "tips_show           40055    40055       40055      40055  40055\n",
       "photos_show         10012    10012       10012      10012  10012\n",
       "advert_open          6164     6164        6164       6164   6164\n",
       "contacts_show        4529     4529        4529       4529   4529\n",
       "map                  3881     3881        3881       3881   3881\n",
       "search_1             3506     3506        3506       3506   3506\n",
       "favorites_add        1417     1417        1417       1417   1417\n",
       "search_5             1049     1049        1049       1049   1049\n",
       "tips_click            814      814         814        814    814\n",
       "search_4              701      701         701        701    701\n",
       "contacts_call         541      541         541        541    541\n",
       "search_3              522      522         522        522    522\n",
       "search_6              460      460         460        460    460\n",
       "search_2              324      324         324        324    324\n",
       "search_7              222      222         222        222    222"
      ]
     },
     "execution_count": 13,
     "metadata": {},
     "output_type": "execute_result"
    }
   ],
   "source": [
    "events.groupby('event_name').count().sort_values('user_id', ascending=False)"
   ]
  },
  {
   "cell_type": "code",
   "execution_count": 14,
   "metadata": {},
   "outputs": [
    {
     "data": {
      "text/html": [
       "<div>\n",
       "<style scoped>\n",
       "    .dataframe tbody tr th:only-of-type {\n",
       "        vertical-align: middle;\n",
       "    }\n",
       "\n",
       "    .dataframe tbody tr th {\n",
       "        vertical-align: top;\n",
       "    }\n",
       "\n",
       "    .dataframe thead th {\n",
       "        text-align: right;\n",
       "    }\n",
       "</style>\n",
       "<table border=\"1\" class=\"dataframe\">\n",
       "  <thead>\n",
       "    <tr style=\"text-align: right;\">\n",
       "      <th></th>\n",
       "      <th>user_id</th>\n",
       "      <th>source</th>\n",
       "      <th>event_time</th>\n",
       "      <th>event_name</th>\n",
       "      <th>event_hour</th>\n",
       "      <th>event_day</th>\n",
       "      <th>week</th>\n",
       "    </tr>\n",
       "  </thead>\n",
       "  <tbody>\n",
       "    <tr>\n",
       "      <td>0</td>\n",
       "      <td>020292ab-89bc-4156-9acf-68bc2783f894</td>\n",
       "      <td>other</td>\n",
       "      <td>2019-10-07 00:00:00.431357</td>\n",
       "      <td>advert_open</td>\n",
       "      <td>0</td>\n",
       "      <td>2019-10-07</td>\n",
       "      <td>41</td>\n",
       "    </tr>\n",
       "    <tr>\n",
       "      <td>1</td>\n",
       "      <td>020292ab-89bc-4156-9acf-68bc2783f894</td>\n",
       "      <td>other</td>\n",
       "      <td>2019-10-07 00:00:01.236320</td>\n",
       "      <td>tips_show</td>\n",
       "      <td>0</td>\n",
       "      <td>2019-10-07</td>\n",
       "      <td>41</td>\n",
       "    </tr>\n",
       "    <tr>\n",
       "      <td>2</td>\n",
       "      <td>020292ab-89bc-4156-9acf-68bc2783f894</td>\n",
       "      <td>other</td>\n",
       "      <td>2019-10-07 00:00:07.039334</td>\n",
       "      <td>tips_show</td>\n",
       "      <td>0</td>\n",
       "      <td>2019-10-07</td>\n",
       "      <td>41</td>\n",
       "    </tr>\n",
       "  </tbody>\n",
       "</table>\n",
       "</div>"
      ],
      "text/plain": [
       "                                user_id source                 event_time  \\\n",
       "0  020292ab-89bc-4156-9acf-68bc2783f894  other 2019-10-07 00:00:00.431357   \n",
       "1  020292ab-89bc-4156-9acf-68bc2783f894  other 2019-10-07 00:00:01.236320   \n",
       "2  020292ab-89bc-4156-9acf-68bc2783f894  other 2019-10-07 00:00:07.039334   \n",
       "\n",
       "    event_name  event_hour  event_day  week  \n",
       "0  advert_open           0 2019-10-07    41  \n",
       "1    tips_show           0 2019-10-07    41  \n",
       "2    tips_show           0 2019-10-07    41  "
      ]
     },
     "execution_count": 14,
     "metadata": {},
     "output_type": "execute_result"
    }
   ],
   "source": [
    "# Объединим таблицы по столбцу user_id\n",
    "users_events = pd.merge(users, events, on='user_id')\n",
    "users_events.head(3)"
   ]
  },
  {
   "cell_type": "code",
   "execution_count": 15,
   "metadata": {},
   "outputs": [
    {
     "data": {
      "image/png": "[encoded data removed]",
      "text/plain": [
       "<Figure size 720x432 with 1 Axes>"
      ]
     },
     "metadata": {
      "needs_background": "light"
     },
     "output_type": "display_data"
    }
   ],
   "source": [
    "# распределение событий по дням\n",
    "events_by_day = users_events.groupby('event_day', as_index=False).agg({'user_id':'count'})\n",
    "\n",
    "plt.figure(figsize=(10,6))\n",
    "with plt.style.context('seaborn-paper'):\n",
    "    plt.bar(events_by_day['event_day'], events_by_day['user_id'])\n",
    "plt.xlabel('Дата')\n",
    "plt.ylabel('Количество')\n",
    "plt.title('Распределение событий по дням')\n",
    "plt.xticks(rotation=45)     \n",
    "plt.show()"
   ]
  },
  {
   "cell_type": "markdown",
   "metadata": {},
   "source": [
    "Массив данных событий распределен по времени с 07.10 по 03.11 2019 года. Практически на всем протяжении периода наблюдений наблюдается тенденция к росту количества событий в сутки (с примерно 2500 до 3200). При этом есть регулярные провалы в выходные дни - пятницы, субботы, воскресенья, что логично. Человек слаб, любит продать или купить что-нибудь в рабочее время."
   ]
  },
  {
   "cell_type": "code",
   "execution_count": 16,
   "metadata": {},
   "outputs": [
    {
     "data": {
      "text/plain": [
       "0.22851153039832284"
      ]
     },
     "execution_count": 16,
     "metadata": {},
     "output_type": "execute_result"
    }
   ],
   "source": [
    "# можем посчитать конверсию для пользователей\n",
    "users_events.query('event_name==\"contacts_show\"')['user_id'].nunique() / users['user_id'].nunique()"
   ]
  },
  {
   "cell_type": "markdown",
   "metadata": {},
   "source": [
    "### Конверсия для всего массива данных = 0,23"
   ]
  },
  {
   "cell_type": "markdown",
   "metadata": {},
   "source": [
    "### Расчет новых признаков - продуктовых метрик для каждого клиента"
   ]
  },
  {
   "cell_type": "markdown",
   "metadata": {},
   "source": [
    "#### Посчитаем время, проведенное в приложении и частоту визитов"
   ]
  },
  {
   "cell_type": "code",
   "execution_count": 17,
   "metadata": {},
   "outputs": [],
   "source": [
    "# выделяем начало и конец каждого сеанса в приложении\n",
    "user_time_min = users_events.groupby(['user_id', 'event_day', 'event_hour'], as_index=False).agg({'event_time':'min'})\n",
    "user_time_min = user_time_min.rename(columns={'event_time':'event_time_start'})\n",
    "\n",
    "user_time_max = users_events.groupby(['user_id', 'event_day', 'event_hour'], as_index=False).agg({'event_time':'max'})\n",
    "user_time_max = user_time_max.rename(columns={'event_time':'event_time_stop'})"
   ]
  },
  {
   "cell_type": "code",
   "execution_count": 18,
   "metadata": {},
   "outputs": [
    {
     "data": {
      "text/html": [
       "<div>\n",
       "<style scoped>\n",
       "    .dataframe tbody tr th:only-of-type {\n",
       "        vertical-align: middle;\n",
       "    }\n",
       "\n",
       "    .dataframe tbody tr th {\n",
       "        vertical-align: top;\n",
       "    }\n",
       "\n",
       "    .dataframe thead th {\n",
       "        text-align: right;\n",
       "    }\n",
       "</style>\n",
       "<table border=\"1\" class=\"dataframe\">\n",
       "  <thead>\n",
       "    <tr style=\"text-align: right;\">\n",
       "      <th></th>\n",
       "      <th>user_id</th>\n",
       "      <th>event_day</th>\n",
       "      <th>event_hour</th>\n",
       "      <th>event_time_start</th>\n",
       "      <th>event_time_stop</th>\n",
       "      <th>spent_time</th>\n",
       "    </tr>\n",
       "  </thead>\n",
       "  <tbody>\n",
       "    <tr>\n",
       "      <td>0</td>\n",
       "      <td>0001b1d5-b74a-4cbf-aeb0-7df5947bf349</td>\n",
       "      <td>2019-10-07</td>\n",
       "      <td>13</td>\n",
       "      <td>2019-10-07 13:39:45.989359</td>\n",
       "      <td>2019-10-07 13:49:41.716617</td>\n",
       "      <td>00:09:55.727258</td>\n",
       "    </tr>\n",
       "    <tr>\n",
       "      <td>1</td>\n",
       "      <td>0001b1d5-b74a-4cbf-aeb0-7df5947bf349</td>\n",
       "      <td>2019-10-09</td>\n",
       "      <td>18</td>\n",
       "      <td>2019-10-09 18:33:55.577963</td>\n",
       "      <td>2019-10-09 18:42:22.963948</td>\n",
       "      <td>00:08:27.385985</td>\n",
       "    </tr>\n",
       "    <tr>\n",
       "      <td>2</td>\n",
       "      <td>0001b1d5-b74a-4cbf-aeb0-7df5947bf349</td>\n",
       "      <td>2019-10-21</td>\n",
       "      <td>19</td>\n",
       "      <td>2019-10-21 19:52:30.778932</td>\n",
       "      <td>2019-10-21 19:57:49.029206</td>\n",
       "      <td>00:05:18.250274</td>\n",
       "    </tr>\n",
       "  </tbody>\n",
       "</table>\n",
       "</div>"
      ],
      "text/plain": [
       "                                user_id  event_day  event_hour  \\\n",
       "0  0001b1d5-b74a-4cbf-aeb0-7df5947bf349 2019-10-07          13   \n",
       "1  0001b1d5-b74a-4cbf-aeb0-7df5947bf349 2019-10-09          18   \n",
       "2  0001b1d5-b74a-4cbf-aeb0-7df5947bf349 2019-10-21          19   \n",
       "\n",
       "            event_time_start            event_time_stop      spent_time  \n",
       "0 2019-10-07 13:39:45.989359 2019-10-07 13:49:41.716617 00:09:55.727258  \n",
       "1 2019-10-09 18:33:55.577963 2019-10-09 18:42:22.963948 00:08:27.385985  \n",
       "2 2019-10-21 19:52:30.778932 2019-10-21 19:57:49.029206 00:05:18.250274  "
      ]
     },
     "execution_count": 18,
     "metadata": {},
     "output_type": "execute_result"
    }
   ],
   "source": [
    "# склеиваем стобцы времени начала и конца сеансов и вычитаем одно из другого\n",
    "user_time =  pd.merge(user_time_min, user_time_max, on=['user_id', 'event_day', 'event_hour'])\n",
    "user_time['spent_time'] = user_time['event_time_stop'] - user_time['event_time_start']\n",
    "user_time.head(3)"
   ]
  },
  {
   "cell_type": "code",
   "execution_count": 19,
   "metadata": {},
   "outputs": [
    {
     "data": {
      "text/html": [
       "<div>\n",
       "<style scoped>\n",
       "    .dataframe tbody tr th:only-of-type {\n",
       "        vertical-align: middle;\n",
       "    }\n",
       "\n",
       "    .dataframe tbody tr th {\n",
       "        vertical-align: top;\n",
       "    }\n",
       "\n",
       "    .dataframe thead th {\n",
       "        text-align: right;\n",
       "    }\n",
       "</style>\n",
       "<table border=\"1\" class=\"dataframe\">\n",
       "  <thead>\n",
       "    <tr style=\"text-align: right;\">\n",
       "      <th></th>\n",
       "      <th>user_id</th>\n",
       "      <th>spent_time</th>\n",
       "      <th>visits</th>\n",
       "    </tr>\n",
       "  </thead>\n",
       "  <tbody>\n",
       "    <tr>\n",
       "      <td>0</td>\n",
       "      <td>0001b1d5-b74a-4cbf-aeb0-7df5947bf349</td>\n",
       "      <td>00:43:49.147390</td>\n",
       "      <td>5</td>\n",
       "    </tr>\n",
       "    <tr>\n",
       "      <td>1</td>\n",
       "      <td>00157779-810c-4498-9e05-a1e9e3cedf93</td>\n",
       "      <td>02:57:40.663278</td>\n",
       "      <td>10</td>\n",
       "    </tr>\n",
       "    <tr>\n",
       "      <td>2</td>\n",
       "      <td>00463033-5717-4bf1-91b4-09183923b9df</td>\n",
       "      <td>00:21:14.554274</td>\n",
       "      <td>2</td>\n",
       "    </tr>\n",
       "  </tbody>\n",
       "</table>\n",
       "</div>"
      ],
      "text/plain": [
       "                                user_id      spent_time  visits\n",
       "0  0001b1d5-b74a-4cbf-aeb0-7df5947bf349 00:43:49.147390       5\n",
       "1  00157779-810c-4498-9e05-a1e9e3cedf93 02:57:40.663278      10\n",
       "2  00463033-5717-4bf1-91b4-09183923b9df 00:21:14.554274       2"
      ]
     },
     "execution_count": 19,
     "metadata": {},
     "output_type": "execute_result"
    }
   ],
   "source": [
    "# начнем формировать таблицу с признаками для будущей кластеризации - считаем общее время и число сессий\n",
    "features = user_time.groupby('user_id', as_index=False).agg({'spent_time':'sum','event_day':'count'}).rename(columns={'event_day':'visits'})\n",
    "\n",
    "features.head(3)"
   ]
  },
  {
   "cell_type": "markdown",
   "metadata": {},
   "source": [
    "#### Считаем количество целевых действий для всех пользователей"
   ]
  },
  {
   "cell_type": "code",
   "execution_count": 20,
   "metadata": {},
   "outputs": [
    {
     "data": {
      "text/html": [
       "<div>\n",
       "<style scoped>\n",
       "    .dataframe tbody tr th:only-of-type {\n",
       "        vertical-align: middle;\n",
       "    }\n",
       "\n",
       "    .dataframe tbody tr th {\n",
       "        vertical-align: top;\n",
       "    }\n",
       "\n",
       "    .dataframe thead th {\n",
       "        text-align: right;\n",
       "    }\n",
       "</style>\n",
       "<table border=\"1\" class=\"dataframe\">\n",
       "  <thead>\n",
       "    <tr style=\"text-align: right;\">\n",
       "      <th></th>\n",
       "      <th>user_id</th>\n",
       "      <th>conversions</th>\n",
       "    </tr>\n",
       "  </thead>\n",
       "  <tbody>\n",
       "    <tr>\n",
       "      <td>0</td>\n",
       "      <td>00157779-810c-4498-9e05-a1e9e3cedf93</td>\n",
       "      <td>11</td>\n",
       "    </tr>\n",
       "    <tr>\n",
       "      <td>1</td>\n",
       "      <td>00551e79-152e-4441-9cf7-565d7eb04090</td>\n",
       "      <td>3</td>\n",
       "    </tr>\n",
       "    <tr>\n",
       "      <td>2</td>\n",
       "      <td>005fbea5-2678-406f-88a6-fbe9787e2268</td>\n",
       "      <td>3</td>\n",
       "    </tr>\n",
       "  </tbody>\n",
       "</table>\n",
       "</div>"
      ],
      "text/plain": [
       "                                user_id  conversions\n",
       "0  00157779-810c-4498-9e05-a1e9e3cedf93           11\n",
       "1  00551e79-152e-4441-9cf7-565d7eb04090            3\n",
       "2  005fbea5-2678-406f-88a6-fbe9787e2268            3"
      ]
     },
     "execution_count": 20,
     "metadata": {},
     "output_type": "execute_result"
    }
   ],
   "source": [
    "# пользователи, совершившие целевое действие (и сколько раз)\n",
    "conversion = users_events.query('event_name==\"contacts_show\"').groupby('user_id', as_index=False).agg({'event_name':'count'})\n",
    "conversion = conversion.rename(columns={'event_name':'conversions'})\n",
    "conversion.head(3)"
   ]
  },
  {
   "cell_type": "code",
   "execution_count": 21,
   "metadata": {},
   "outputs": [
    {
     "data": {
      "text/html": [
       "<div>\n",
       "<style scoped>\n",
       "    .dataframe tbody tr th:only-of-type {\n",
       "        vertical-align: middle;\n",
       "    }\n",
       "\n",
       "    .dataframe tbody tr th {\n",
       "        vertical-align: top;\n",
       "    }\n",
       "\n",
       "    .dataframe thead th {\n",
       "        text-align: right;\n",
       "    }\n",
       "</style>\n",
       "<table border=\"1\" class=\"dataframe\">\n",
       "  <thead>\n",
       "    <tr style=\"text-align: right;\">\n",
       "      <th></th>\n",
       "      <th>user_id</th>\n",
       "      <th>spent_time</th>\n",
       "      <th>visits</th>\n",
       "      <th>conversions</th>\n",
       "    </tr>\n",
       "  </thead>\n",
       "  <tbody>\n",
       "    <tr>\n",
       "      <td>0</td>\n",
       "      <td>0001b1d5-b74a-4cbf-aeb0-7df5947bf349</td>\n",
       "      <td>00:43:49.147390</td>\n",
       "      <td>5</td>\n",
       "      <td>NaN</td>\n",
       "    </tr>\n",
       "    <tr>\n",
       "      <td>1</td>\n",
       "      <td>00157779-810c-4498-9e05-a1e9e3cedf93</td>\n",
       "      <td>02:57:40.663278</td>\n",
       "      <td>10</td>\n",
       "      <td>11.0</td>\n",
       "    </tr>\n",
       "    <tr>\n",
       "      <td>2</td>\n",
       "      <td>00463033-5717-4bf1-91b4-09183923b9df</td>\n",
       "      <td>00:21:14.554274</td>\n",
       "      <td>2</td>\n",
       "      <td>NaN</td>\n",
       "    </tr>\n",
       "  </tbody>\n",
       "</table>\n",
       "</div>"
      ],
      "text/plain": [
       "                                user_id      spent_time  visits  conversions\n",
       "0  0001b1d5-b74a-4cbf-aeb0-7df5947bf349 00:43:49.147390       5          NaN\n",
       "1  00157779-810c-4498-9e05-a1e9e3cedf93 02:57:40.663278      10         11.0\n",
       "2  00463033-5717-4bf1-91b4-09183923b9df 00:21:14.554274       2          NaN"
      ]
     },
     "execution_count": 21,
     "metadata": {},
     "output_type": "execute_result"
    }
   ],
   "source": [
    "# добавляем этот столбец в таблицу признаков\n",
    "features = pd.merge(features, conversion, on=['user_id', ], how='left')\n",
    "features.head(3)"
   ]
  },
  {
   "cell_type": "code",
   "execution_count": 22,
   "metadata": {
    "scrolled": true
   },
   "outputs": [
    {
     "data": {
      "text/html": [
       "<div>\n",
       "<style scoped>\n",
       "    .dataframe tbody tr th:only-of-type {\n",
       "        vertical-align: middle;\n",
       "    }\n",
       "\n",
       "    .dataframe tbody tr th {\n",
       "        vertical-align: top;\n",
       "    }\n",
       "\n",
       "    .dataframe thead th {\n",
       "        text-align: right;\n",
       "    }\n",
       "</style>\n",
       "<table border=\"1\" class=\"dataframe\">\n",
       "  <thead>\n",
       "    <tr style=\"text-align: right;\">\n",
       "      <th></th>\n",
       "      <th>user_id</th>\n",
       "      <th>spent_time</th>\n",
       "      <th>visits</th>\n",
       "      <th>conversions</th>\n",
       "    </tr>\n",
       "  </thead>\n",
       "  <tbody>\n",
       "    <tr>\n",
       "      <td>0</td>\n",
       "      <td>0001b1d5-b74a-4cbf-aeb0-7df5947bf349</td>\n",
       "      <td>00:43:49.147390</td>\n",
       "      <td>5</td>\n",
       "      <td>0.0</td>\n",
       "    </tr>\n",
       "    <tr>\n",
       "      <td>1</td>\n",
       "      <td>00157779-810c-4498-9e05-a1e9e3cedf93</td>\n",
       "      <td>02:57:40.663278</td>\n",
       "      <td>10</td>\n",
       "      <td>11.0</td>\n",
       "    </tr>\n",
       "    <tr>\n",
       "      <td>2</td>\n",
       "      <td>00463033-5717-4bf1-91b4-09183923b9df</td>\n",
       "      <td>00:21:14.554274</td>\n",
       "      <td>2</td>\n",
       "      <td>0.0</td>\n",
       "    </tr>\n",
       "  </tbody>\n",
       "</table>\n",
       "</div>"
      ],
      "text/plain": [
       "                                user_id      spent_time  visits  conversions\n",
       "0  0001b1d5-b74a-4cbf-aeb0-7df5947bf349 00:43:49.147390       5          0.0\n",
       "1  00157779-810c-4498-9e05-a1e9e3cedf93 02:57:40.663278      10         11.0\n",
       "2  00463033-5717-4bf1-91b4-09183923b9df 00:21:14.554274       2          0.0"
      ]
     },
     "execution_count": 22,
     "metadata": {},
     "output_type": "execute_result"
    }
   ],
   "source": [
    "# заменяем NaN-ы нулями\n",
    "features['conversions'] = features['conversions'].fillna(0)\n",
    "features.head(3)"
   ]
  },
  {
   "cell_type": "markdown",
   "metadata": {},
   "source": [
    "##### Признак \"Пользователи, просмотревшие рекомендованные (tip_click) и добавившие в избранное (favorites_add)\", как показатель вовлеченности в использование приложения"
   ]
  },
  {
   "cell_type": "code",
   "execution_count": 23,
   "metadata": {},
   "outputs": [],
   "source": [
    "tips = users_events.query('event_name==\"tips_click\"').groupby('user_id', as_index=False).agg({'event_name':'count'})\n",
    "tips = tips.rename(columns={'event_name':'tips'})\n",
    "#tips"
   ]
  },
  {
   "cell_type": "code",
   "execution_count": 24,
   "metadata": {},
   "outputs": [],
   "source": [
    "features = pd.merge(features, tips, on=['user_id', ], how='left')\n",
    "features['tips'] = features['tips'].fillna(0)"
   ]
  },
  {
   "cell_type": "code",
   "execution_count": 25,
   "metadata": {},
   "outputs": [],
   "source": [
    "favs = users_events.query('event_name==\"favorites_add\"').groupby('user_id', as_index=False).agg({'event_name':'count'})\n",
    "favs = favs.rename(columns={'event_name':'favs'})"
   ]
  },
  {
   "cell_type": "code",
   "execution_count": 26,
   "metadata": {},
   "outputs": [],
   "source": [
    "features = pd.merge(features, favs, on=['user_id', ], how='left')\n",
    "features['favs'] = features['favs'].fillna(0)"
   ]
  },
  {
   "cell_type": "markdown",
   "metadata": {},
   "source": [
    "#### Общее время использования приложения"
   ]
  },
  {
   "cell_type": "code",
   "execution_count": 27,
   "metadata": {},
   "outputs": [],
   "source": [
    "# выделяем начало и конец каждого сеанса в приложении\n",
    "user_start_time = users_events.groupby(['user_id'], as_index=False).agg({'event_time':'min'})\n",
    "user_start_time = user_start_time.rename(columns={'event_time':'user_start_time'})\n",
    "\n",
    "user_stop_time = users_events.groupby(['user_id'], as_index=False).agg({'event_time':'max'})\n",
    "user_stop_time = user_stop_time.rename(columns={'event_time':'user_stop_time'})"
   ]
  },
  {
   "cell_type": "code",
   "execution_count": 28,
   "metadata": {},
   "outputs": [
    {
     "data": {
      "text/html": [
       "<div>\n",
       "<style scoped>\n",
       "    .dataframe tbody tr th:only-of-type {\n",
       "        vertical-align: middle;\n",
       "    }\n",
       "\n",
       "    .dataframe tbody tr th {\n",
       "        vertical-align: top;\n",
       "    }\n",
       "\n",
       "    .dataframe thead th {\n",
       "        text-align: right;\n",
       "    }\n",
       "</style>\n",
       "<table border=\"1\" class=\"dataframe\">\n",
       "  <thead>\n",
       "    <tr style=\"text-align: right;\">\n",
       "      <th></th>\n",
       "      <th>user_id</th>\n",
       "      <th>total_time_spent</th>\n",
       "    </tr>\n",
       "  </thead>\n",
       "  <tbody>\n",
       "    <tr>\n",
       "      <td>0</td>\n",
       "      <td>0001b1d5-b74a-4cbf-aeb0-7df5947bf349</td>\n",
       "      <td>21471.100000</td>\n",
       "    </tr>\n",
       "    <tr>\n",
       "      <td>1</td>\n",
       "      <td>00157779-810c-4498-9e05-a1e9e3cedf93</td>\n",
       "      <td>21337.583333</td>\n",
       "    </tr>\n",
       "    <tr>\n",
       "      <td>2</td>\n",
       "      <td>00463033-5717-4bf1-91b4-09183923b9df</td>\n",
       "      <td>24.700000</td>\n",
       "    </tr>\n",
       "  </tbody>\n",
       "</table>\n",
       "</div>"
      ],
      "text/plain": [
       "                                user_id  total_time_spent\n",
       "0  0001b1d5-b74a-4cbf-aeb0-7df5947bf349      21471.100000\n",
       "1  00157779-810c-4498-9e05-a1e9e3cedf93      21337.583333\n",
       "2  00463033-5717-4bf1-91b4-09183923b9df         24.700000"
      ]
     },
     "execution_count": 28,
     "metadata": {},
     "output_type": "execute_result"
    }
   ],
   "source": [
    "# склеиваем стобцы времени начала и конца сеансов и вычитаем одно из другого\n",
    "total_user_time =  pd.merge(user_start_time, user_stop_time, on=['user_id'])\n",
    "total_user_time['total_time_spent'] = total_user_time['user_stop_time'] - total_user_time['user_start_time']\n",
    "total_user_time = total_user_time.drop(['user_start_time', 'user_stop_time'], axis=1)\n",
    "total_user_time['total_time_spent'] = total_user_time['total_time_spent'].astype('timedelta64[s]') / 60\n",
    "total_user_time.head(3)"
   ]
  },
  {
   "cell_type": "code",
   "execution_count": 29,
   "metadata": {},
   "outputs": [
    {
     "data": {
      "text/html": [
       "<div>\n",
       "<style scoped>\n",
       "    .dataframe tbody tr th:only-of-type {\n",
       "        vertical-align: middle;\n",
       "    }\n",
       "\n",
       "    .dataframe tbody tr th {\n",
       "        vertical-align: top;\n",
       "    }\n",
       "\n",
       "    .dataframe thead th {\n",
       "        text-align: right;\n",
       "    }\n",
       "</style>\n",
       "<table border=\"1\" class=\"dataframe\">\n",
       "  <thead>\n",
       "    <tr style=\"text-align: right;\">\n",
       "      <th></th>\n",
       "      <th>user_id</th>\n",
       "      <th>spent_time</th>\n",
       "      <th>visits</th>\n",
       "      <th>conversions</th>\n",
       "      <th>tips</th>\n",
       "      <th>favs</th>\n",
       "      <th>total_time_spent</th>\n",
       "    </tr>\n",
       "  </thead>\n",
       "  <tbody>\n",
       "    <tr>\n",
       "      <td>0</td>\n",
       "      <td>0001b1d5-b74a-4cbf-aeb0-7df5947bf349</td>\n",
       "      <td>00:43:49.147390</td>\n",
       "      <td>5</td>\n",
       "      <td>0.0</td>\n",
       "      <td>0.0</td>\n",
       "      <td>0.0</td>\n",
       "      <td>21471.100000</td>\n",
       "    </tr>\n",
       "    <tr>\n",
       "      <td>1</td>\n",
       "      <td>00157779-810c-4498-9e05-a1e9e3cedf93</td>\n",
       "      <td>02:57:40.663278</td>\n",
       "      <td>10</td>\n",
       "      <td>11.0</td>\n",
       "      <td>0.0</td>\n",
       "      <td>2.0</td>\n",
       "      <td>21337.583333</td>\n",
       "    </tr>\n",
       "    <tr>\n",
       "      <td>2</td>\n",
       "      <td>00463033-5717-4bf1-91b4-09183923b9df</td>\n",
       "      <td>00:21:14.554274</td>\n",
       "      <td>2</td>\n",
       "      <td>0.0</td>\n",
       "      <td>0.0</td>\n",
       "      <td>0.0</td>\n",
       "      <td>24.700000</td>\n",
       "    </tr>\n",
       "    <tr>\n",
       "      <td>3</td>\n",
       "      <td>004690c3-5a84-4bb7-a8af-e0c8f8fca64e</td>\n",
       "      <td>01:27:33.169168</td>\n",
       "      <td>7</td>\n",
       "      <td>0.0</td>\n",
       "      <td>0.0</td>\n",
       "      <td>0.0</td>\n",
       "      <td>18688.166667</td>\n",
       "    </tr>\n",
       "    <tr>\n",
       "      <td>4</td>\n",
       "      <td>00551e79-152e-4441-9cf7-565d7eb04090</td>\n",
       "      <td>00:09:19.664543</td>\n",
       "      <td>3</td>\n",
       "      <td>3.0</td>\n",
       "      <td>0.0</td>\n",
       "      <td>0.0</td>\n",
       "      <td>4892.516667</td>\n",
       "    </tr>\n",
       "  </tbody>\n",
       "</table>\n",
       "</div>"
      ],
      "text/plain": [
       "                                user_id      spent_time  visits  conversions  \\\n",
       "0  0001b1d5-b74a-4cbf-aeb0-7df5947bf349 00:43:49.147390       5          0.0   \n",
       "1  00157779-810c-4498-9e05-a1e9e3cedf93 02:57:40.663278      10         11.0   \n",
       "2  00463033-5717-4bf1-91b4-09183923b9df 00:21:14.554274       2          0.0   \n",
       "3  004690c3-5a84-4bb7-a8af-e0c8f8fca64e 01:27:33.169168       7          0.0   \n",
       "4  00551e79-152e-4441-9cf7-565d7eb04090 00:09:19.664543       3          3.0   \n",
       "\n",
       "   tips  favs  total_time_spent  \n",
       "0   0.0   0.0      21471.100000  \n",
       "1   0.0   2.0      21337.583333  \n",
       "2   0.0   0.0         24.700000  \n",
       "3   0.0   0.0      18688.166667  \n",
       "4   0.0   0.0       4892.516667  "
      ]
     },
     "execution_count": 29,
     "metadata": {},
     "output_type": "execute_result"
    }
   ],
   "source": [
    "features = pd.merge(features, total_user_time, on=['user_id', ], how='left')\n",
    "features.head()"
   ]
  },
  {
   "cell_type": "markdown",
   "metadata": {},
   "source": [
    "### EDA. Анализ качества признаков (отсутствующие признаки, средние значения и стандартные отклонения)."
   ]
  },
  {
   "cell_type": "code",
   "execution_count": 30,
   "metadata": {},
   "outputs": [
    {
     "data": {
      "text/html": [
       "<div>\n",
       "<style scoped>\n",
       "    .dataframe tbody tr th:only-of-type {\n",
       "        vertical-align: middle;\n",
       "    }\n",
       "\n",
       "    .dataframe tbody tr th {\n",
       "        vertical-align: top;\n",
       "    }\n",
       "\n",
       "    .dataframe thead th {\n",
       "        text-align: right;\n",
       "    }\n",
       "</style>\n",
       "<table border=\"1\" class=\"dataframe\">\n",
       "  <thead>\n",
       "    <tr style=\"text-align: right;\">\n",
       "      <th></th>\n",
       "      <th>spent_time</th>\n",
       "      <th>visits</th>\n",
       "      <th>conversions</th>\n",
       "      <th>tips</th>\n",
       "      <th>favs</th>\n",
       "      <th>total_time_spent</th>\n",
       "    </tr>\n",
       "  </thead>\n",
       "  <tbody>\n",
       "    <tr>\n",
       "      <td>count</td>\n",
       "      <td>4293</td>\n",
       "      <td>4293.000000</td>\n",
       "      <td>4293.000000</td>\n",
       "      <td>4293.000000</td>\n",
       "      <td>4293.000000</td>\n",
       "      <td>4293.000000</td>\n",
       "    </tr>\n",
       "    <tr>\n",
       "      <td>mean</td>\n",
       "      <td>0 days 00:28:49.653642</td>\n",
       "      <td>2.895877</td>\n",
       "      <td>1.054973</td>\n",
       "      <td>0.189611</td>\n",
       "      <td>0.330072</td>\n",
       "      <td>3794.306988</td>\n",
       "    </tr>\n",
       "    <tr>\n",
       "      <td>std</td>\n",
       "      <td>0 days 00:58:14.005422</td>\n",
       "      <td>4.230995</td>\n",
       "      <td>4.989622</td>\n",
       "      <td>1.044630</td>\n",
       "      <td>2.109938</td>\n",
       "      <td>7479.109498</td>\n",
       "    </tr>\n",
       "    <tr>\n",
       "      <td>min</td>\n",
       "      <td>0 days 00:00:00</td>\n",
       "      <td>1.000000</td>\n",
       "      <td>0.000000</td>\n",
       "      <td>0.000000</td>\n",
       "      <td>0.000000</td>\n",
       "      <td>0.000000</td>\n",
       "    </tr>\n",
       "    <tr>\n",
       "      <td>25%</td>\n",
       "      <td>0 days 00:05:34.637738</td>\n",
       "      <td>1.000000</td>\n",
       "      <td>0.000000</td>\n",
       "      <td>0.000000</td>\n",
       "      <td>0.000000</td>\n",
       "      <td>9.766667</td>\n",
       "    </tr>\n",
       "    <tr>\n",
       "      <td>50%</td>\n",
       "      <td>0 days 00:13:31.864715</td>\n",
       "      <td>2.000000</td>\n",
       "      <td>0.000000</td>\n",
       "      <td>0.000000</td>\n",
       "      <td>0.000000</td>\n",
       "      <td>42.533333</td>\n",
       "    </tr>\n",
       "    <tr>\n",
       "      <td>75%</td>\n",
       "      <td>0 days 00:30:52.278686</td>\n",
       "      <td>3.000000</td>\n",
       "      <td>0.000000</td>\n",
       "      <td>0.000000</td>\n",
       "      <td>0.000000</td>\n",
       "      <td>3843.750000</td>\n",
       "    </tr>\n",
       "    <tr>\n",
       "      <td>max</td>\n",
       "      <td>1 days 02:33:35.763801</td>\n",
       "      <td>113.000000</td>\n",
       "      <td>137.000000</td>\n",
       "      <td>30.000000</td>\n",
       "      <td>63.000000</td>\n",
       "      <td>38685.400000</td>\n",
       "    </tr>\n",
       "  </tbody>\n",
       "</table>\n",
       "</div>"
      ],
      "text/plain": [
       "                   spent_time       visits  conversions         tips  \\\n",
       "count                    4293  4293.000000  4293.000000  4293.000000   \n",
       "mean   0 days 00:28:49.653642     2.895877     1.054973     0.189611   \n",
       "std    0 days 00:58:14.005422     4.230995     4.989622     1.044630   \n",
       "min           0 days 00:00:00     1.000000     0.000000     0.000000   \n",
       "25%    0 days 00:05:34.637738     1.000000     0.000000     0.000000   \n",
       "50%    0 days 00:13:31.864715     2.000000     0.000000     0.000000   \n",
       "75%    0 days 00:30:52.278686     3.000000     0.000000     0.000000   \n",
       "max    1 days 02:33:35.763801   113.000000   137.000000    30.000000   \n",
       "\n",
       "              favs  total_time_spent  \n",
       "count  4293.000000       4293.000000  \n",
       "mean      0.330072       3794.306988  \n",
       "std       2.109938       7479.109498  \n",
       "min       0.000000          0.000000  \n",
       "25%       0.000000          9.766667  \n",
       "50%       0.000000         42.533333  \n",
       "75%       0.000000       3843.750000  \n",
       "max      63.000000      38685.400000  "
      ]
     },
     "execution_count": 30,
     "metadata": {},
     "output_type": "execute_result"
    }
   ],
   "source": [
    "features.describe()"
   ]
  },
  {
   "cell_type": "markdown",
   "metadata": {},
   "source": [
    "Все признаки у нас числовые. Бросаются в глаза очень большие максимальные значения относительно средних и медиан. Очень похоже на выбросы, которые стоит почистить."
   ]
  },
  {
   "cell_type": "markdown",
   "metadata": {},
   "source": [
    "### EDA. Формулировка предварительных гипотез на основе результата анализа признаков (построение столбчатых гистограмм и распределения признаков, построение матрицы корреляции для признаков)."
   ]
  },
  {
   "cell_type": "code",
   "execution_count": 31,
   "metadata": {},
   "outputs": [
    {
     "name": "stdout",
     "output_type": "stream",
     "text": [
      "conversions\n",
      "[ 2.  5. 15.]\n",
      "favs\n",
      "[0. 1. 9.]\n",
      "tips\n",
      "[0. 1. 4.]\n",
      "visits\n",
      "[ 5.  8. 19.]\n"
     ]
    },
    {
     "data": {
      "image/png": "[encoded data removed]",
      "text/plain": [
       "<Figure size 720x432 with 1 Axes>"
      ]
     },
     "metadata": {
      "needs_background": "light"
     },
     "output_type": "display_data"
    },
    {
     "data": {
      "image/png": "[encoded data removed]",
      "text/plain": [
       "<Figure size 720x432 with 1 Axes>"
      ]
     },
     "metadata": {
      "needs_background": "light"
     },
     "output_type": "display_data"
    },
    {
     "data": {
      "image/png": "[encoded data removed]",
      "text/plain": [
       "<Figure size 720x432 with 1 Axes>"
      ]
     },
     "metadata": {
      "needs_background": "light"
     },
     "output_type": "display_data"
    },
    {
     "data": {
      "image/png": "[encoded data removed]",
      "text/plain": [
       "<Figure size 720x432 with 1 Axes>"
      ]
     },
     "metadata": {
      "needs_background": "light"
     },
     "output_type": "display_data"
    }
   ],
   "source": [
    "for i in {'visits', 'conversions', 'tips', 'favs'}:\n",
    "    print(i)\n",
    "    print(np.percentile(features[i], [90, 95, 99]))\n",
    "    str = 'Распределение признака '+ i\n",
    "    plt.figure(figsize=(10,6))\n",
    "    plt.title(str)\n",
    "    plt.hist(features[i], bins=30, range=(0,20));\n",
    "    "
   ]
  },
  {
   "cell_type": "code",
   "execution_count": 32,
   "metadata": {},
   "outputs": [
    {
     "data": {
      "text/plain": [
       "array([ 5.,  8., 19.])"
      ]
     },
     "execution_count": 32,
     "metadata": {},
     "output_type": "execute_result"
    }
   ],
   "source": [
    "np.percentile(features['visits'], [90, 95, 99])"
   ]
  },
  {
   "cell_type": "code",
   "execution_count": 33,
   "metadata": {},
   "outputs": [
    {
     "data": {
      "text/plain": [
       "array([ 2.,  5., 15.])"
      ]
     },
     "execution_count": 33,
     "metadata": {},
     "output_type": "execute_result"
    }
   ],
   "source": [
    "np.percentile(features['conversions'], [90, 95, 99])"
   ]
  },
  {
   "cell_type": "code",
   "execution_count": 34,
   "metadata": {},
   "outputs": [
    {
     "name": "stdout",
     "output_type": "stream",
     "text": [
      "<class 'pandas.core.frame.DataFrame'>\n",
      "Int64Index: 4293 entries, 0 to 4292\n",
      "Data columns (total 7 columns):\n",
      "user_id             4293 non-null object\n",
      "spent_time          4293 non-null timedelta64[ns]\n",
      "visits              4293 non-null int64\n",
      "conversions         4293 non-null float64\n",
      "tips                4293 non-null float64\n",
      "favs                4293 non-null float64\n",
      "total_time_spent    4293 non-null float64\n",
      "dtypes: float64(4), int64(1), object(1), timedelta64[ns](1)\n",
      "memory usage: 268.3+ KB\n"
     ]
    }
   ],
   "source": [
    "features.info()"
   ]
  },
  {
   "cell_type": "code",
   "execution_count": 35,
   "metadata": {},
   "outputs": [],
   "source": [
    "features['time_spent'] = features['spent_time'].astype('timedelta64[s]') / 60"
   ]
  },
  {
   "cell_type": "code",
   "execution_count": 36,
   "metadata": {},
   "outputs": [],
   "source": [
    "features = features.drop(['spent_time'], axis=1)"
   ]
  },
  {
   "cell_type": "code",
   "execution_count": 37,
   "metadata": {},
   "outputs": [
    {
     "data": {
      "image/png": "[encoded data removed]",
      "text/plain": [
       "<Figure size 432x288 with 1 Axes>"
      ]
     },
     "metadata": {
      "needs_background": "light"
     },
     "output_type": "display_data"
    }
   ],
   "source": [
    "features['time_spent'].hist(bins=100, range=(0, 500));"
   ]
  },
  {
   "cell_type": "code",
   "execution_count": 38,
   "metadata": {
    "scrolled": true
   },
   "outputs": [
    {
     "data": {
      "text/plain": [
       "array([ 62.19666667, 102.31666667, 241.196     ])"
      ]
     },
     "execution_count": 38,
     "metadata": {},
     "output_type": "execute_result"
    }
   ],
   "source": [
    "np.percentile(features['time_spent'], [90, 95, 99])"
   ]
  },
  {
   "cell_type": "code",
   "execution_count": 39,
   "metadata": {},
   "outputs": [
    {
     "data": {
      "image/png": "[encoded data removed]",
      "text/plain": [
       "<Figure size 432x288 with 1 Axes>"
      ]
     },
     "metadata": {
      "needs_background": "light"
     },
     "output_type": "display_data"
    }
   ],
   "source": [
    "features['total_time_spent'].hist(bins=100, range=(0, 3000));"
   ]
  },
  {
   "cell_type": "code",
   "execution_count": 40,
   "metadata": {},
   "outputs": [
    {
     "data": {
      "text/plain": [
       "array([14115.00333333, 21850.21666667, 33106.26333333])"
      ]
     },
     "execution_count": 40,
     "metadata": {},
     "output_type": "execute_result"
    }
   ],
   "source": [
    "np.percentile(features['total_time_spent'], [90, 95, 99])"
   ]
  },
  {
   "cell_type": "code",
   "execution_count": 41,
   "metadata": {},
   "outputs": [
    {
     "name": "stdout",
     "output_type": "stream",
     "text": [
      "<class 'pandas.core.frame.DataFrame'>\n",
      "Int64Index: 4293 entries, 0 to 4292\n",
      "Data columns (total 7 columns):\n",
      "user_id             4293 non-null object\n",
      "visits              4293 non-null int64\n",
      "conversions         4293 non-null float64\n",
      "tips                4293 non-null float64\n",
      "favs                4293 non-null float64\n",
      "total_time_spent    4293 non-null float64\n",
      "time_spent          4293 non-null float64\n",
      "dtypes: float64(5), int64(1), object(1)\n",
      "memory usage: 268.3+ KB\n"
     ]
    }
   ],
   "source": [
    "features.info()"
   ]
  },
  {
   "cell_type": "code",
   "execution_count": 42,
   "metadata": {},
   "outputs": [
    {
     "data": {
      "image/png": "[encoded data removed]",
      "text/plain": [
       "<Figure size 576x576 with 2 Axes>"
      ]
     },
     "metadata": {
      "needs_background": "light"
     },
     "output_type": "display_data"
    }
   ],
   "source": [
    "# корреляционная матрица признаков\n",
    "corr_m = features.corr()\n",
    "fig, ax = plt.subplots(figsize=(8,8))\n",
    "sns.heatmap(corr_m, square = True, annot = True,  ax=ax);"
   ]
  },
  {
   "cell_type": "markdown",
   "metadata": {},
   "source": [
    "Высокая корреляция между признаками число сессий и проведеное время, что вполне логично и объяснимо."
   ]
  },
  {
   "cell_type": "markdown",
   "metadata": {},
   "source": [
    "На всех графиках наблюдаем длиннющие \"хвосты\", которые надо \"резать к чёртовой матери\"! Это дополнительно подтверждается значениями перцентилей. За границу достоверных значений возьмем 10 для числа сессий и числа целевых действий, 120 - суммарное время, проведенное в приложении, 25000 - время пользования приложением."
   ]
  },
  {
   "cell_type": "code",
   "execution_count": 43,
   "metadata": {
    "scrolled": true
   },
   "outputs": [
    {
     "data": {
      "text/html": [
       "<div>\n",
       "<style scoped>\n",
       "    .dataframe tbody tr th:only-of-type {\n",
       "        vertical-align: middle;\n",
       "    }\n",
       "\n",
       "    .dataframe tbody tr th {\n",
       "        vertical-align: top;\n",
       "    }\n",
       "\n",
       "    .dataframe thead th {\n",
       "        text-align: right;\n",
       "    }\n",
       "</style>\n",
       "<table border=\"1\" class=\"dataframe\">\n",
       "  <thead>\n",
       "    <tr style=\"text-align: right;\">\n",
       "      <th></th>\n",
       "      <th>visits</th>\n",
       "      <th>conversions</th>\n",
       "      <th>tips</th>\n",
       "      <th>favs</th>\n",
       "      <th>total_time_spent</th>\n",
       "      <th>time_spent</th>\n",
       "    </tr>\n",
       "  </thead>\n",
       "  <tbody>\n",
       "    <tr>\n",
       "      <td>count</td>\n",
       "      <td>3942.000000</td>\n",
       "      <td>3942.000000</td>\n",
       "      <td>3942.000000</td>\n",
       "      <td>3942.000000</td>\n",
       "      <td>3942.000000</td>\n",
       "      <td>3942.000000</td>\n",
       "    </tr>\n",
       "    <tr>\n",
       "      <td>mean</td>\n",
       "      <td>2.188990</td>\n",
       "      <td>0.508879</td>\n",
       "      <td>0.142060</td>\n",
       "      <td>0.238965</td>\n",
       "      <td>2482.496880</td>\n",
       "      <td>19.566354</td>\n",
       "    </tr>\n",
       "    <tr>\n",
       "      <td>std</td>\n",
       "      <td>1.591831</td>\n",
       "      <td>1.342906</td>\n",
       "      <td>0.772275</td>\n",
       "      <td>1.330158</td>\n",
       "      <td>5124.656391</td>\n",
       "      <td>20.848945</td>\n",
       "    </tr>\n",
       "    <tr>\n",
       "      <td>min</td>\n",
       "      <td>1.000000</td>\n",
       "      <td>0.000000</td>\n",
       "      <td>0.000000</td>\n",
       "      <td>0.000000</td>\n",
       "      <td>0.000000</td>\n",
       "      <td>0.000000</td>\n",
       "    </tr>\n",
       "    <tr>\n",
       "      <td>25%</td>\n",
       "      <td>1.000000</td>\n",
       "      <td>0.000000</td>\n",
       "      <td>0.000000</td>\n",
       "      <td>0.000000</td>\n",
       "      <td>8.833333</td>\n",
       "      <td>5.187500</td>\n",
       "    </tr>\n",
       "    <tr>\n",
       "      <td>50%</td>\n",
       "      <td>2.000000</td>\n",
       "      <td>0.000000</td>\n",
       "      <td>0.000000</td>\n",
       "      <td>0.000000</td>\n",
       "      <td>32.141667</td>\n",
       "      <td>12.283333</td>\n",
       "    </tr>\n",
       "    <tr>\n",
       "      <td>75%</td>\n",
       "      <td>3.000000</td>\n",
       "      <td>0.000000</td>\n",
       "      <td>0.000000</td>\n",
       "      <td>0.000000</td>\n",
       "      <td>1750.150000</td>\n",
       "      <td>26.600000</td>\n",
       "    </tr>\n",
       "    <tr>\n",
       "      <td>max</td>\n",
       "      <td>11.000000</td>\n",
       "      <td>9.000000</td>\n",
       "      <td>18.000000</td>\n",
       "      <td>28.000000</td>\n",
       "      <td>24968.583333</td>\n",
       "      <td>118.966667</td>\n",
       "    </tr>\n",
       "  </tbody>\n",
       "</table>\n",
       "</div>"
      ],
      "text/plain": [
       "            visits  conversions         tips         favs  total_time_spent  \\\n",
       "count  3942.000000  3942.000000  3942.000000  3942.000000       3942.000000   \n",
       "mean      2.188990     0.508879     0.142060     0.238965       2482.496880   \n",
       "std       1.591831     1.342906     0.772275     1.330158       5124.656391   \n",
       "min       1.000000     0.000000     0.000000     0.000000          0.000000   \n",
       "25%       1.000000     0.000000     0.000000     0.000000          8.833333   \n",
       "50%       2.000000     0.000000     0.000000     0.000000         32.141667   \n",
       "75%       3.000000     0.000000     0.000000     0.000000       1750.150000   \n",
       "max      11.000000     9.000000    18.000000    28.000000      24968.583333   \n",
       "\n",
       "        time_spent  \n",
       "count  3942.000000  \n",
       "mean     19.566354  \n",
       "std      20.848945  \n",
       "min       0.000000  \n",
       "25%       5.187500  \n",
       "50%      12.283333  \n",
       "75%      26.600000  \n",
       "max     118.966667  "
      ]
     },
     "execution_count": 43,
     "metadata": {},
     "output_type": "execute_result"
    }
   ],
   "source": [
    "features_corrected = features.query('time_spent<120 and conversions<10 and visits<12 and total_time_spent<25000')\n",
    "features_corrected.describe()"
   ]
  },
  {
   "cell_type": "code",
   "execution_count": 44,
   "metadata": {},
   "outputs": [
    {
     "data": {
      "text/plain": [
       "4529.0"
      ]
     },
     "execution_count": 44,
     "metadata": {},
     "output_type": "execute_result"
    }
   ],
   "source": [
    "features['conversions'].sum()"
   ]
  },
  {
   "cell_type": "code",
   "execution_count": 45,
   "metadata": {},
   "outputs": [
    {
     "data": {
      "text/plain": [
       "2006.0"
      ]
     },
     "execution_count": 45,
     "metadata": {},
     "output_type": "execute_result"
    }
   ],
   "source": [
    "features_corrected['conversions'].sum()"
   ]
  },
  {
   "cell_type": "markdown",
   "metadata": {},
   "source": [
    "Откинули всего 350 строк - 8% всей таблицы. Но эти 8% содержали больше половины конверсий! Видимо, резать хвосты было плохой идеей. Получается, что так мы выкидываем из анализа самую активную часть пользователей."
   ]
  },
  {
   "cell_type": "markdown",
   "metadata": {},
   "source": [
    "### Стандартизация данных"
   ]
  },
  {
   "cell_type": "code",
   "execution_count": 47,
   "metadata": {},
   "outputs": [
    {
     "data": {
      "text/html": [
       "<div>\n",
       "<style scoped>\n",
       "    .dataframe tbody tr th:only-of-type {\n",
       "        vertical-align: middle;\n",
       "    }\n",
       "\n",
       "    .dataframe tbody tr th {\n",
       "        vertical-align: top;\n",
       "    }\n",
       "\n",
       "    .dataframe thead th {\n",
       "        text-align: right;\n",
       "    }\n",
       "</style>\n",
       "<table border=\"1\" class=\"dataframe\">\n",
       "  <thead>\n",
       "    <tr style=\"text-align: right;\">\n",
       "      <th></th>\n",
       "      <th>visits</th>\n",
       "      <th>tips</th>\n",
       "      <th>favs</th>\n",
       "      <th>total_time_spent</th>\n",
       "      <th>time_spent</th>\n",
       "    </tr>\n",
       "  </thead>\n",
       "  <tbody>\n",
       "    <tr>\n",
       "      <td>0</td>\n",
       "      <td>5</td>\n",
       "      <td>0.0</td>\n",
       "      <td>0.0</td>\n",
       "      <td>21471.100000</td>\n",
       "      <td>43.816667</td>\n",
       "    </tr>\n",
       "    <tr>\n",
       "      <td>1</td>\n",
       "      <td>10</td>\n",
       "      <td>0.0</td>\n",
       "      <td>2.0</td>\n",
       "      <td>21337.583333</td>\n",
       "      <td>177.666667</td>\n",
       "    </tr>\n",
       "    <tr>\n",
       "      <td>2</td>\n",
       "      <td>2</td>\n",
       "      <td>0.0</td>\n",
       "      <td>0.0</td>\n",
       "      <td>24.700000</td>\n",
       "      <td>21.233333</td>\n",
       "    </tr>\n",
       "    <tr>\n",
       "      <td>3</td>\n",
       "      <td>7</td>\n",
       "      <td>0.0</td>\n",
       "      <td>0.0</td>\n",
       "      <td>18688.166667</td>\n",
       "      <td>87.550000</td>\n",
       "    </tr>\n",
       "    <tr>\n",
       "      <td>4</td>\n",
       "      <td>3</td>\n",
       "      <td>0.0</td>\n",
       "      <td>0.0</td>\n",
       "      <td>4892.516667</td>\n",
       "      <td>9.316667</td>\n",
       "    </tr>\n",
       "  </tbody>\n",
       "</table>\n",
       "</div>"
      ],
      "text/plain": [
       "   visits  tips  favs  total_time_spent  time_spent\n",
       "0       5   0.0   0.0      21471.100000   43.816667\n",
       "1      10   0.0   2.0      21337.583333  177.666667\n",
       "2       2   0.0   0.0         24.700000   21.233333\n",
       "3       7   0.0   0.0      18688.166667   87.550000\n",
       "4       3   0.0   0.0       4892.516667    9.316667"
      ]
     },
     "execution_count": 47,
     "metadata": {},
     "output_type": "execute_result"
    }
   ],
   "source": [
    "# предварительно откидываем столбец с id пользователей\n",
    "X = features.drop(['user_id', 'conversions'], axis=1)\n",
    "X.head()"
   ]
  },
  {
   "cell_type": "code",
   "execution_count": 48,
   "metadata": {},
   "outputs": [
    {
     "name": "stdout",
     "output_type": "stream",
     "text": [
      "<class 'pandas.core.frame.DataFrame'>\n",
      "Int64Index: 4293 entries, 0 to 4292\n",
      "Data columns (total 5 columns):\n",
      "visits              4293 non-null int64\n",
      "tips                4293 non-null float64\n",
      "favs                4293 non-null float64\n",
      "total_time_spent    4293 non-null float64\n",
      "time_spent          4293 non-null float64\n",
      "dtypes: float64(4), int64(1)\n",
      "memory usage: 201.2 KB\n"
     ]
    }
   ],
   "source": [
    "X.info()"
   ]
  },
  {
   "cell_type": "code",
   "execution_count": 49,
   "metadata": {},
   "outputs": [],
   "source": [
    "# стандартизируем данные\n",
    "sc = StandardScaler()\n",
    "X_sc = sc.fit_transform(X)"
   ]
  },
  {
   "cell_type": "markdown",
   "metadata": {},
   "source": [
    "## Выделение групп пользователей"
   ]
  },
  {
   "cell_type": "markdown",
   "metadata": {},
   "source": [
    "### Построение матрицы расстояний на стандартизованной матрице признаков"
   ]
  },
  {
   "cell_type": "code",
   "execution_count": 50,
   "metadata": {},
   "outputs": [],
   "source": [
    "linked = linkage(X_sc, method = 'ward')"
   ]
  },
  {
   "cell_type": "markdown",
   "metadata": {},
   "source": [
    "### Построение дендрограммы"
   ]
  },
  {
   "cell_type": "code",
   "execution_count": 51,
   "metadata": {},
   "outputs": [
    {
     "data": {
      "image/png": "[encoded data removed]",
      "text/plain": [
       "<Figure size 1080x720 with 1 Axes>"
      ]
     },
     "metadata": {
      "needs_background": "light"
     },
     "output_type": "display_data"
    }
   ],
   "source": [
    "plt.figure(figsize=(15, 10))  \n",
    "dendrogram(linked, orientation='top')\n",
    "plt.title('Иерархическая кластеризация пользователей мобильном приложении \"Ненужные вещи\"')\n",
    "plt.show()"
   ]
  },
  {
   "cell_type": "markdown",
   "metadata": {},
   "source": [
    "### Определение числа кластеров на основе дендрограммы"
   ]
  },
  {
   "cell_type": "markdown",
   "metadata": {},
   "source": [
    "#### Предложенное оптимальное число кластеров - 3"
   ]
  },
  {
   "cell_type": "markdown",
   "metadata": {},
   "source": [
    "### Выбор и обучение модели кластеризации, прогнозирование кластеров клиентов"
   ]
  },
  {
   "cell_type": "code",
   "execution_count": 52,
   "metadata": {},
   "outputs": [
    {
     "data": {
      "text/html": [
       "<div>\n",
       "<style scoped>\n",
       "    .dataframe tbody tr th:only-of-type {\n",
       "        vertical-align: middle;\n",
       "    }\n",
       "\n",
       "    .dataframe tbody tr th {\n",
       "        vertical-align: top;\n",
       "    }\n",
       "\n",
       "    .dataframe thead th {\n",
       "        text-align: right;\n",
       "    }\n",
       "</style>\n",
       "<table border=\"1\" class=\"dataframe\">\n",
       "  <thead>\n",
       "    <tr style=\"text-align: right;\">\n",
       "      <th></th>\n",
       "      <th>user_id</th>\n",
       "      <th>visits</th>\n",
       "      <th>conversions</th>\n",
       "      <th>tips</th>\n",
       "      <th>favs</th>\n",
       "      <th>total_time_spent</th>\n",
       "      <th>time_spent</th>\n",
       "      <th>cluster_km</th>\n",
       "    </tr>\n",
       "  </thead>\n",
       "  <tbody>\n",
       "    <tr>\n",
       "      <td>0</td>\n",
       "      <td>0001b1d5-b74a-4cbf-aeb0-7df5947bf349</td>\n",
       "      <td>5</td>\n",
       "      <td>0.0</td>\n",
       "      <td>0.0</td>\n",
       "      <td>0.0</td>\n",
       "      <td>21471.100000</td>\n",
       "      <td>43.816667</td>\n",
       "      <td>1</td>\n",
       "    </tr>\n",
       "    <tr>\n",
       "      <td>1</td>\n",
       "      <td>00157779-810c-4498-9e05-a1e9e3cedf93</td>\n",
       "      <td>10</td>\n",
       "      <td>11.0</td>\n",
       "      <td>0.0</td>\n",
       "      <td>2.0</td>\n",
       "      <td>21337.583333</td>\n",
       "      <td>177.666667</td>\n",
       "      <td>1</td>\n",
       "    </tr>\n",
       "    <tr>\n",
       "      <td>2</td>\n",
       "      <td>00463033-5717-4bf1-91b4-09183923b9df</td>\n",
       "      <td>2</td>\n",
       "      <td>0.0</td>\n",
       "      <td>0.0</td>\n",
       "      <td>0.0</td>\n",
       "      <td>24.700000</td>\n",
       "      <td>21.233333</td>\n",
       "      <td>0</td>\n",
       "    </tr>\n",
       "    <tr>\n",
       "      <td>3</td>\n",
       "      <td>004690c3-5a84-4bb7-a8af-e0c8f8fca64e</td>\n",
       "      <td>7</td>\n",
       "      <td>0.0</td>\n",
       "      <td>0.0</td>\n",
       "      <td>0.0</td>\n",
       "      <td>18688.166667</td>\n",
       "      <td>87.550000</td>\n",
       "      <td>1</td>\n",
       "    </tr>\n",
       "    <tr>\n",
       "      <td>4</td>\n",
       "      <td>00551e79-152e-4441-9cf7-565d7eb04090</td>\n",
       "      <td>3</td>\n",
       "      <td>3.0</td>\n",
       "      <td>0.0</td>\n",
       "      <td>0.0</td>\n",
       "      <td>4892.516667</td>\n",
       "      <td>9.316667</td>\n",
       "      <td>0</td>\n",
       "    </tr>\n",
       "  </tbody>\n",
       "</table>\n",
       "</div>"
      ],
      "text/plain": [
       "                                user_id  visits  conversions  tips  favs  \\\n",
       "0  0001b1d5-b74a-4cbf-aeb0-7df5947bf349       5          0.0   0.0   0.0   \n",
       "1  00157779-810c-4498-9e05-a1e9e3cedf93      10         11.0   0.0   2.0   \n",
       "2  00463033-5717-4bf1-91b4-09183923b9df       2          0.0   0.0   0.0   \n",
       "3  004690c3-5a84-4bb7-a8af-e0c8f8fca64e       7          0.0   0.0   0.0   \n",
       "4  00551e79-152e-4441-9cf7-565d7eb04090       3          3.0   0.0   0.0   \n",
       "\n",
       "   total_time_spent  time_spent  cluster_km  \n",
       "0      21471.100000   43.816667           1  \n",
       "1      21337.583333  177.666667           1  \n",
       "2         24.700000   21.233333           0  \n",
       "3      18688.166667   87.550000           1  \n",
       "4       4892.516667    9.316667           0  "
      ]
     },
     "execution_count": 52,
     "metadata": {},
     "output_type": "execute_result"
    }
   ],
   "source": [
    "# задаём модель k_means с числом кластеров 3\n",
    "km = KMeans(n_clusters=3, random_state = 0)\n",
    "# прогнозируем кластеры для наблюдений\n",
    "labels = km.fit_predict(X_sc) \n",
    "\n",
    "# сохраняем метки кластера в поле нашего датасета\n",
    "features['cluster_km'] = labels\n",
    "features.head()"
   ]
  },
  {
   "cell_type": "markdown",
   "metadata": {},
   "source": [
    "### Анализ средних значений признаков для кластеров"
   ]
  },
  {
   "cell_type": "code",
   "execution_count": 53,
   "metadata": {},
   "outputs": [
    {
     "data": {
      "text/html": [
       "<div>\n",
       "<style scoped>\n",
       "    .dataframe tbody tr th:only-of-type {\n",
       "        vertical-align: middle;\n",
       "    }\n",
       "\n",
       "    .dataframe tbody tr th {\n",
       "        vertical-align: top;\n",
       "    }\n",
       "\n",
       "    .dataframe thead th {\n",
       "        text-align: right;\n",
       "    }\n",
       "</style>\n",
       "<table border=\"1\" class=\"dataframe\">\n",
       "  <thead>\n",
       "    <tr style=\"text-align: right;\">\n",
       "      <th></th>\n",
       "      <th>cluster_km</th>\n",
       "      <th>clusters_value</th>\n",
       "      <th>share</th>\n",
       "    </tr>\n",
       "  </thead>\n",
       "  <tbody>\n",
       "    <tr>\n",
       "      <td>0</td>\n",
       "      <td>0</td>\n",
       "      <td>3649</td>\n",
       "      <td>84.998835</td>\n",
       "    </tr>\n",
       "    <tr>\n",
       "      <td>1</td>\n",
       "      <td>1</td>\n",
       "      <td>603</td>\n",
       "      <td>14.046122</td>\n",
       "    </tr>\n",
       "    <tr>\n",
       "      <td>2</td>\n",
       "      <td>2</td>\n",
       "      <td>41</td>\n",
       "      <td>0.955043</td>\n",
       "    </tr>\n",
       "  </tbody>\n",
       "</table>\n",
       "</div>"
      ],
      "text/plain": [
       "   cluster_km  clusters_value      share\n",
       "0           0            3649  84.998835\n",
       "1           1             603  14.046122\n",
       "2           2              41   0.955043"
      ]
     },
     "execution_count": 53,
     "metadata": {},
     "output_type": "execute_result"
    }
   ],
   "source": [
    "# количество клиентов по кластерам\n",
    "lusters_value = features.groupby('cluster_km', as_index=False).count()[['cluster_km', 'user_id']].rename(columns={'user_id': 'clusters_value'})\n",
    "clusters_value['share'] = (clusters_value['clusters_value'] / 4293) * 100\n",
    "clusters_value"
   ]
  },
  {
   "cell_type": "code",
   "execution_count": 54,
   "metadata": {
    "scrolled": true
   },
   "outputs": [
    {
     "data": {
      "text/html": [
       "<div>\n",
       "<style scoped>\n",
       "    .dataframe tbody tr th:only-of-type {\n",
       "        vertical-align: middle;\n",
       "    }\n",
       "\n",
       "    .dataframe tbody tr th {\n",
       "        vertical-align: top;\n",
       "    }\n",
       "\n",
       "    .dataframe thead th {\n",
       "        text-align: right;\n",
       "    }\n",
       "</style>\n",
       "<table border=\"1\" class=\"dataframe\">\n",
       "  <thead>\n",
       "    <tr style=\"text-align: right;\">\n",
       "      <th></th>\n",
       "      <th>visits</th>\n",
       "      <th>conversions</th>\n",
       "      <th>tips</th>\n",
       "      <th>favs</th>\n",
       "      <th>total_time_spent</th>\n",
       "      <th>time_spent</th>\n",
       "    </tr>\n",
       "    <tr>\n",
       "      <th>cluster_km</th>\n",
       "      <th></th>\n",
       "      <th></th>\n",
       "      <th></th>\n",
       "      <th></th>\n",
       "      <th></th>\n",
       "      <th></th>\n",
       "    </tr>\n",
       "  </thead>\n",
       "  <tbody>\n",
       "    <tr>\n",
       "      <td>0</td>\n",
       "      <td>1.950397</td>\n",
       "      <td>0.682653</td>\n",
       "      <td>0.102220</td>\n",
       "      <td>0.175116</td>\n",
       "      <td>1139.067891</td>\n",
       "      <td>19.104316</td>\n",
       "    </tr>\n",
       "    <tr>\n",
       "      <td>1</td>\n",
       "      <td>6.850746</td>\n",
       "      <td>1.902156</td>\n",
       "      <td>0.475954</td>\n",
       "      <td>0.815920</td>\n",
       "      <td>18637.339856</td>\n",
       "      <td>61.862797</td>\n",
       "    </tr>\n",
       "    <tr>\n",
       "      <td>2</td>\n",
       "      <td>28.878049</td>\n",
       "      <td>21.731707</td>\n",
       "      <td>3.756098</td>\n",
       "      <td>6.975610</td>\n",
       "      <td>21809.395935</td>\n",
       "      <td>407.485772</td>\n",
       "    </tr>\n",
       "  </tbody>\n",
       "</table>\n",
       "</div>"
      ],
      "text/plain": [
       "               visits  conversions      tips      favs  total_time_spent  \\\n",
       "cluster_km                                                                 \n",
       "0            1.950397     0.682653  0.102220  0.175116       1139.067891   \n",
       "1            6.850746     1.902156  0.475954  0.815920      18637.339856   \n",
       "2           28.878049    21.731707  3.756098  6.975610      21809.395935   \n",
       "\n",
       "            time_spent  \n",
       "cluster_km              \n",
       "0            19.104316  \n",
       "1            61.862797  \n",
       "2           407.485772  "
      ]
     },
     "execution_count": 54,
     "metadata": {},
     "output_type": "execute_result"
    }
   ],
   "source": [
    "clusters_mean = features.groupby('cluster_km').mean()\n",
    "clusters_mean"
   ]
  },
  {
   "cell_type": "markdown",
   "metadata": {},
   "source": [
    "Массив пользователей разбился на 3 очень неравных кластеров. \n",
    "- 85% пользователей попали в одну группу, в которой у пользователей 2 визита за исследуемый месяц, проведено в приложении около 19 минут, общее время использования (от самого первого действия в приложении до самого последнего) - около 19 часов, они не сохраняют объявления на будущее (какое же будущее за 19 часов использования?), не просматривают рекомендации. При этом 68% из них все-таки совершили целевое действие. То есть эти пользователи установили приложение, попробовали его использовать, две трети даже нашли для себя какое-то интересное объявление, но дальше что-то пошло не так. То ли им не понравилось само приложение, то ли общение с продавцом оставило неприятные эмоции;\n",
    "\n",
    "- 14% использует приложение гораздо активнее  - у них совершено почти по 7 сессий, провели в приложении больше часа чистого времени, используют приложение почти 2 недели. конверсия втрое выше, чем у первой группы - 2 перехода в целевое действие;\n",
    "\n",
    "- остался 1%, но это 1% каких-то суперменов. Максимальные показатели по всем признакам - почти 7 часов чистого времени в приложении, больше 2х недель использования, активное использование функций приложения. больше 20 целевых действий! Они просто живут в приложении!"
   ]
  },
  {
   "cell_type": "markdown",
   "metadata": {},
   "source": [
    "### Анализ распределения признаков по кластерам"
   ]
  },
  {
   "cell_type": "code",
   "execution_count": 55,
   "metadata": {},
   "outputs": [
    {
     "data": {
      "image/png": "[encoded data removed]",
      "text/plain": [
       "<Figure size 720x576 with 1 Axes>"
      ]
     },
     "metadata": {
      "needs_background": "light"
     },
     "output_type": "display_data"
    },
    {
     "data": {
      "image/png": "[encoded data removed]",
      "text/plain": [
       "<Figure size 720x576 with 1 Axes>"
      ]
     },
     "metadata": {
      "needs_background": "light"
     },
     "output_type": "display_data"
    },
    {
     "data": {
      "image/png": "[encoded data removed]",
      "text/plain": [
       "<Figure size 720x576 with 1 Axes>"
      ]
     },
     "metadata": {
      "needs_background": "light"
     },
     "output_type": "display_data"
    }
   ],
   "source": [
    "for column in {'visits', 'total_time_spent', 'time_spent'}:\n",
    "    rcParams['figure.figsize'] = 10, 8\n",
    "    sns.boxplot(x='cluster_km', y=column,  data=features)\n",
    "    plt.show()"
   ]
  },
  {
   "cell_type": "markdown",
   "metadata": {},
   "source": [
    "Графики подтверждают выводы, которые мы делали на основе таблицы со средними значениями признаков. Кластер №0 проседает по всем показателям, они явно не заинтересованы нашим приложением, надо что-то менять. Кластер №2 - красавчики и идеальные клиенты, побольше бы таких. Кластер 1 - что-то среднее."
   ]
  },
  {
   "cell_type": "markdown",
   "metadata": {},
   "source": [
    "### Анализ распределения целевой переменной по кластерам"
   ]
  },
  {
   "cell_type": "code",
   "execution_count": 56,
   "metadata": {
    "scrolled": true
   },
   "outputs": [
    {
     "data": {
      "text/plain": [
       "cluster_km\n",
       "0     0.682653\n",
       "1     1.902156\n",
       "2    21.731707\n",
       "Name: conversions, dtype: float64"
      ]
     },
     "execution_count": 56,
     "metadata": {},
     "output_type": "execute_result"
    }
   ],
   "source": [
    "clusters_mean['conversions']"
   ]
  },
  {
   "cell_type": "markdown",
   "metadata": {},
   "source": [
    "61% просмотров контактов делает кластер 0, несмотря на то, что их всего 6% от всех пользователей. Потом кластер 0, который делает 26% (при том, что пользователей там в 12 раз больше), и на 3м кластер 2 со скромными 12%."
   ]
  },
  {
   "cell_type": "code",
   "execution_count": 57,
   "metadata": {},
   "outputs": [
    {
     "data": {
      "image/png": "[encoded data removed]",
      "text/plain": [
       "<Figure size 720x576 with 1 Axes>"
      ]
     },
     "metadata": {
      "needs_background": "light"
     },
     "output_type": "display_data"
    }
   ],
   "source": [
    "rcParams['figure.figsize'] = 10, 8\n",
    "sns.boxplot(x='cluster_km', y='conversions',  data=features)\n",
    "plt.show()"
   ]
  },
  {
   "cell_type": "markdown",
   "metadata": {},
   "source": [
    "## Подведение итогов и представление результатов"
   ]
  },
  {
   "cell_type": "markdown",
   "metadata": {},
   "source": [
    "### Формулировка выводов о поведении пользователей из разных групп"
   ]
  },
  {
   "cell_type": "markdown",
   "metadata": {},
   "source": [
    "85% пользователей образовали кластер, в котором у них по 2 визита за исследуемый месяц, проведено в приложении около 19 минут, общее время использования (от самого первого действия в приложении до самого последнего) - около 19 часов, они не сохраняют объявления на будущее, не просматривают рекомендации. За счет того, что кластер очень большой, они в сумме дали 55% случаев целевого события, но для такого их числа это мало. Похоже, что это люди, которые установили себе приложение, но не нашли там  для себя интересного или оно им не понравилось и они его удалили. Очень плохо, что их так много. \n",
    "\n",
    "14% использует приложение гораздо активнее  - у них совершено почти по 7 сессий, провели в приложении больше часа чистого времени, используют приложение почти 2 недели. конверсия втрое выше, чем у первой группы - 2 перехода в целевое действие. Итого - 25% конверсии.\n",
    "\n",
    "Самый маленький кластер (всего 1%) является и самым активным - почти 7 часов чистого времени в приложении, больше 2х недель использования, активное использование функций приложения. больше 20 целевых действий. Всего 1% пользователей обеспечил 20% конверсии. Таких пользователей нужно беречь, удерживать и всячески преумножать."
   ]
  },
  {
   "cell_type": "markdown",
   "metadata": {},
   "source": [
    "# Ссылка на дашборд в Tableau "
   ]
  },
  {
   "cell_type": "markdown",
   "metadata": {},
   "source": [
    "https://public.tableau.com/profile/vsevolod.sukhov#!/vizhome/sukhov_9A_mobil_app/Dashboard1"
   ]
  },
  {
   "cell_type": "markdown",
   "metadata": {},
   "source": [
    "## Проверка статистических гипотез"
   ]
  },
  {
   "cell_type": "markdown",
   "metadata": {},
   "source": [
    "### Проверьте гипотезу различия конверсии в просмотры контактов между теми пользователями, которые совершили установку приложения, прийдя с источника yandex и пользователя, совершившими установки, из источника google"
   ]
  },
  {
   "cell_type": "code",
   "execution_count": 58,
   "metadata": {},
   "outputs": [
    {
     "data": {
      "text/html": [
       "<div>\n",
       "<style scoped>\n",
       "    .dataframe tbody tr th:only-of-type {\n",
       "        vertical-align: middle;\n",
       "    }\n",
       "\n",
       "    .dataframe tbody tr th {\n",
       "        vertical-align: top;\n",
       "    }\n",
       "\n",
       "    .dataframe thead th {\n",
       "        text-align: right;\n",
       "    }\n",
       "</style>\n",
       "<table border=\"1\" class=\"dataframe\">\n",
       "  <thead>\n",
       "    <tr style=\"text-align: right;\">\n",
       "      <th></th>\n",
       "      <th>source</th>\n",
       "      <th>total_users</th>\n",
       "    </tr>\n",
       "  </thead>\n",
       "  <tbody>\n",
       "    <tr>\n",
       "      <td>0</td>\n",
       "      <td>google</td>\n",
       "      <td>1129</td>\n",
       "    </tr>\n",
       "    <tr>\n",
       "      <td>1</td>\n",
       "      <td>other</td>\n",
       "      <td>1230</td>\n",
       "    </tr>\n",
       "    <tr>\n",
       "      <td>2</td>\n",
       "      <td>yandex</td>\n",
       "      <td>1934</td>\n",
       "    </tr>\n",
       "  </tbody>\n",
       "</table>\n",
       "</div>"
      ],
      "text/plain": [
       "   source  total_users\n",
       "0  google         1129\n",
       "1   other         1230\n",
       "2  yandex         1934"
      ]
     },
     "execution_count": 58,
     "metadata": {},
     "output_type": "execute_result"
    }
   ],
   "source": [
    "# Всего пользователей по источникам \n",
    "total_users = users.groupby('source', as_index=False).count().rename(columns={'user_id':'total_users'})\n",
    "total_users"
   ]
  },
  {
   "cell_type": "code",
   "execution_count": 59,
   "metadata": {},
   "outputs": [
    {
     "data": {
      "text/html": [
       "<div>\n",
       "<style scoped>\n",
       "    .dataframe tbody tr th:only-of-type {\n",
       "        vertical-align: middle;\n",
       "    }\n",
       "\n",
       "    .dataframe tbody tr th {\n",
       "        vertical-align: top;\n",
       "    }\n",
       "\n",
       "    .dataframe thead th {\n",
       "        text-align: right;\n",
       "    }\n",
       "</style>\n",
       "<table border=\"1\" class=\"dataframe\">\n",
       "  <thead>\n",
       "    <tr style=\"text-align: right;\">\n",
       "      <th></th>\n",
       "      <th>source</th>\n",
       "      <th>goal_users</th>\n",
       "    </tr>\n",
       "  </thead>\n",
       "  <tbody>\n",
       "    <tr>\n",
       "      <td>0</td>\n",
       "      <td>google</td>\n",
       "      <td>275</td>\n",
       "    </tr>\n",
       "    <tr>\n",
       "      <td>1</td>\n",
       "      <td>other</td>\n",
       "      <td>228</td>\n",
       "    </tr>\n",
       "    <tr>\n",
       "      <td>2</td>\n",
       "      <td>yandex</td>\n",
       "      <td>478</td>\n",
       "    </tr>\n",
       "  </tbody>\n",
       "</table>\n",
       "</div>"
      ],
      "text/plain": [
       "   source  goal_users\n",
       "0  google         275\n",
       "1   other         228\n",
       "2  yandex         478"
      ]
     },
     "execution_count": 59,
     "metadata": {},
     "output_type": "execute_result"
    }
   ],
   "source": [
    "# пользователи, совершившие целевое действие\n",
    "goal_users = users_events.query('event_name==\"contacts_show\"').groupby(['source'], as_index=False).agg({'user_id':'nunique'}).rename(columns={'user_id':'goal_users'})\n",
    "goal_users"
   ]
  },
  {
   "cell_type": "code",
   "execution_count": 60,
   "metadata": {
    "scrolled": true
   },
   "outputs": [
    {
     "data": {
      "text/html": [
       "<div>\n",
       "<style scoped>\n",
       "    .dataframe tbody tr th:only-of-type {\n",
       "        vertical-align: middle;\n",
       "    }\n",
       "\n",
       "    .dataframe tbody tr th {\n",
       "        vertical-align: top;\n",
       "    }\n",
       "\n",
       "    .dataframe thead th {\n",
       "        text-align: right;\n",
       "    }\n",
       "</style>\n",
       "<table border=\"1\" class=\"dataframe\">\n",
       "  <thead>\n",
       "    <tr style=\"text-align: right;\">\n",
       "      <th></th>\n",
       "      <th>source</th>\n",
       "      <th>goal_users</th>\n",
       "      <th>total_users</th>\n",
       "    </tr>\n",
       "  </thead>\n",
       "  <tbody>\n",
       "    <tr>\n",
       "      <td>0</td>\n",
       "      <td>google</td>\n",
       "      <td>275</td>\n",
       "      <td>1129</td>\n",
       "    </tr>\n",
       "    <tr>\n",
       "      <td>2</td>\n",
       "      <td>yandex</td>\n",
       "      <td>478</td>\n",
       "      <td>1934</td>\n",
       "    </tr>\n",
       "  </tbody>\n",
       "</table>\n",
       "</div>"
      ],
      "text/plain": [
       "   source  goal_users  total_users\n",
       "0  google         275         1129\n",
       "2  yandex         478         1934"
      ]
     },
     "execution_count": 60,
     "metadata": {},
     "output_type": "execute_result"
    }
   ],
   "source": [
    "conversion_users = pd.merge(goal_users, total_users, on='source').drop([1])\n",
    "conversion_users"
   ]
  },
  {
   "cell_type": "code",
   "execution_count": 61,
   "metadata": {
    "scrolled": true
   },
   "outputs": [
    {
     "data": {
      "text/html": [
       "<div>\n",
       "<style scoped>\n",
       "    .dataframe tbody tr th:only-of-type {\n",
       "        vertical-align: middle;\n",
       "    }\n",
       "\n",
       "    .dataframe tbody tr th {\n",
       "        vertical-align: top;\n",
       "    }\n",
       "\n",
       "    .dataframe thead th {\n",
       "        text-align: right;\n",
       "    }\n",
       "</style>\n",
       "<table border=\"1\" class=\"dataframe\">\n",
       "  <thead>\n",
       "    <tr style=\"text-align: right;\">\n",
       "      <th></th>\n",
       "      <th>source</th>\n",
       "      <th>goal_users</th>\n",
       "      <th>total_users</th>\n",
       "      <th>cr</th>\n",
       "    </tr>\n",
       "  </thead>\n",
       "  <tbody>\n",
       "    <tr>\n",
       "      <td>0</td>\n",
       "      <td>google</td>\n",
       "      <td>275</td>\n",
       "      <td>1129</td>\n",
       "      <td>0.243578</td>\n",
       "    </tr>\n",
       "    <tr>\n",
       "      <td>2</td>\n",
       "      <td>yandex</td>\n",
       "      <td>478</td>\n",
       "      <td>1934</td>\n",
       "      <td>0.247156</td>\n",
       "    </tr>\n",
       "  </tbody>\n",
       "</table>\n",
       "</div>"
      ],
      "text/plain": [
       "   source  goal_users  total_users        cr\n",
       "0  google         275         1129  0.243578\n",
       "2  yandex         478         1934  0.247156"
      ]
     },
     "execution_count": 61,
     "metadata": {},
     "output_type": "execute_result"
    }
   ],
   "source": [
    "# считаем conversion rate\n",
    "conversion_users['cr'] = conversion_users['goal_users'] / conversion_users['total_users']\n",
    "conversion_users"
   ]
  },
  {
   "cell_type": "markdown",
   "metadata": {},
   "source": [
    "На первый взгляд конверсия очень-очень близка, отличие в долях процента. Но не будем полагаться на первый взгляд, обопремся на статистику.\n",
    "\n",
    "Для проверки гипотезы различия конверсии у пользователей из разных источников используем z-критерий. \n",
    "\n",
    "За нулеваую гипотезу примем предположение, что доли для пользователей из разных источников равны. В этом случае разница между ними была бы равна нулю и, соответственно, z-критерий был бы равен нулю, а p_value = 1. Если p_value > альфа(0,05), считаем, что доли статистически не различаются. Посчитаем, как на самом деле."
   ]
  },
  {
   "cell_type": "code",
   "execution_count": 62,
   "metadata": {},
   "outputs": [
    {
     "name": "stdout",
     "output_type": "stream",
     "text": [
      "z_value = -0.2218487822311678\n",
      "Не получилось отвергнуть нулевую гипотезу, нет оснований считать доли разными\n"
     ]
    }
   ],
   "source": [
    "alpha = .05 # критический уровень статистической значимости\n",
    "\n",
    "purchases = np.array([275, 478])\n",
    "leads = np.array([1129, 1934])\n",
    "\n",
    "p1 = purchases[0] / leads[0]\n",
    "p2 = purchases[1] / leads[1]\n",
    "p_combined = (purchases[0] + purchases[1]) / (leads[0] + leads[1])\n",
    "z_value = (p1 - p2) / mth.sqrt(p_combined * (1 - p_combined) * (1/leads[0] + 1/leads[1]))\n",
    "distr = stats.norm(0, 1)\n",
    "p_value = (1 - distr.cdf(abs(z_value))) * 2\n",
    "print('z_value =', z_value)\n",
    "\n",
    "if (p_value < alpha):\n",
    "    print(\"Отвергаем нулевую гипотезу: между долями есть значимая разница\")\n",
    "else:\n",
    "    print(\"Не получилось отвергнуть нулевую гипотезу, нет оснований считать доли разными\")"
   ]
  },
  {
   "cell_type": "markdown",
   "metadata": {},
   "source": [
    "##### Что ж, первый порывв всегда самый правильный, различий в конверсии в просмотры контактов между теми пользователями, которые совершили установку приложения, прийдя с источника yandex и пользователя, совершившими установки, из источника google действительно нет."
   ]
  },
  {
   "cell_type": "code",
   "execution_count": null,
   "metadata": {},
   "outputs": [],
   "source": []
  }
 ],
 "metadata": {
  "kernelspec": {
   "display_name": "Python 3",
   "language": "python",
   "name": "python3"
  },
  "language_info": {
   "codemirror_mode": {
    "name": "ipython",
    "version": 3
   },
   "file_extension": ".py",
   "mimetype": "text/x-python",
   "name": "python",
   "nbconvert_exporter": "python",
   "pygments_lexer": "ipython3",
   "version": "3.7.4"
  }
 },
 "nbformat": 4,
 "nbformat_minor": 2
}
